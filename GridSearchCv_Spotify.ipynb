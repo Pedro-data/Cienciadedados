{
  "nbformat": 4,
  "nbformat_minor": 0,
  "metadata": {
    "kernelspec": {
      "display_name": "Python 3",
      "language": "python",
      "name": "python3"
    },
    "language_info": {
      "codemirror_mode": {
        "name": "ipython",
        "version": 3
      },
      "file_extension": ".py",
      "mimetype": "text/x-python",
      "name": "python",
      "nbconvert_exporter": "python",
      "pygments_lexer": "ipython3",
      "version": "3.7.6"
    },
    "papermill": {
      "duration": 2260.296029,
      "end_time": "2021-01-13T15:23:17.869961",
      "environment_variables": {},
      "exception": null,
      "input_path": "__notebook__.ipynb",
      "output_path": "__notebook__.ipynb",
      "parameters": {},
      "start_time": "2021-01-13T14:45:37.573932",
      "version": "2.1.0"
    },
    "colab": {
      "name": "GridSearchCv_Spotify.ipynb",
      "provenance": [],
      "collapsed_sections": []
    }
  },
  "cells": [
    {
      "cell_type": "markdown",
      "metadata": {
        "papermill": {
          "duration": 0.020424,
          "end_time": "2021-01-13T14:45:41.859113",
          "exception": false,
          "start_time": "2021-01-13T14:45:41.838689",
          "status": "completed"
        },
        "tags": [],
        "id": "PuQbojZDeg4K"
      },
      "source": [
        "# Predição do gênero musical com Machine Learning\n",
        "fonte: https://www.kaggle.com/mrmorj/dataset-of-songs-in-spotify\n",
        "\n",
        "Problema de negócio: a partir da variáveis do conjunto de dados, faça a clasificação do gênero musical\n",
        "\n"
      ]
    },
    {
      "cell_type": "code",
      "metadata": {
        "execution": {
          "iopub.execute_input": "2021-01-13T14:45:41.945239Z",
          "iopub.status.busy": "2021-01-13T14:45:41.944629Z",
          "iopub.status.idle": "2021-01-13T14:45:43.167197Z",
          "shell.execute_reply": "2021-01-13T14:45:43.166540Z"
        },
        "papermill": {
          "duration": 1.250227,
          "end_time": "2021-01-13T14:45:43.167315",
          "exception": false,
          "start_time": "2021-01-13T14:45:41.917088",
          "status": "completed"
        },
        "tags": [],
        "id": "VlV2mJ78eg4P"
      },
      "source": [
        "#Análise exploratória(EDA)\n",
        "import numpy as np\n",
        "import pandas as pd\n",
        "import matplotlib.pyplot as plt\n",
        "import seaborn as sns\n",
        "%matplotlib inline \n",
        "#Modelos de classificação\n",
        "from sklearn.linear_model import LogisticRegression\n",
        "from sklearn.neighbors import KNeighborsClassifier\n",
        "from sklearn.ensemble import RandomForestClassifier\n",
        "#Modelos de avaliação/seleção de features\n",
        "from sklearn.model_selection import train_test_split\n",
        "from sklearn.model_selection import GridSearchCV, RandomizedSearchCV"
      ],
      "execution_count": 2,
      "outputs": []
    },
    {
      "cell_type": "markdown",
      "metadata": {
        "papermill": {
          "duration": 0.019221,
          "end_time": "2021-01-13T14:45:43.206362",
          "exception": false,
          "start_time": "2021-01-13T14:45:43.187141",
          "status": "completed"
        },
        "tags": [],
        "id": "4KfhY8lXeg4P"
      },
      "source": [
        "## Load data"
      ]
    },
    {
      "cell_type": "code",
      "metadata": {
        "execution": {
          "iopub.execute_input": "2021-01-13T14:45:43.258390Z",
          "iopub.status.busy": "2021-01-13T14:45:43.257803Z",
          "iopub.status.idle": "2021-01-13T14:45:43.842531Z",
          "shell.execute_reply": "2021-01-13T14:45:43.842073Z"
        },
        "papermill": {
          "duration": 0.616525,
          "end_time": "2021-01-13T14:45:43.842667",
          "exception": false,
          "start_time": "2021-01-13T14:45:43.226142",
          "status": "completed"
        },
        "tags": [],
        "colab": {
          "base_uri": "https://localhost:8080/",
          "height": 360
        },
        "id": "rgJSFVGLeg4P",
        "outputId": "ae959eb1-1fc3-43a5-90ea-68a89809fff4"
      },
      "source": [
        "data=pd.read_csv(\"genres_v2.csv\")\n",
        "data.head()"
      ],
      "execution_count": 3,
      "outputs": [
        {
          "output_type": "execute_result",
          "data": {
            "text/html": [
              "<div>\n",
              "<style scoped>\n",
              "    .dataframe tbody tr th:only-of-type {\n",
              "        vertical-align: middle;\n",
              "    }\n",
              "\n",
              "    .dataframe tbody tr th {\n",
              "        vertical-align: top;\n",
              "    }\n",
              "\n",
              "    .dataframe thead th {\n",
              "        text-align: right;\n",
              "    }\n",
              "</style>\n",
              "<table border=\"1\" class=\"dataframe\">\n",
              "  <thead>\n",
              "    <tr style=\"text-align: right;\">\n",
              "      <th></th>\n",
              "      <th>danceability</th>\n",
              "      <th>energy</th>\n",
              "      <th>key</th>\n",
              "      <th>loudness</th>\n",
              "      <th>mode</th>\n",
              "      <th>speechiness</th>\n",
              "      <th>acousticness</th>\n",
              "      <th>instrumentalness</th>\n",
              "      <th>liveness</th>\n",
              "      <th>valence</th>\n",
              "      <th>tempo</th>\n",
              "      <th>type</th>\n",
              "      <th>id</th>\n",
              "      <th>uri</th>\n",
              "      <th>track_href</th>\n",
              "      <th>analysis_url</th>\n",
              "      <th>duration_ms</th>\n",
              "      <th>time_signature</th>\n",
              "      <th>genre</th>\n",
              "      <th>song_name</th>\n",
              "      <th>Unnamed: 0</th>\n",
              "      <th>title</th>\n",
              "    </tr>\n",
              "  </thead>\n",
              "  <tbody>\n",
              "    <tr>\n",
              "      <th>0</th>\n",
              "      <td>0.831</td>\n",
              "      <td>0.814</td>\n",
              "      <td>2</td>\n",
              "      <td>-7.364</td>\n",
              "      <td>1</td>\n",
              "      <td>0.4200</td>\n",
              "      <td>0.0598</td>\n",
              "      <td>0.013400</td>\n",
              "      <td>0.0556</td>\n",
              "      <td>0.3890</td>\n",
              "      <td>156.985</td>\n",
              "      <td>audio_features</td>\n",
              "      <td>2Vc6NJ9PW9gD9q343XFRKx</td>\n",
              "      <td>spotify:track:2Vc6NJ9PW9gD9q343XFRKx</td>\n",
              "      <td>https://api.spotify.com/v1/tracks/2Vc6NJ9PW9gD...</td>\n",
              "      <td>https://api.spotify.com/v1/audio-analysis/2Vc6...</td>\n",
              "      <td>124539.0</td>\n",
              "      <td>4.0</td>\n",
              "      <td>Dark Trap</td>\n",
              "      <td>Mercury: Retrograde</td>\n",
              "      <td>NaN</td>\n",
              "      <td>NaN</td>\n",
              "    </tr>\n",
              "    <tr>\n",
              "      <th>1</th>\n",
              "      <td>0.719</td>\n",
              "      <td>0.493</td>\n",
              "      <td>8</td>\n",
              "      <td>-7.230</td>\n",
              "      <td>1</td>\n",
              "      <td>0.0794</td>\n",
              "      <td>0.4010</td>\n",
              "      <td>0.000000</td>\n",
              "      <td>0.1180</td>\n",
              "      <td>0.1240</td>\n",
              "      <td>115.080</td>\n",
              "      <td>audio_features</td>\n",
              "      <td>7pgJBLVz5VmnL7uGHmRj6p</td>\n",
              "      <td>spotify:track:7pgJBLVz5VmnL7uGHmRj6p</td>\n",
              "      <td>https://api.spotify.com/v1/tracks/7pgJBLVz5Vmn...</td>\n",
              "      <td>https://api.spotify.com/v1/audio-analysis/7pgJ...</td>\n",
              "      <td>224427.0</td>\n",
              "      <td>4.0</td>\n",
              "      <td>Dark Trap</td>\n",
              "      <td>Pathology</td>\n",
              "      <td>NaN</td>\n",
              "      <td>NaN</td>\n",
              "    </tr>\n",
              "    <tr>\n",
              "      <th>2</th>\n",
              "      <td>0.850</td>\n",
              "      <td>0.893</td>\n",
              "      <td>5</td>\n",
              "      <td>-4.783</td>\n",
              "      <td>1</td>\n",
              "      <td>0.0623</td>\n",
              "      <td>0.0138</td>\n",
              "      <td>0.000004</td>\n",
              "      <td>0.3720</td>\n",
              "      <td>0.0391</td>\n",
              "      <td>218.050</td>\n",
              "      <td>audio_features</td>\n",
              "      <td>0vSWgAlfpye0WCGeNmuNhy</td>\n",
              "      <td>spotify:track:0vSWgAlfpye0WCGeNmuNhy</td>\n",
              "      <td>https://api.spotify.com/v1/tracks/0vSWgAlfpye0...</td>\n",
              "      <td>https://api.spotify.com/v1/audio-analysis/0vSW...</td>\n",
              "      <td>98821.0</td>\n",
              "      <td>4.0</td>\n",
              "      <td>Dark Trap</td>\n",
              "      <td>Symbiote</td>\n",
              "      <td>NaN</td>\n",
              "      <td>NaN</td>\n",
              "    </tr>\n",
              "    <tr>\n",
              "      <th>3</th>\n",
              "      <td>0.476</td>\n",
              "      <td>0.781</td>\n",
              "      <td>0</td>\n",
              "      <td>-4.710</td>\n",
              "      <td>1</td>\n",
              "      <td>0.1030</td>\n",
              "      <td>0.0237</td>\n",
              "      <td>0.000000</td>\n",
              "      <td>0.1140</td>\n",
              "      <td>0.1750</td>\n",
              "      <td>186.948</td>\n",
              "      <td>audio_features</td>\n",
              "      <td>0VSXnJqQkwuH2ei1nOQ1nu</td>\n",
              "      <td>spotify:track:0VSXnJqQkwuH2ei1nOQ1nu</td>\n",
              "      <td>https://api.spotify.com/v1/tracks/0VSXnJqQkwuH...</td>\n",
              "      <td>https://api.spotify.com/v1/audio-analysis/0VSX...</td>\n",
              "      <td>123661.0</td>\n",
              "      <td>3.0</td>\n",
              "      <td>Dark Trap</td>\n",
              "      <td>ProductOfDrugs (Prod. The Virus and Antidote)</td>\n",
              "      <td>NaN</td>\n",
              "      <td>NaN</td>\n",
              "    </tr>\n",
              "    <tr>\n",
              "      <th>4</th>\n",
              "      <td>0.798</td>\n",
              "      <td>0.624</td>\n",
              "      <td>2</td>\n",
              "      <td>-7.668</td>\n",
              "      <td>1</td>\n",
              "      <td>0.2930</td>\n",
              "      <td>0.2170</td>\n",
              "      <td>0.000000</td>\n",
              "      <td>0.1660</td>\n",
              "      <td>0.5910</td>\n",
              "      <td>147.988</td>\n",
              "      <td>audio_features</td>\n",
              "      <td>4jCeguq9rMTlbMmPHuO7S3</td>\n",
              "      <td>spotify:track:4jCeguq9rMTlbMmPHuO7S3</td>\n",
              "      <td>https://api.spotify.com/v1/tracks/4jCeguq9rMTl...</td>\n",
              "      <td>https://api.spotify.com/v1/audio-analysis/4jCe...</td>\n",
              "      <td>123298.0</td>\n",
              "      <td>4.0</td>\n",
              "      <td>Dark Trap</td>\n",
              "      <td>Venom</td>\n",
              "      <td>NaN</td>\n",
              "      <td>NaN</td>\n",
              "    </tr>\n",
              "  </tbody>\n",
              "</table>\n",
              "</div>"
            ],
            "text/plain": [
              "   danceability  energy  ...  Unnamed: 0  title\n",
              "0         0.831   0.814  ...         NaN    NaN\n",
              "1         0.719   0.493  ...         NaN    NaN\n",
              "2         0.850   0.893  ...         NaN    NaN\n",
              "3         0.476   0.781  ...         NaN    NaN\n",
              "4         0.798   0.624  ...         NaN    NaN\n",
              "\n",
              "[5 rows x 22 columns]"
            ]
          },
          "metadata": {
            "tags": []
          },
          "execution_count": 3
        }
      ]
    },
    {
      "cell_type": "code",
      "metadata": {
        "execution": {
          "iopub.execute_input": "2021-01-13T14:45:43.889409Z",
          "iopub.status.busy": "2021-01-13T14:45:43.888846Z",
          "iopub.status.idle": "2021-01-13T14:45:43.891825Z",
          "shell.execute_reply": "2021-01-13T14:45:43.892259Z"
        },
        "papermill": {
          "duration": 0.028945,
          "end_time": "2021-01-13T14:45:43.892386",
          "exception": false,
          "start_time": "2021-01-13T14:45:43.863441",
          "status": "completed"
        },
        "tags": [],
        "colab": {
          "base_uri": "https://localhost:8080/"
        },
        "id": "TLE_pV4beg4Q",
        "outputId": "cc2c0fd8-0e82-46ca-ebed-14c3252d401f"
      },
      "source": [
        "#Tamanho do conjunto de cados(Linhas, colunas)\n",
        "data.shape"
      ],
      "execution_count": 4,
      "outputs": [
        {
          "output_type": "execute_result",
          "data": {
            "text/plain": [
              "(22880, 22)"
            ]
          },
          "metadata": {
            "tags": []
          },
          "execution_count": 4
        }
      ]
    },
    {
      "cell_type": "code",
      "metadata": {
        "execution": {
          "iopub.execute_input": "2021-01-13T14:45:43.998399Z",
          "iopub.status.busy": "2021-01-13T14:45:43.997808Z",
          "iopub.status.idle": "2021-01-13T14:45:44.008084Z",
          "shell.execute_reply": "2021-01-13T14:45:44.008524Z"
        },
        "papermill": {
          "duration": 0.034708,
          "end_time": "2021-01-13T14:45:44.008714",
          "exception": false,
          "start_time": "2021-01-13T14:45:43.974006",
          "status": "completed"
        },
        "tags": [],
        "colab": {
          "base_uri": "https://localhost:8080/"
        },
        "id": "ltjJRjMJeg4R",
        "outputId": "e59903b4-1274-43e9-c1ef-438dc81cb348"
      },
      "source": [
        "#Análise do target, ou seja variável a ser predita\n",
        "data[\"genre\"].value_counts()"
      ],
      "execution_count": 5,
      "outputs": [
        {
          "output_type": "execute_result",
          "data": {
            "text/plain": [
              "Underground Rap    5875\n",
              "Dark Trap          4578\n",
              "Hiphop             3028\n",
              "RnB                2099\n",
              "Trap Metal         1956\n",
              "Rap                1848\n",
              "Emo                1680\n",
              "techhouse          1354\n",
              "Pop                 461\n",
              "Name: genre, dtype: int64"
            ]
          },
          "metadata": {
            "tags": []
          },
          "execution_count": 5
        }
      ]
    },
    {
      "cell_type": "code",
      "metadata": {
        "execution": {
          "iopub.execute_input": "2021-01-13T14:45:44.055059Z",
          "iopub.status.busy": "2021-01-13T14:45:44.054439Z",
          "iopub.status.idle": "2021-01-13T14:45:44.284085Z",
          "shell.execute_reply": "2021-01-13T14:45:44.283565Z"
        },
        "papermill": {
          "duration": 0.253758,
          "end_time": "2021-01-13T14:45:44.284211",
          "exception": false,
          "start_time": "2021-01-13T14:45:44.030453",
          "status": "completed"
        },
        "tags": [],
        "colab": {
          "base_uri": "https://localhost:8080/",
          "height": 281
        },
        "id": "EwhpJjN_eg4R",
        "outputId": "b9bc2319-51c0-4906-f69a-f114d8eca5f1"
      },
      "source": [
        "#De forma mais visual todos os Gêneros\n",
        "data[\"genre\"].value_counts().plot(kind=\"barh\",color=[\"blue\"],title=\"Gêneros\");"
      ],
      "execution_count": 6,
      "outputs": [
        {
          "output_type": "display_data",
          "data": {
            "image/png": "[encoded data removed]",
            "text/plain": [
              "<Figure size 432x288 with 1 Axes>"
            ]
          },
          "metadata": {
            "tags": [],
            "needs_background": "light"
          }
        }
      ]
    },
    {
      "cell_type": "code",
      "metadata": {
        "execution": {
          "iopub.execute_input": "2021-01-13T14:45:44.334794Z",
          "iopub.status.busy": "2021-01-13T14:45:44.334126Z",
          "iopub.status.idle": "2021-01-13T14:45:44.357557Z",
          "shell.execute_reply": "2021-01-13T14:45:44.357070Z"
        },
        "papermill": {
          "duration": 0.050722,
          "end_time": "2021-01-13T14:45:44.357701",
          "exception": false,
          "start_time": "2021-01-13T14:45:44.306979",
          "status": "completed"
        },
        "tags": [],
        "colab": {
          "base_uri": "https://localhost:8080/"
        },
        "id": "GakUw2dBeg4R",
        "outputId": "c7d5c6cb-c252-498a-f6f7-3c03a55baee6"
      },
      "source": [
        "#Verificando valores ausentes, missing values\n",
        "data.isna().sum()"
      ],
      "execution_count": 7,
      "outputs": [
        {
          "output_type": "execute_result",
          "data": {
            "text/plain": [
              "danceability            0\n",
              "energy                  0\n",
              "key                     0\n",
              "loudness                0\n",
              "mode                    0\n",
              "speechiness             0\n",
              "acousticness            0\n",
              "instrumentalness        0\n",
              "liveness                0\n",
              "valence                 0\n",
              "tempo                   0\n",
              "type                    0\n",
              "id                      0\n",
              "uri                     0\n",
              "track_href              0\n",
              "analysis_url            1\n",
              "duration_ms             1\n",
              "time_signature          1\n",
              "genre                   1\n",
              "song_name            1361\n",
              "Unnamed: 0          21526\n",
              "title               21526\n",
              "dtype: int64"
            ]
          },
          "metadata": {
            "tags": []
          },
          "execution_count": 7
        }
      ]
    },
    {
      "cell_type": "code",
      "metadata": {
        "execution": {
          "iopub.execute_input": "2021-01-13T14:45:44.456765Z",
          "iopub.status.busy": "2021-01-13T14:45:44.456166Z",
          "iopub.status.idle": "2021-01-13T14:45:44.461042Z",
          "shell.execute_reply": "2021-01-13T14:45:44.460436Z"
        },
        "papermill": {
          "duration": 0.033996,
          "end_time": "2021-01-13T14:45:44.461153",
          "exception": false,
          "start_time": "2021-01-13T14:45:44.427157",
          "status": "completed"
        },
        "tags": [],
        "colab": {
          "base_uri": "https://localhost:8080/"
        },
        "id": "0FTUelYBeg4S",
        "outputId": "cae12926-53af-4567-a17b-75931fb7cb20"
      },
      "source": [
        "#Tipos de dados do dataframe\n",
        "data.dtypes"
      ],
      "execution_count": 8,
      "outputs": [
        {
          "output_type": "execute_result",
          "data": {
            "text/plain": [
              "danceability        float64\n",
              "energy              float64\n",
              "key                   int64\n",
              "loudness            float64\n",
              "mode                  int64\n",
              "speechiness         float64\n",
              "acousticness        float64\n",
              "instrumentalness    float64\n",
              "liveness            float64\n",
              "valence             float64\n",
              "tempo               float64\n",
              "type                 object\n",
              "id                   object\n",
              "uri                  object\n",
              "track_href           object\n",
              "analysis_url         object\n",
              "duration_ms         float64\n",
              "time_signature      float64\n",
              "genre                object\n",
              "song_name            object\n",
              "Unnamed: 0          float64\n",
              "title                object\n",
              "dtype: object"
            ]
          },
          "metadata": {
            "tags": []
          },
          "execution_count": 8
        }
      ]
    },
    {
      "cell_type": "code",
      "metadata": {
        "execution": {
          "iopub.execute_input": "2021-01-13T14:45:44.511753Z",
          "iopub.status.busy": "2021-01-13T14:45:44.510786Z",
          "iopub.status.idle": "2021-01-13T14:45:45.447986Z",
          "shell.execute_reply": "2021-01-13T14:45:45.448472Z"
        },
        "papermill": {
          "duration": 0.963982,
          "end_time": "2021-01-13T14:45:45.448622",
          "exception": false,
          "start_time": "2021-01-13T14:45:44.484640",
          "status": "completed"
        },
        "tags": [],
        "colab": {
          "base_uri": "https://localhost:8080/",
          "height": 672
        },
        "id": "S78Iicu2eg4S",
        "outputId": "5caf46fc-a361-4c6e-b7f4-a2cb65f5352b"
      },
      "source": [
        "#Plotando mtriz de correlação entre as váriaveis\n",
        "corr_matrix=data.corr()\n",
        "fig,ax=plt.subplots(figsize=(15,10))\n",
        "ax=sns.heatmap(corr_matrix,\n",
        "              annot=True,\n",
        "              linewidths=0.5,\n",
        "              fmt=\".2f\",\n",
        "              cmap=\"YlGnBu\");"
      ],
      "execution_count": 9,
      "outputs": [
        {
          "output_type": "display_data",
          "data": {
            "image/png": "[encoded data removed]",
            "text/plain": [
              "<Figure size 1080x720 with 2 Axes>"
            ]
          },
          "metadata": {
            "tags": [],
            "needs_background": "light"
          }
        }
      ]
    },
    {
      "cell_type": "markdown",
      "metadata": {
        "papermill": {
          "duration": 0.026245,
          "end_time": "2021-01-13T14:45:45.501161",
          "exception": false,
          "start_time": "2021-01-13T14:45:45.474916",
          "status": "completed"
        },
        "tags": [],
        "id": "5IZfed3Meg4S"
      },
      "source": [
        "## Tratamento dos dados"
      ]
    },
    {
      "cell_type": "code",
      "metadata": {
        "execution": {
          "iopub.execute_input": "2021-01-13T14:45:45.558184Z",
          "iopub.status.busy": "2021-01-13T14:45:45.557247Z",
          "iopub.status.idle": "2021-01-13T14:45:45.569214Z",
          "shell.execute_reply": "2021-01-13T14:45:45.569676Z"
        },
        "papermill": {
          "duration": 0.042397,
          "end_time": "2021-01-13T14:45:45.569819",
          "exception": false,
          "start_time": "2021-01-13T14:45:45.527422",
          "status": "completed"
        },
        "tags": [],
        "colab": {
          "base_uri": "https://localhost:8080/"
        },
        "id": "V0q-YL_Yeg4T",
        "outputId": "bf1b2145-ac7d-4ace-e2e4-b93b79f45cbf"
      },
      "source": [
        "#Excluindo as colunas não necessárias para o modelo\n",
        "num_data=data.drop([\"title\",\"Unnamed: 0\",\"song_name\",\"analysis_url\",\"track_href\",\"uri\",\"id\",\"type\"],axis=1) #drop all non-numeric columns\n",
        "#Separando as váriaveis, onde em X serão alocadas as variáveis preditoras e y será variável resposta\n",
        "X=num_data.drop(\"genre\",axis=1)\n",
        "y=num_data[\"genre\"]\n",
        "X.dtypes"
      ],
      "execution_count": 10,
      "outputs": [
        {
          "output_type": "execute_result",
          "data": {
            "text/plain": [
              "danceability        float64\n",
              "energy              float64\n",
              "key                   int64\n",
              "loudness            float64\n",
              "mode                  int64\n",
              "speechiness         float64\n",
              "acousticness        float64\n",
              "instrumentalness    float64\n",
              "liveness            float64\n",
              "valence             float64\n",
              "tempo               float64\n",
              "duration_ms         float64\n",
              "time_signature      float64\n",
              "dtype: object"
            ]
          },
          "metadata": {
            "tags": []
          },
          "execution_count": 10
        }
      ]
    },
    {
      "cell_type": "code",
      "metadata": {
        "id": "-JodxKiAzmLJ"
      },
      "source": [
        "X.dropna(inplace=True)"
      ],
      "execution_count": 11,
      "outputs": []
    },
    {
      "cell_type": "code",
      "metadata": {
        "colab": {
          "base_uri": "https://localhost:8080/"
        },
        "id": "RBl_y--4oIJt",
        "outputId": "277ddc63-5adb-49d2-ec16-300ee30d32ea"
      },
      "source": [
        "X.isnull().sum()"
      ],
      "execution_count": 12,
      "outputs": [
        {
          "output_type": "execute_result",
          "data": {
            "text/plain": [
              "danceability        0\n",
              "energy              0\n",
              "key                 0\n",
              "loudness            0\n",
              "mode                0\n",
              "speechiness         0\n",
              "acousticness        0\n",
              "instrumentalness    0\n",
              "liveness            0\n",
              "valence             0\n",
              "tempo               0\n",
              "duration_ms         0\n",
              "time_signature      0\n",
              "dtype: int64"
            ]
          },
          "metadata": {
            "tags": []
          },
          "execution_count": 12
        }
      ]
    },
    {
      "cell_type": "code",
      "metadata": {
        "colab": {
          "base_uri": "https://localhost:8080/"
        },
        "id": "2GYFZCsUBLTp",
        "outputId": "f7ee6497-197f-44b6-8cbe-c961cc18ecd1"
      },
      "source": [
        "y.isnull().sum()"
      ],
      "execution_count": 13,
      "outputs": [
        {
          "output_type": "execute_result",
          "data": {
            "text/plain": [
              "1"
            ]
          },
          "metadata": {
            "tags": []
          },
          "execution_count": 13
        }
      ]
    },
    {
      "cell_type": "code",
      "metadata": {
        "id": "tUxJ4SPcBR1P"
      },
      "source": [
        "y.dropna(inplace=True)"
      ],
      "execution_count": 14,
      "outputs": []
    },
    {
      "cell_type": "code",
      "metadata": {
        "execution": {
          "iopub.execute_input": "2021-01-13T14:45:45.626344Z",
          "iopub.status.busy": "2021-01-13T14:45:45.625388Z",
          "iopub.status.idle": "2021-01-13T14:45:45.642202Z",
          "shell.execute_reply": "2021-01-13T14:45:45.642643Z"
        },
        "papermill": {
          "duration": 0.046651,
          "end_time": "2021-01-13T14:45:45.642791",
          "exception": false,
          "start_time": "2021-01-13T14:45:45.596140",
          "status": "completed"
        },
        "tags": [],
        "id": "GLKqYUpJeg4T"
      },
      "source": [
        "#Separando dados de treino e teste para o modelo\n",
        "X_train,X_test,y_train,y_test=train_test_split(X,y,test_size=0.3,random_state=1)"
      ],
      "execution_count": 15,
      "outputs": []
    },
    {
      "cell_type": "code",
      "metadata": {
        "execution": {
          "iopub.execute_input": "2021-01-13T14:45:45.754444Z",
          "iopub.status.busy": "2021-01-13T14:45:45.753506Z",
          "iopub.status.idle": "2021-01-13T14:45:45.760067Z",
          "shell.execute_reply": "2021-01-13T14:45:45.760488Z"
        },
        "papermill": {
          "duration": 0.036759,
          "end_time": "2021-01-13T14:45:45.760644",
          "exception": false,
          "start_time": "2021-01-13T14:45:45.723885",
          "status": "completed"
        },
        "tags": [],
        "id": "9qZ1tmHfeg4T"
      },
      "source": [
        "#Criando dicionário com os mdelos q serem avaliados\n",
        "models={\"LogReg\":LogisticRegression(),\n",
        "       \"KNN\":KNeighborsClassifier(),\n",
        "       \"Random Forest\":RandomForestClassifier()}\n",
        "#Função de treino e avaliação do modelo\n",
        "def fit_and_score (models,X_train,X_test,y_train,y_test):\n",
        "    \"\"\"\n",
        "    Essa função recebe os modelos e os dados de treino e teste, cada modelo é treinado e posteriormente pegamos o score passados dados de teste.\n",
        "  \n",
        "    \"\"\"\n",
        "    np.random.seed(1) #Controle de aleatóriedade para o modelo use sempre os mesmos dados dados de treino e teste, semelhante ao random_state=1\n",
        "    model_scores={} \n",
        "    for name , model in models.items():\n",
        "        model.fit(X_train,y_train)\n",
        "        model_scores[name]=model.score(X_test,y_test)\n",
        "    return model_scores"
      ],
      "execution_count": 16,
      "outputs": []
    },
    {
      "cell_type": "code",
      "metadata": {
        "execution": {
          "iopub.execute_input": "2021-01-13T14:45:45.817869Z",
          "iopub.status.busy": "2021-01-13T14:45:45.816942Z",
          "iopub.status.idle": "2021-01-13T14:46:00.685882Z",
          "shell.execute_reply": "2021-01-13T14:46:00.685220Z"
        },
        "papermill": {
          "duration": 14.898603,
          "end_time": "2021-01-13T14:46:00.685991",
          "exception": false,
          "start_time": "2021-01-13T14:45:45.787388",
          "status": "completed"
        },
        "tags": [],
        "colab": {
          "base_uri": "https://localhost:8080/"
        },
        "id": "H6rMegnfeg4T",
        "outputId": "86b71747-2c77-4178-c5e5-fdc78822d814"
      },
      "source": [
        "model_scores=fit_and_score(models=models,X_train=X_train,X_test=X_test,y_train=y_train,y_test=y_test)\n",
        "model_scores"
      ],
      "execution_count": 17,
      "outputs": [
        {
          "output_type": "execute_result",
          "data": {
            "text/plain": [
              "{'KNN': 0.23601398601398602,\n",
              " 'LogReg': 0.2789918414918415,\n",
              " 'Random Forest': 0.4865967365967366}"
            ]
          },
          "metadata": {
            "tags": []
          },
          "execution_count": 17
        }
      ]
    },
    {
      "cell_type": "markdown",
      "metadata": {
        "papermill": {
          "duration": 0.026475,
          "end_time": "2021-01-13T14:46:00.739477",
          "exception": false,
          "start_time": "2021-01-13T14:46:00.713002",
          "status": "completed"
        },
        "tags": [],
        "id": "orPJsIWIeg4U"
      },
      "source": [
        "## Comparando score dos modelos"
      ]
    },
    {
      "cell_type": "code",
      "metadata": {
        "execution": {
          "iopub.execute_input": "2021-01-13T14:46:00.808578Z",
          "iopub.status.busy": "2021-01-13T14:46:00.805032Z",
          "iopub.status.idle": "2021-01-13T14:46:00.964830Z",
          "shell.execute_reply": "2021-01-13T14:46:00.965700Z"
        },
        "papermill": {
          "duration": 0.197143,
          "end_time": "2021-01-13T14:46:00.965914",
          "exception": false,
          "start_time": "2021-01-13T14:46:00.768771",
          "status": "completed"
        },
        "tags": [],
        "colab": {
          "base_uri": "https://localhost:8080/",
          "height": 265
        },
        "id": "tYad13d-eg4U",
        "outputId": "cb2bcb63-f699-4fd8-d27d-bf8b0e5e431f"
      },
      "source": [
        "model_compare=pd.DataFrame(model_scores,index=[\"Accuracy\"])\n",
        "model_compare.T.plot.barh();"
      ],
      "execution_count": 18,
      "outputs": [
        {
          "output_type": "display_data",
          "data": {
            "image/png": "[encoded data removed]",
            "text/plain": [
              "<Figure size 432x288 with 1 Axes>"
            ]
          },
          "metadata": {
            "tags": [],
            "needs_background": "light"
          }
        }
      ]
    },
    {
      "cell_type": "markdown",
      "metadata": {
        "id": "B5HRjtAvIyv1"
      },
      "source": [
        "Escolhendo os melhores parâmetros para o modelo\r\n",
        "\r\n",
        "---\r\n",
        "\r\n"
      ]
    },
    {
      "cell_type": "code",
      "metadata": {
        "id": "CfQMutqlae4G"
      },
      "source": [
        "# Numero de árvores\r\n",
        "n_estimators = [int(x) for x in np.linspace(start = 10, stop = 80, num = 5)] #3 valores de estimadores, começando com 10 e terminando com 40\r\n",
        "# Número de máximo de características a serem utilizadas pelo algoritmo\r\n",
        "max_features = ['auto', 'sqrt', 'log2']\r\n",
        "# Produndidade máxima da árvore\r\n",
        "max_depth = [3, 5, 9]\r\n",
        "# Número minio de amostras para cada nó\r\n",
        "min_samples_split = np.arange(2,10,2)\r\n",
        "# Número minimo de folha da árvore\r\n",
        "min_samples_leaf = np.arange(1,10,2)\r\n",
        "# Método de seleção de amostras\r\n",
        "bootstrap = [True, False]"
      ],
      "execution_count": 43,
      "outputs": []
    },
    {
      "cell_type": "code",
      "metadata": {
        "id": "blhbHRaDNZAF"
      },
      "source": [
        "# Dicionário com os parâmetros\r\n",
        "param_grid = {'n_estimators': n_estimators,\r\n",
        "               'max_features': max_features,\r\n",
        "               'max_depth': max_depth,\r\n",
        "               'min_samples_split': min_samples_split,\r\n",
        "               'min_samples_leaf': min_samples_leaf,\r\n",
        "               'bootstrap': bootstrap}"
      ],
      "execution_count": 44,
      "outputs": []
    },
    {
      "cell_type": "markdown",
      "metadata": {
        "id": "hQp2ovMHRKDp"
      },
      "source": [
        "## Sobre o GridSearchCV\r\n",
        "Basicamente o GridSearchCV faz pesquisa \"exaustiva\" sobre valores de parâmetros para um modelo.\r\n",
        "\r\n",
        "Os parâmetros do modelo usados ​​para aplicar esses métodos são otimizados por uma pesquisa em grade validada cruzada(cv) em uma grade de parâmetros."
      ]
    },
    {
      "cell_type": "code",
      "metadata": {
        "id": "ySCocXnUORiG"
      },
      "source": [
        "# Passando os parâmetros para o GriSearchCV\r\n",
        "rf_Grid = GridSearchCV(estimator = models[\"Random Forest\"], param_grid = param_grid, cv = 3, verbose=2, n_jobs = 4)"
      ],
      "execution_count": 45,
      "outputs": []
    },
    {
      "cell_type": "code",
      "metadata": {
        "id": "n2HxrxrRPcr9",
        "colab": {
          "base_uri": "https://localhost:8080/"
        },
        "outputId": "a130b7d9-dd10-4ba4-f672-b823d8dfdea4"
      },
      "source": [
        "#Treinando\r\n",
        "rf_Grid.fit(X_train, y_train)"
      ],
      "execution_count": 46,
      "outputs": [
        {
          "output_type": "stream",
          "text": [
            "Fitting 3 folds for each of 1800 candidates, totalling 5400 fits\n"
          ],
          "name": "stdout"
        },
        {
          "output_type": "stream",
          "text": [
            "[Parallel(n_jobs=4)]: Using backend LokyBackend with 4 concurrent workers.\n",
            "[Parallel(n_jobs=4)]: Done  33 tasks      | elapsed:   13.0s\n",
            "[Parallel(n_jobs=4)]: Done 154 tasks      | elapsed:   53.0s\n",
            "[Parallel(n_jobs=4)]: Done 357 tasks      | elapsed:  2.0min\n",
            "[Parallel(n_jobs=4)]: Done 640 tasks      | elapsed:  3.5min\n",
            "[Parallel(n_jobs=4)]: Done 1005 tasks      | elapsed:  5.7min\n",
            "[Parallel(n_jobs=4)]: Done 1450 tasks      | elapsed:  9.0min\n",
            "[Parallel(n_jobs=4)]: Done 1977 tasks      | elapsed: 13.7min\n",
            "[Parallel(n_jobs=4)]: Done 2584 tasks      | elapsed: 20.5min\n",
            "[Parallel(n_jobs=4)]: Done 3273 tasks      | elapsed: 25.5min\n",
            "[Parallel(n_jobs=4)]: Done 4042 tasks      | elapsed: 31.8min\n",
            "[Parallel(n_jobs=4)]: Done 4893 tasks      | elapsed: 42.2min\n",
            "[Parallel(n_jobs=4)]: Done 5400 out of 5400 | elapsed: 50.1min finished\n"
          ],
          "name": "stderr"
        },
        {
          "output_type": "execute_result",
          "data": {
            "text/plain": [
              "GridSearchCV(cv=3, error_score=nan,\n",
              "             estimator=RandomForestClassifier(bootstrap=True, ccp_alpha=0.0,\n",
              "                                              class_weight=None,\n",
              "                                              criterion='gini', max_depth=None,\n",
              "                                              max_features='auto',\n",
              "                                              max_leaf_nodes=None,\n",
              "                                              max_samples=None,\n",
              "                                              min_impurity_decrease=0.0,\n",
              "                                              min_impurity_split=None,\n",
              "                                              min_samples_leaf=1,\n",
              "                                              min_samples_split=2,\n",
              "                                              min_weight_fraction_leaf=0.0,\n",
              "                                              n_estimators=100, n_jobs=None,...\n",
              "                                              random_state=None, verbose=0,\n",
              "                                              warm_start=False),\n",
              "             iid='deprecated', n_jobs=4,\n",
              "             param_grid={'bootstrap': [True, False], 'max_depth': [3, 5, 9],\n",
              "                         'max_features': ['auto', 'sqrt', 'log2'],\n",
              "                         'min_samples_leaf': array([1, 3, 5, 7, 9]),\n",
              "                         'min_samples_split': array([2, 4, 6, 8]),\n",
              "                         'n_estimators': [10, 27, 45, 62, 80]},\n",
              "             pre_dispatch='2*n_jobs', refit=True, return_train_score=False,\n",
              "             scoring=None, verbose=2)"
            ]
          },
          "metadata": {
            "tags": []
          },
          "execution_count": 46
        }
      ]
    },
    {
      "cell_type": "code",
      "metadata": {
        "colab": {
          "base_uri": "https://localhost:8080/"
        },
        "id": "3-zNUDKCbLpV",
        "outputId": "3f55990d-3fdb-4efa-c099-f758e7895fee"
      },
      "source": [
        "rf_Grid.best_params_"
      ],
      "execution_count": 47,
      "outputs": [
        {
          "output_type": "execute_result",
          "data": {
            "text/plain": [
              "{'bootstrap': True,\n",
              " 'max_depth': 9,\n",
              " 'max_features': 'sqrt',\n",
              " 'min_samples_leaf': 7,\n",
              " 'min_samples_split': 8,\n",
              " 'n_estimators': 80}"
            ]
          },
          "metadata": {
            "tags": []
          },
          "execution_count": 47
        }
      ]
    },
    {
      "cell_type": "code",
      "metadata": {
        "colab": {
          "base_uri": "https://localhost:8080/"
        },
        "id": "0A7o8mNybSz-",
        "outputId": "4c724e63-8c61-4985-e66e-21815b3182d0"
      },
      "source": [
        "clf = RandomForestClassifier(bootstrap = True,\r\n",
        "                             max_depth = 9, \r\n",
        "                             max_features = 'sqrt', \r\n",
        "                             min_samples_leaf = 7, \r\n",
        "                             min_samples_split = 8, \r\n",
        "                             n_estimators = 80, random_state=42)\r\n",
        "clf.fit(X_train,y_train)"
      ],
      "execution_count": 48,
      "outputs": [
        {
          "output_type": "execute_result",
          "data": {
            "text/plain": [
              "RandomForestClassifier(bootstrap=True, ccp_alpha=0.0, class_weight=None,\n",
              "                       criterion='gini', max_depth=9, max_features='sqrt',\n",
              "                       max_leaf_nodes=None, max_samples=None,\n",
              "                       min_impurity_decrease=0.0, min_impurity_split=None,\n",
              "                       min_samples_leaf=7, min_samples_split=8,\n",
              "                       min_weight_fraction_leaf=0.0, n_estimators=80,\n",
              "                       n_jobs=None, oob_score=False, random_state=42, verbose=0,\n",
              "                       warm_start=False)"
            ]
          },
          "metadata": {
            "tags": []
          },
          "execution_count": 48
        }
      ]
    },
    {
      "cell_type": "code",
      "metadata": {
        "colab": {
          "base_uri": "https://localhost:8080/"
        },
        "id": "0Ght3r4Nc-5i",
        "outputId": "28f97bbb-eb1e-44aa-e41b-91d8ab6c53c1"
      },
      "source": [
        "clf.score(X_test,y_test)"
      ],
      "execution_count": 49,
      "outputs": [
        {
          "output_type": "execute_result",
          "data": {
            "text/plain": [
              "0.5281177156177156"
            ]
          },
          "metadata": {
            "tags": []
          },
          "execution_count": 49
        }
      ]
    },
    {
      "cell_type": "markdown",
      "metadata": {
        "id": "vkPpssPXO27t"
      },
      "source": [
        "Resultados"
      ]
    },
    {
      "cell_type": "code",
      "metadata": {
        "colab": {
          "base_uri": "https://localhost:8080/"
        },
        "id": "hMXdsoP0O619",
        "outputId": "618c02e8-d6a1-49b7-c522-f2f6e42c2a59"
      },
      "source": [
        "print('Modelo com parâmetros Default:',models[\"Random Forest\"].score(X_test,y_test))\r\n",
        "print('Modelo com hiperparâmetros do GridseartCV:', clf.score(X_test,y_test))"
      ],
      "execution_count": 55,
      "outputs": [
        {
          "output_type": "stream",
          "text": [
            "Modelo com parâmetros Default: 0.4865967365967366\n",
            "Modelo com hiperparâmetros do GridseartCV: 0.5281177156177156\n"
          ],
          "name": "stdout"
        }
      ]
    }
  ]
}