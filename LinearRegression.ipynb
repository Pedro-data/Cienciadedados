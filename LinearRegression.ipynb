{
  "nbformat": 4,
  "nbformat_minor": 0,
  "metadata": {
    "colab": {
      "name": "LinearRegression.ipynb",
      "provenance": [],
      "collapsed_sections": [],
      "authorship_tag": "ABX9TyMGhjlItWusBoruSD/WP5A3"
    },
    "kernelspec": {
      "name": "python3",
      "display_name": "Python 3"
    }
  },
  "cells": [
    {
      "cell_type": "markdown",
      "metadata": {
        "id": "IxBPXbufRaJ1"
      },
      "source": [
        "<b>**Aplicação do Algoritmo de regressão Linear**</b>\r\n",
        "\r\n",
        "```\r\n",
        "# Aplicação do modelo de regressão Linear para predição de valores de gorjeta\r\n",
        "```\r\n",
        "\r\n",
        "\r\n",
        "\r\n"
      ]
    },
    {
      "cell_type": "code",
      "metadata": {
        "id": "s4-uMVVFRJfg"
      },
      "source": [
        "#Importação dos pacotes\r\n",
        "import seaborn as sns\r\n",
        "import pandas as pd\r\n",
        "import matplotlib.pyplot as plt\r\n",
        "from sklearn.linear_model import LinearRegression"
      ],
      "execution_count": 35,
      "outputs": []
    },
    {
      "cell_type": "code",
      "metadata": {
        "id": "mJDW49RPSQJO"
      },
      "source": [
        "# Carregamento dos dados\r\n",
        "tips = sns.load_dataset('tips');"
      ],
      "execution_count": 36,
      "outputs": []
    },
    {
      "cell_type": "code",
      "metadata": {
        "colab": {
          "base_uri": "https://localhost:8080/",
          "height": 167
        },
        "id": "zB4nW-ldSQP8",
        "outputId": "b8b3de10-859a-4c72-ac6e-d83d4c5f9f8f"
      },
      "source": [
        "# Visualização do dataset\r\n",
        "tips.head(4)"
      ],
      "execution_count": 37,
      "outputs": [
        {
          "output_type": "execute_result",
          "data": {
            "text/html": [
              "<div>\n",
              "<style scoped>\n",
              "    .dataframe tbody tr th:only-of-type {\n",
              "        vertical-align: middle;\n",
              "    }\n",
              "\n",
              "    .dataframe tbody tr th {\n",
              "        vertical-align: top;\n",
              "    }\n",
              "\n",
              "    .dataframe thead th {\n",
              "        text-align: right;\n",
              "    }\n",
              "</style>\n",
              "<table border=\"1\" class=\"dataframe\">\n",
              "  <thead>\n",
              "    <tr style=\"text-align: right;\">\n",
              "      <th></th>\n",
              "      <th>total_bill</th>\n",
              "      <th>tip</th>\n",
              "      <th>sex</th>\n",
              "      <th>smoker</th>\n",
              "      <th>day</th>\n",
              "      <th>time</th>\n",
              "      <th>size</th>\n",
              "    </tr>\n",
              "  </thead>\n",
              "  <tbody>\n",
              "    <tr>\n",
              "      <th>0</th>\n",
              "      <td>16.99</td>\n",
              "      <td>1.01</td>\n",
              "      <td>Female</td>\n",
              "      <td>No</td>\n",
              "      <td>Sun</td>\n",
              "      <td>Dinner</td>\n",
              "      <td>2</td>\n",
              "    </tr>\n",
              "    <tr>\n",
              "      <th>1</th>\n",
              "      <td>10.34</td>\n",
              "      <td>1.66</td>\n",
              "      <td>Male</td>\n",
              "      <td>No</td>\n",
              "      <td>Sun</td>\n",
              "      <td>Dinner</td>\n",
              "      <td>3</td>\n",
              "    </tr>\n",
              "    <tr>\n",
              "      <th>2</th>\n",
              "      <td>21.01</td>\n",
              "      <td>3.50</td>\n",
              "      <td>Male</td>\n",
              "      <td>No</td>\n",
              "      <td>Sun</td>\n",
              "      <td>Dinner</td>\n",
              "      <td>3</td>\n",
              "    </tr>\n",
              "    <tr>\n",
              "      <th>3</th>\n",
              "      <td>23.68</td>\n",
              "      <td>3.31</td>\n",
              "      <td>Male</td>\n",
              "      <td>No</td>\n",
              "      <td>Sun</td>\n",
              "      <td>Dinner</td>\n",
              "      <td>2</td>\n",
              "    </tr>\n",
              "  </tbody>\n",
              "</table>\n",
              "</div>"
            ],
            "text/plain": [
              "   total_bill   tip     sex smoker  day    time  size\n",
              "0       16.99  1.01  Female     No  Sun  Dinner     2\n",
              "1       10.34  1.66    Male     No  Sun  Dinner     3\n",
              "2       21.01  3.50    Male     No  Sun  Dinner     3\n",
              "3       23.68  3.31    Male     No  Sun  Dinner     2"
            ]
          },
          "metadata": {
            "tags": []
          },
          "execution_count": 37
        }
      ]
    },
    {
      "cell_type": "code",
      "metadata": {
        "colab": {
          "base_uri": "https://localhost:8080/"
        },
        "id": "hUweidEjSVTh",
        "outputId": "02a2d456-c315-4788-8e76-2e8e5905647e"
      },
      "source": [
        "tips.isnull().sum()"
      ],
      "execution_count": 38,
      "outputs": [
        {
          "output_type": "execute_result",
          "data": {
            "text/plain": [
              "total_bill    0\n",
              "tip           0\n",
              "sex           0\n",
              "smoker        0\n",
              "day           0\n",
              "time          0\n",
              "size          0\n",
              "dtype: int64"
            ]
          },
          "metadata": {
            "tags": []
          },
          "execution_count": 38
        }
      ]
    },
    {
      "cell_type": "code",
      "metadata": {
        "colab": {
          "base_uri": "https://localhost:8080/",
          "height": 281
        },
        "id": "WXyIBHDOHlqZ",
        "outputId": "c16c4d8d-5745-406a-9ba0-9625585a6b3c"
      },
      "source": [
        "plt.hist(tips['total_bill'])\r\n",
        "plt.title('Distribuição valor conta');"
      ],
      "execution_count": 39,
      "outputs": [
        {
          "output_type": "display_data",
          "data": {
            "image/png": "[encoded data removed]",
            "text/plain": [
              "<Figure size 432x288 with 1 Axes>"
            ]
          },
          "metadata": {
            "tags": [],
            "needs_background": "light"
          }
        }
      ]
    },
    {
      "cell_type": "code",
      "metadata": {
        "colab": {
          "base_uri": "https://localhost:8080/",
          "height": 281
        },
        "id": "E7SnBz8BIGJS",
        "outputId": "11b61b5d-b72f-4dbf-97ea-767742bb1121"
      },
      "source": [
        "plt.hist(tips['tip'])\r\n",
        "plt.title('Distribuição valor Gorgeta');"
      ],
      "execution_count": 40,
      "outputs": [
        {
          "output_type": "display_data",
          "data": {
            "image/png": "[encoded data removed]",
            "text/plain": [
              "<Figure size 432x288 with 1 Axes>"
            ]
          },
          "metadata": {
            "tags": [],
            "needs_background": "light"
          }
        }
      ]
    },
    {
      "cell_type": "code",
      "metadata": {
        "colab": {
          "base_uri": "https://localhost:8080/",
          "height": 312
        },
        "id": "0rnqg5MYSgII",
        "outputId": "93316405-8906-40cb-fa94-b548094a0112"
      },
      "source": [
        "# Visualizando a dispersão dos dados\r\n",
        "plt.scatter(tips['total_bill'].values, tips['tip'].values)\r\n",
        "plt.title('Tips ans Bills')\r\n",
        "plt.xlabel('Bills')\r\n",
        "plt.ylabel('Tips')"
      ],
      "execution_count": 41,
      "outputs": [
        {
          "output_type": "execute_result",
          "data": {
            "text/plain": [
              "Text(0, 0.5, 'Tips')"
            ]
          },
          "metadata": {
            "tags": []
          },
          "execution_count": 41
        },
        {
          "output_type": "display_data",
          "data": {
            "image/png": "[encoded data removed]",
            "text/plain": [
              "<Figure size 432x288 with 1 Axes>"
            ]
          },
          "metadata": {
            "tags": [],
            "needs_background": "light"
          }
        }
      ]
    },
    {
      "cell_type": "code",
      "metadata": {
        "id": "zfx_frAfUS7S"
      },
      "source": [
        "# Selecionando apenas os dados para treinar o modelo.\r\n",
        "# Não utilizando técnicas de Feature Selection\r\n",
        "X = tips.iloc[:,0:1].values #Total da Conta\r\n",
        "y = tips.iloc[:,1:2].values #Total da Gorjeta"
      ],
      "execution_count": 42,
      "outputs": []
    },
    {
      "cell_type": "code",
      "metadata": {
        "id": "OeQTPjXCT1Gm"
      },
      "source": [
        "#Instanciando o objeto e treinando o modelo\r\n",
        "reg = LinearRegression().fit(X,y)"
      ],
      "execution_count": 43,
      "outputs": []
    },
    {
      "cell_type": "markdown",
      "metadata": {
        "id": "nwJcQ98Wol4h"
      },
      "source": [
        "**Métricas do modelo**"
      ]
    },
    {
      "cell_type": "code",
      "metadata": {
        "colab": {
          "base_uri": "https://localhost:8080/"
        },
        "id": "0gUqY_aXV0dh",
        "outputId": "a1d3f0c5-ced4-4a9e-d92a-6f07ae27f1c9"
      },
      "source": [
        "# Avaliação do coeficiente de determinação, ou seja, quanto mais o valor desse indicador se aproxima de 1 ou 100% mais explicativo é o modelo linear.\r\n",
        "# O modelo explica apenas 45% da variância dos dados\r\n",
        "reg.score(X, y)"
      ],
      "execution_count": 44,
      "outputs": [
        {
          "output_type": "execute_result",
          "data": {
            "text/plain": [
              "0.45661658635167657"
            ]
          },
          "metadata": {
            "tags": []
          },
          "execution_count": 44
        }
      ]
    },
    {
      "cell_type": "code",
      "metadata": {
        "colab": {
          "base_uri": "https://localhost:8080/"
        },
        "id": "Rf3di8gtWHNP",
        "outputId": "c6151a66-4211-4730-a654-23e57489a05b"
      },
      "source": [
        "# Coeficiente de correlação das váriaveis, ou seja, \"medição\" do grau de associação linear entre duas variáveis.\r\n",
        "# Quanto mais próximo de 1 mais é possível mais \"forte\" é a correlação entre as variaveis\r\n",
        "reg.coef_"
      ],
      "execution_count": 45,
      "outputs": [
        {
          "output_type": "execute_result",
          "data": {
            "text/plain": [
              "array([[0.10502452]])"
            ]
          },
          "metadata": {
            "tags": []
          },
          "execution_count": 45
        }
      ]
    },
    {
      "cell_type": "code",
      "metadata": {
        "colab": {
          "base_uri": "https://localhost:8080/"
        },
        "id": "muGI8GXSWRdu",
        "outputId": "a43d8819-1a04-49cb-ae8b-7f2da305ba58"
      },
      "source": [
        "# Mesmo analisando as métricas do modelo vamos realizar valor 200 e o modelo exibirá a predição para a gorjeta\r\n",
        "reg.predict([[50]])"
      ],
      "execution_count": 46,
      "outputs": [
        {
          "output_type": "execute_result",
          "data": {
            "text/plain": [
              "array([[6.17149548]])"
            ]
          },
          "metadata": {
            "tags": []
          },
          "execution_count": 46
        }
      ]
    },
    {
      "cell_type": "code",
      "metadata": {
        "id": "nEEssMsmGbnN"
      },
      "source": [
        "from sklearn.metrics import mean_absolute_error\r\n",
        "from sklearn.metrics import mean_squared_error"
      ],
      "execution_count": 47,
      "outputs": []
    },
    {
      "cell_type": "code",
      "metadata": {
        "colab": {
          "base_uri": "https://localhost:8080/"
        },
        "id": "a2rh0kWyJCJU",
        "outputId": "5c015d31-972f-4d58-eb41-a9cc181d8f1a"
      },
      "source": [
        "#Métricas\r\n",
        "mae = mean_absolute_error(X, y)\r\n",
        "mse = mean_squared_error(X, y)\r\n",
        "print('O Erro médio absoluto é:', mae)\r\n",
        "print('O Erro médio Quadrático é:', mse)"
      ],
      "execution_count": 49,
      "outputs": [
        {
          "output_type": "stream",
          "text": [
            "O Erro médio absoluto é: 16.78766393442623\n",
            "O Erro médio Quadrático é: 346.0816225409836\n"
          ],
          "name": "stdout"
        }
      ]
    }
  ]
}