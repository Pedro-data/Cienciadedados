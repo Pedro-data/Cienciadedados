{
  "nbformat": 4,
  "nbformat_minor": 0,
  "metadata": {
    "colab": {
      "name": "LinearRegression.ipynb",
      "provenance": [],
      "collapsed_sections": [],
      "authorship_tag": "ABX9TyOehyFFC5jcramZZotmYhI1"
    },
    "kernelspec": {
      "name": "python3",
      "display_name": "Python 3"
    }
  },
  "cells": [
    {
      "cell_type": "markdown",
      "metadata": {
        "id": "IxBPXbufRaJ1"
      },
      "source": [
        "<b>**Aplicação do Algoritmo de regressão Linear**</b>\r\n",
        "\r\n",
        "```\r\n",
        "# Aplicação do modelo de regressão Linear para predição de valores de gorjeta\r\n",
        "```\r\n",
        "\r\n",
        "\r\n",
        "\r\n"
      ]
    },
    {
      "cell_type": "code",
      "metadata": {
        "id": "s4-uMVVFRJfg"
      },
      "source": [
        "#Importação dos pacotes\r\n",
        "import seaborn as sns\r\n",
        "import pandas as pd\r\n",
        "import matplotlib.pyplot as plt\r\n",
        "from sklearn.linear_model import LinearRegression"
      ],
      "execution_count": 1,
      "outputs": []
    },
    {
      "cell_type": "code",
      "metadata": {
        "id": "mJDW49RPSQJO"
      },
      "source": [
        "# Carregamento dos dados\r\n",
        "tips = sns.load_dataset('tips');"
      ],
      "execution_count": 2,
      "outputs": []
    },
    {
      "cell_type": "code",
      "metadata": {
        "colab": {
          "base_uri": "https://localhost:8080/",
          "height": 167
        },
        "id": "zB4nW-ldSQP8",
        "outputId": "f04f0274-1680-4fb7-eebe-f64539f4deb0"
      },
      "source": [
        "# Visualização do dataset\r\n",
        "tips.head(4)"
      ],
      "execution_count": 3,
      "outputs": [
        {
          "output_type": "execute_result",
          "data": {
            "text/html": [
              "<div>\n",
              "<style scoped>\n",
              "    .dataframe tbody tr th:only-of-type {\n",
              "        vertical-align: middle;\n",
              "    }\n",
              "\n",
              "    .dataframe tbody tr th {\n",
              "        vertical-align: top;\n",
              "    }\n",
              "\n",
              "    .dataframe thead th {\n",
              "        text-align: right;\n",
              "    }\n",
              "</style>\n",
              "<table border=\"1\" class=\"dataframe\">\n",
              "  <thead>\n",
              "    <tr style=\"text-align: right;\">\n",
              "      <th></th>\n",
              "      <th>total_bill</th>\n",
              "      <th>tip</th>\n",
              "      <th>sex</th>\n",
              "      <th>smoker</th>\n",
              "      <th>day</th>\n",
              "      <th>time</th>\n",
              "      <th>size</th>\n",
              "    </tr>\n",
              "  </thead>\n",
              "  <tbody>\n",
              "    <tr>\n",
              "      <th>0</th>\n",
              "      <td>16.99</td>\n",
              "      <td>1.01</td>\n",
              "      <td>Female</td>\n",
              "      <td>No</td>\n",
              "      <td>Sun</td>\n",
              "      <td>Dinner</td>\n",
              "      <td>2</td>\n",
              "    </tr>\n",
              "    <tr>\n",
              "      <th>1</th>\n",
              "      <td>10.34</td>\n",
              "      <td>1.66</td>\n",
              "      <td>Male</td>\n",
              "      <td>No</td>\n",
              "      <td>Sun</td>\n",
              "      <td>Dinner</td>\n",
              "      <td>3</td>\n",
              "    </tr>\n",
              "    <tr>\n",
              "      <th>2</th>\n",
              "      <td>21.01</td>\n",
              "      <td>3.50</td>\n",
              "      <td>Male</td>\n",
              "      <td>No</td>\n",
              "      <td>Sun</td>\n",
              "      <td>Dinner</td>\n",
              "      <td>3</td>\n",
              "    </tr>\n",
              "    <tr>\n",
              "      <th>3</th>\n",
              "      <td>23.68</td>\n",
              "      <td>3.31</td>\n",
              "      <td>Male</td>\n",
              "      <td>No</td>\n",
              "      <td>Sun</td>\n",
              "      <td>Dinner</td>\n",
              "      <td>2</td>\n",
              "    </tr>\n",
              "  </tbody>\n",
              "</table>\n",
              "</div>"
            ],
            "text/plain": [
              "   total_bill   tip     sex smoker  day    time  size\n",
              "0       16.99  1.01  Female     No  Sun  Dinner     2\n",
              "1       10.34  1.66    Male     No  Sun  Dinner     3\n",
              "2       21.01  3.50    Male     No  Sun  Dinner     3\n",
              "3       23.68  3.31    Male     No  Sun  Dinner     2"
            ]
          },
          "metadata": {
            "tags": []
          },
          "execution_count": 3
        }
      ]
    },
    {
      "cell_type": "code",
      "metadata": {
        "colab": {
          "base_uri": "https://localhost:8080/"
        },
        "id": "hUweidEjSVTh",
        "outputId": "31ef1236-de19-4d48-e27c-4ac297040b9d"
      },
      "source": [
        "tips.isnull().sum()"
      ],
      "execution_count": 4,
      "outputs": [
        {
          "output_type": "execute_result",
          "data": {
            "text/plain": [
              "total_bill    0\n",
              "tip           0\n",
              "sex           0\n",
              "smoker        0\n",
              "day           0\n",
              "time          0\n",
              "size          0\n",
              "dtype: int64"
            ]
          },
          "metadata": {
            "tags": []
          },
          "execution_count": 4
        }
      ]
    },
    {
      "cell_type": "code",
      "metadata": {
        "colab": {
          "base_uri": "https://localhost:8080/",
          "height": 312
        },
        "id": "0rnqg5MYSgII",
        "outputId": "34c7ec64-410a-47dd-e3df-37cdfa2b33ad"
      },
      "source": [
        "# Visualizando a dispersão dos dados\r\n",
        "plt.scatter(tips['total_bill'], tips['tip'])\r\n",
        "plt.title('Tips ans Bills')\r\n",
        "plt.xlabel('Bills')\r\n",
        "plt.ylabel('Tips')"
      ],
      "execution_count": 5,
      "outputs": [
        {
          "output_type": "execute_result",
          "data": {
            "text/plain": [
              "Text(0, 0.5, 'Tips')"
            ]
          },
          "metadata": {
            "tags": []
          },
          "execution_count": 5
        },
        {
          "output_type": "display_data",
          "data": {
            "image/png": "[encoded data removed]",
            "text/plain": [
              "<Figure size 432x288 with 1 Axes>"
            ]
          },
          "metadata": {
            "tags": [],
            "needs_background": "light"
          }
        }
      ]
    },
    {
      "cell_type": "code",
      "metadata": {
        "id": "zfx_frAfUS7S"
      },
      "source": [
        "# Selecionando apenas os dados para treinar o modelo.\r\n",
        "# Não utilizando técnicas de Feature Selection\r\n",
        "X = tips.iloc[:,0:1].values #Total da Conta\r\n",
        "y = tips.iloc[:,1:2].values #Total da Gorjeta"
      ],
      "execution_count": 6,
      "outputs": []
    },
    {
      "cell_type": "code",
      "metadata": {
        "id": "OeQTPjXCT1Gm"
      },
      "source": [
        "#Instanciando o objeto e treinando o modelo\r\n",
        "reg = LinearRegression().fit(X,y)"
      ],
      "execution_count": 7,
      "outputs": []
    },
    {
      "cell_type": "markdown",
      "metadata": {
        "id": "nwJcQ98Wol4h"
      },
      "source": [
        "**Métricas do modelo**"
      ]
    },
    {
      "cell_type": "code",
      "metadata": {
        "colab": {
          "base_uri": "https://localhost:8080/"
        },
        "id": "0gUqY_aXV0dh",
        "outputId": "a509a34b-f70a-4c2f-f974-e25c062da2a2"
      },
      "source": [
        "# Avaliação do coeficiente de determinação, ou seja, quanto mais o valor desse indicador se aproxima de 1 ou 100% mais explicativo é o modelo linear.\r\n",
        "# O modelo explica apenas 45% da variância dos dados\r\n",
        "reg.score(X, y)"
      ],
      "execution_count": 8,
      "outputs": [
        {
          "output_type": "execute_result",
          "data": {
            "text/plain": [
              "0.45661658635167657"
            ]
          },
          "metadata": {
            "tags": []
          },
          "execution_count": 8
        }
      ]
    },
    {
      "cell_type": "code",
      "metadata": {
        "colab": {
          "base_uri": "https://localhost:8080/"
        },
        "id": "Rf3di8gtWHNP",
        "outputId": "20c3aa21-2ef4-4ba9-daa3-8a27a5c47452"
      },
      "source": [
        "# Coeficiente de correlação das váriaveis, ou seja, \"medição\" do grau de associação linear entre duas variáveis.\r\n",
        "# Quanto mais próximo de 1 mais é possível mais \"forte\" é a correlação entre as variaveis\r\n",
        "reg.coef_"
      ],
      "execution_count": 9,
      "outputs": [
        {
          "output_type": "execute_result",
          "data": {
            "text/plain": [
              "array([[0.10502452]])"
            ]
          },
          "metadata": {
            "tags": []
          },
          "execution_count": 9
        }
      ]
    },
    {
      "cell_type": "code",
      "metadata": {
        "colab": {
          "base_uri": "https://localhost:8080/"
        },
        "id": "muGI8GXSWRdu",
        "outputId": "f6d622c7-1bf5-4c8a-8ac7-ca27e43d7679"
      },
      "source": [
        "# Mesmo analisando as métricas do modelo vamos realizar valor 200 e o modelo exibirá a predição para a gorjeta\r\n",
        "reg.predict([[200]])"
      ],
      "execution_count": 10,
      "outputs": [
        {
          "output_type": "execute_result",
          "data": {
            "text/plain": [
              "array([[21.92517309]])"
            ]
          },
          "metadata": {
            "tags": []
          },
          "execution_count": 10
        }
      ]
    },
    {
      "cell_type": "markdown",
      "metadata": {
        "id": "2-cPMCZv0PC-"
      },
      "source": [
        "Após aplicação é possível concluir que esse modelo talvez não seria a melhor escolha problema de negócio"
      ]
    }
  ]
}