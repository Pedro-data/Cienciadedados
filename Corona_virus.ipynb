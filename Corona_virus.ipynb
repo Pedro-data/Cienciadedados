{
  "nbformat": 4,
  "nbformat_minor": 0,
  "metadata": {
    "colab": {
      "name": "Corona-virus.ipynb",
      "provenance": [],
      "collapsed_sections": [],
      "toc_visible": true,
      "authorship_tag": "ABX9TyPW2GoomZlNtfXf2OGKmWfm",
      "include_colab_link": true
    },
    "kernelspec": {
      "name": "python3",
      "display_name": "Python 3"
    }
  },
  "cells": [
    {
      "cell_type": "markdown",
      "metadata": {
        "id": "view-in-github",
        "colab_type": "text"
      },
      "source": [
        "<a href=\"https://colab.research.google.com/github/pedrodatascientist/Cienciadedados/blob/master/Corona_virus.ipynb\" target=\"_parent\"><img src=\"https://colab.research.google.com/assets/colab-badge.svg\" alt=\"Open In Colab\"/></a>"
      ]
    },
    {
      "cell_type": "markdown",
      "metadata": {
        "id": "SaCFCNl8YS7F",
        "colab_type": "text"
      },
      "source": [
        "# Analisando dados sobre o CONVID-19 no **Brasil**\n"
      ]
    },
    {
      "cell_type": "markdown",
      "metadata": {
        "id": "XK6M8hK0wZJn",
        "colab_type": "text"
      },
      "source": [
        "Fonte de dasos:\n",
        "https://www.kaggle.com/unanimad/corona-virus-brazil"
      ]
    },
    {
      "cell_type": "code",
      "metadata": {
        "id": "CiMrtMkaYkJY",
        "colab_type": "code",
        "outputId": "6f114f22-c3da-484d-9443-b766d30a02da",
        "colab": {
          "base_uri": "https://localhost:8080/",
          "height": 54
        }
      },
      "source": [
        "from google.colab import drive\n",
        "drive.mount('/content/brazil_covid19')"
      ],
      "execution_count": 1,
      "outputs": [
        {
          "output_type": "stream",
          "text": [
            "Drive already mounted at /content/brazil_covid19; to attempt to forcibly remount, call drive.mount(\"/content/brazil_covid19\", force_remount=True).\n"
          ],
          "name": "stdout"
        }
      ]
    },
    {
      "cell_type": "code",
      "metadata": {
        "id": "58xVPaqmZmr5",
        "colab_type": "code",
        "outputId": "b5e2ae1c-db42-4a36-dd40-12a2ab8571b9",
        "colab": {
          "base_uri": "https://localhost:8080/",
          "height": 16
        }
      },
      "source": [
        "import pandas as pd\n",
        "import plotly \n",
        "import plotly.offline as py\n",
        "import matplotlib.pyplot as plt\n",
        "from plotly.offline import plot, iplot\n",
        "plotly.offline.init_notebook_mode(connected=True)\n",
        "import seaborn as sns\n",
        "import plotly.graph_objects as go"
      ],
      "execution_count": 2,
      "outputs": [
        {
          "output_type": "display_data",
          "data": {
            "text/html": [
              "        <script type=\"text/javascript\">\n",
              "        window.PlotlyConfig = {MathJaxConfig: 'local'};\n",
              "        if (window.MathJax) {MathJax.Hub.Config({SVG: {font: \"STIX-Web\"}});}\n",
              "        if (typeof require !== 'undefined') {\n",
              "        require.undef(\"plotly\");\n",
              "        requirejs.config({\n",
              "            paths: {\n",
              "                'plotly': ['https://cdn.plot.ly/plotly-latest.min']\n",
              "            }\n",
              "        });\n",
              "        require(['plotly'], function(Plotly) {\n",
              "            window._Plotly = Plotly;\n",
              "        });\n",
              "        }\n",
              "        </script>\n",
              "        "
            ]
          },
          "metadata": {
            "tags": []
          }
        }
      ]
    },
    {
      "cell_type": "code",
      "metadata": {
        "id": "6XL_U59yakjJ",
        "colab_type": "code",
        "outputId": "7f0f542d-d35e-4305-a2a8-853707834b17",
        "colab": {
          "base_uri": "https://localhost:8080/",
          "height": 197
        }
      },
      "source": [
        "dfconvid = pd.read_csv('/content/brazil_covid19/My Drive/brazil_covid19.csv')\n",
        "dfconvid.head()"
      ],
      "execution_count": 3,
      "outputs": [
        {
          "output_type": "execute_result",
          "data": {
            "text/html": [
              "<div>\n",
              "<style scoped>\n",
              "    .dataframe tbody tr th:only-of-type {\n",
              "        vertical-align: middle;\n",
              "    }\n",
              "\n",
              "    .dataframe tbody tr th {\n",
              "        vertical-align: top;\n",
              "    }\n",
              "\n",
              "    .dataframe thead th {\n",
              "        text-align: right;\n",
              "    }\n",
              "</style>\n",
              "<table border=\"1\" class=\"dataframe\">\n",
              "  <thead>\n",
              "    <tr style=\"text-align: right;\">\n",
              "      <th></th>\n",
              "      <th>date</th>\n",
              "      <th>hour</th>\n",
              "      <th>state</th>\n",
              "      <th>suspects</th>\n",
              "      <th>refuses</th>\n",
              "      <th>cases</th>\n",
              "      <th>deaths</th>\n",
              "    </tr>\n",
              "  </thead>\n",
              "  <tbody>\n",
              "    <tr>\n",
              "      <th>0</th>\n",
              "      <td>2020-01-30</td>\n",
              "      <td>16:00</td>\n",
              "      <td>Minas Gerais</td>\n",
              "      <td>1</td>\n",
              "      <td>0</td>\n",
              "      <td>0</td>\n",
              "      <td>0</td>\n",
              "    </tr>\n",
              "    <tr>\n",
              "      <th>1</th>\n",
              "      <td>2020-01-30</td>\n",
              "      <td>16:00</td>\n",
              "      <td>Rio de Janeiro</td>\n",
              "      <td>1</td>\n",
              "      <td>0</td>\n",
              "      <td>0</td>\n",
              "      <td>0</td>\n",
              "    </tr>\n",
              "    <tr>\n",
              "      <th>2</th>\n",
              "      <td>2020-01-30</td>\n",
              "      <td>16:00</td>\n",
              "      <td>Santa Catarina</td>\n",
              "      <td>0</td>\n",
              "      <td>2</td>\n",
              "      <td>0</td>\n",
              "      <td>0</td>\n",
              "    </tr>\n",
              "    <tr>\n",
              "      <th>3</th>\n",
              "      <td>2020-01-30</td>\n",
              "      <td>16:00</td>\n",
              "      <td>São Paulo</td>\n",
              "      <td>3</td>\n",
              "      <td>1</td>\n",
              "      <td>0</td>\n",
              "      <td>0</td>\n",
              "    </tr>\n",
              "    <tr>\n",
              "      <th>4</th>\n",
              "      <td>2020-01-30</td>\n",
              "      <td>16:00</td>\n",
              "      <td>Rio Grande do Sul</td>\n",
              "      <td>2</td>\n",
              "      <td>2</td>\n",
              "      <td>0</td>\n",
              "      <td>0</td>\n",
              "    </tr>\n",
              "  </tbody>\n",
              "</table>\n",
              "</div>"
            ],
            "text/plain": [
              "         date   hour              state  suspects  refuses  cases  deaths\n",
              "0  2020-01-30  16:00       Minas Gerais         1        0      0       0\n",
              "1  2020-01-30  16:00     Rio de Janeiro         1        0      0       0\n",
              "2  2020-01-30  16:00     Santa Catarina         0        2      0       0\n",
              "3  2020-01-30  16:00          São Paulo         3        1      0       0\n",
              "4  2020-01-30  16:00  Rio Grande do Sul         2        2      0       0"
            ]
          },
          "metadata": {
            "tags": []
          },
          "execution_count": 3
        }
      ]
    },
    {
      "cell_type": "code",
      "metadata": {
        "id": "XTia3-COa7lN",
        "colab_type": "code",
        "outputId": "86981fc5-c590-404f-8239-5e510d86c29c",
        "colab": {
          "base_uri": "https://localhost:8080/",
          "height": 77
        }
      },
      "source": [
        "dfconvid.rename(columns={'date': 'Data', 'hour': 'Hora','state': 'Estado','suspects': 'Suspeito',\n",
        "                        'suspects': 'Suspeito', 'refuses': 'Descartado', 'cases': 'Confirmado',\n",
        "                         'deaths':'Morte'}, inplace=True)\n",
        "dfconvid.head(1)"
      ],
      "execution_count": 4,
      "outputs": [
        {
          "output_type": "execute_result",
          "data": {
            "text/html": [
              "<div>\n",
              "<style scoped>\n",
              "    .dataframe tbody tr th:only-of-type {\n",
              "        vertical-align: middle;\n",
              "    }\n",
              "\n",
              "    .dataframe tbody tr th {\n",
              "        vertical-align: top;\n",
              "    }\n",
              "\n",
              "    .dataframe thead th {\n",
              "        text-align: right;\n",
              "    }\n",
              "</style>\n",
              "<table border=\"1\" class=\"dataframe\">\n",
              "  <thead>\n",
              "    <tr style=\"text-align: right;\">\n",
              "      <th></th>\n",
              "      <th>Data</th>\n",
              "      <th>Hora</th>\n",
              "      <th>Estado</th>\n",
              "      <th>Suspeito</th>\n",
              "      <th>Descartado</th>\n",
              "      <th>Confirmado</th>\n",
              "      <th>Morte</th>\n",
              "    </tr>\n",
              "  </thead>\n",
              "  <tbody>\n",
              "    <tr>\n",
              "      <th>0</th>\n",
              "      <td>2020-01-30</td>\n",
              "      <td>16:00</td>\n",
              "      <td>Minas Gerais</td>\n",
              "      <td>1</td>\n",
              "      <td>0</td>\n",
              "      <td>0</td>\n",
              "      <td>0</td>\n",
              "    </tr>\n",
              "  </tbody>\n",
              "</table>\n",
              "</div>"
            ],
            "text/plain": [
              "         Data   Hora        Estado  Suspeito  Descartado  Confirmado  Morte\n",
              "0  2020-01-30  16:00  Minas Gerais         1           0           0      0"
            ]
          },
          "metadata": {
            "tags": []
          },
          "execution_count": 4
        }
      ]
    },
    {
      "cell_type": "code",
      "metadata": {
        "id": "Bect7LHidMNr",
        "colab_type": "code",
        "outputId": "8de936c1-2223-420a-a8fe-5e67705236ca",
        "colab": {
          "base_uri": "https://localhost:8080/",
          "height": 158
        }
      },
      "source": [
        "dfconvid.isnull().sum()"
      ],
      "execution_count": 5,
      "outputs": [
        {
          "output_type": "execute_result",
          "data": {
            "text/plain": [
              "Data          0\n",
              "Hora          0\n",
              "Estado        0\n",
              "Suspeito      0\n",
              "Descartado    0\n",
              "Confirmado    0\n",
              "Morte         0\n",
              "dtype: int64"
            ]
          },
          "metadata": {
            "tags": []
          },
          "execution_count": 5
        }
      ]
    },
    {
      "cell_type": "code",
      "metadata": {
        "id": "c6jM8Vnh1LBc",
        "colab_type": "code",
        "outputId": "b5d53583-5a24-4cb6-af5a-3c6e2a79fec9",
        "colab": {
          "base_uri": "https://localhost:8080/",
          "height": 158
        }
      },
      "source": [
        "dfconvid.dtypes"
      ],
      "execution_count": 6,
      "outputs": [
        {
          "output_type": "execute_result",
          "data": {
            "text/plain": [
              "Data          object\n",
              "Hora          object\n",
              "Estado        object\n",
              "Suspeito       int64\n",
              "Descartado     int64\n",
              "Confirmado     int64\n",
              "Morte          int64\n",
              "dtype: object"
            ]
          },
          "metadata": {
            "tags": []
          },
          "execution_count": 6
        }
      ]
    },
    {
      "cell_type": "code",
      "metadata": {
        "id": "d-HsZD47jLXx",
        "colab_type": "code",
        "colab": {}
      },
      "source": [
        "dfconvid['Data'] = pd.to_datetime(dfconvid['Data'])\n",
        "dfconvid.drop('Hora', inplace=True, axis=1)"
      ],
      "execution_count": 0,
      "outputs": []
    },
    {
      "cell_type": "code",
      "metadata": {
        "id": "SvjLJfwck4YU",
        "colab_type": "code",
        "outputId": "83691a8b-17cd-40ad-9e21-48318269807a",
        "colab": {
          "base_uri": "https://localhost:8080/",
          "height": 406
        }
      },
      "source": [
        "dfconvid"
      ],
      "execution_count": 8,
      "outputs": [
        {
          "output_type": "execute_result",
          "data": {
            "text/html": [
              "<div>\n",
              "<style scoped>\n",
              "    .dataframe tbody tr th:only-of-type {\n",
              "        vertical-align: middle;\n",
              "    }\n",
              "\n",
              "    .dataframe tbody tr th {\n",
              "        vertical-align: top;\n",
              "    }\n",
              "\n",
              "    .dataframe thead th {\n",
              "        text-align: right;\n",
              "    }\n",
              "</style>\n",
              "<table border=\"1\" class=\"dataframe\">\n",
              "  <thead>\n",
              "    <tr style=\"text-align: right;\">\n",
              "      <th></th>\n",
              "      <th>Data</th>\n",
              "      <th>Estado</th>\n",
              "      <th>Suspeito</th>\n",
              "      <th>Descartado</th>\n",
              "      <th>Confirmado</th>\n",
              "      <th>Morte</th>\n",
              "    </tr>\n",
              "  </thead>\n",
              "  <tbody>\n",
              "    <tr>\n",
              "      <th>0</th>\n",
              "      <td>2020-01-30</td>\n",
              "      <td>Minas Gerais</td>\n",
              "      <td>1</td>\n",
              "      <td>0</td>\n",
              "      <td>0</td>\n",
              "      <td>0</td>\n",
              "    </tr>\n",
              "    <tr>\n",
              "      <th>1</th>\n",
              "      <td>2020-01-30</td>\n",
              "      <td>Rio de Janeiro</td>\n",
              "      <td>1</td>\n",
              "      <td>0</td>\n",
              "      <td>0</td>\n",
              "      <td>0</td>\n",
              "    </tr>\n",
              "    <tr>\n",
              "      <th>2</th>\n",
              "      <td>2020-01-30</td>\n",
              "      <td>Santa Catarina</td>\n",
              "      <td>0</td>\n",
              "      <td>2</td>\n",
              "      <td>0</td>\n",
              "      <td>0</td>\n",
              "    </tr>\n",
              "    <tr>\n",
              "      <th>3</th>\n",
              "      <td>2020-01-30</td>\n",
              "      <td>São Paulo</td>\n",
              "      <td>3</td>\n",
              "      <td>1</td>\n",
              "      <td>0</td>\n",
              "      <td>0</td>\n",
              "    </tr>\n",
              "    <tr>\n",
              "      <th>4</th>\n",
              "      <td>2020-01-30</td>\n",
              "      <td>Rio Grande do Sul</td>\n",
              "      <td>2</td>\n",
              "      <td>2</td>\n",
              "      <td>0</td>\n",
              "      <td>0</td>\n",
              "    </tr>\n",
              "    <tr>\n",
              "      <th>...</th>\n",
              "      <td>...</td>\n",
              "      <td>...</td>\n",
              "      <td>...</td>\n",
              "      <td>...</td>\n",
              "      <td>...</td>\n",
              "      <td>...</td>\n",
              "    </tr>\n",
              "    <tr>\n",
              "      <th>679</th>\n",
              "      <td>2020-03-18</td>\n",
              "      <td>Rio Grande do Sul</td>\n",
              "      <td>416</td>\n",
              "      <td>330</td>\n",
              "      <td>19</td>\n",
              "      <td>0</td>\n",
              "    </tr>\n",
              "    <tr>\n",
              "      <th>680</th>\n",
              "      <td>2020-03-18</td>\n",
              "      <td>Mato Grosso do Sul</td>\n",
              "      <td>93</td>\n",
              "      <td>26</td>\n",
              "      <td>7</td>\n",
              "      <td>0</td>\n",
              "    </tr>\n",
              "    <tr>\n",
              "      <th>681</th>\n",
              "      <td>2020-03-18</td>\n",
              "      <td>Mato Grosso</td>\n",
              "      <td>45</td>\n",
              "      <td>8</td>\n",
              "      <td>0</td>\n",
              "      <td>0</td>\n",
              "    </tr>\n",
              "    <tr>\n",
              "      <th>682</th>\n",
              "      <td>2020-03-18</td>\n",
              "      <td>Goiás</td>\n",
              "      <td>353</td>\n",
              "      <td>55</td>\n",
              "      <td>8</td>\n",
              "      <td>0</td>\n",
              "    </tr>\n",
              "    <tr>\n",
              "      <th>683</th>\n",
              "      <td>2020-03-18</td>\n",
              "      <td>Distrito Federal</td>\n",
              "      <td>327</td>\n",
              "      <td>107</td>\n",
              "      <td>26</td>\n",
              "      <td>0</td>\n",
              "    </tr>\n",
              "  </tbody>\n",
              "</table>\n",
              "<p>684 rows × 6 columns</p>\n",
              "</div>"
            ],
            "text/plain": [
              "          Data              Estado  Suspeito  Descartado  Confirmado  Morte\n",
              "0   2020-01-30        Minas Gerais         1           0           0      0\n",
              "1   2020-01-30      Rio de Janeiro         1           0           0      0\n",
              "2   2020-01-30      Santa Catarina         0           2           0      0\n",
              "3   2020-01-30           São Paulo         3           1           0      0\n",
              "4   2020-01-30   Rio Grande do Sul         2           2           0      0\n",
              "..         ...                 ...       ...         ...         ...    ...\n",
              "679 2020-03-18   Rio Grande do Sul       416         330          19      0\n",
              "680 2020-03-18  Mato Grosso do Sul        93          26           7      0\n",
              "681 2020-03-18         Mato Grosso        45           8           0      0\n",
              "682 2020-03-18               Goiás       353          55           8      0\n",
              "683 2020-03-18    Distrito Federal       327         107          26      0\n",
              "\n",
              "[684 rows x 6 columns]"
            ]
          },
          "metadata": {
            "tags": []
          },
          "execution_count": 8
        }
      ]
    },
    {
      "cell_type": "code",
      "metadata": {
        "id": "sF1BI-1JlEXt",
        "colab_type": "code",
        "outputId": "2e1a062f-cf43-4f06-92a2-24616f3a3729",
        "colab": {
          "base_uri": "https://localhost:8080/",
          "height": 620
        }
      },
      "source": [
        "plt.subplots(figsize=(15, 7));\n",
        "linhas = sns.lineplot(x='Data', y='Confirmado', data=dfconvid);\n",
        "plt.title('Evolução dos casos confirmados');"
      ],
      "execution_count": 9,
      "outputs": [
        {
          "output_type": "stream",
          "text": [
            "/usr/local/lib/python3.6/dist-packages/pandas/plotting/_matplotlib/converter.py:103: FutureWarning:\n",
            "\n",
            "Using an implicitly registered datetime converter for a matplotlib plotting method. The converter was registered by pandas on import. Future versions of pandas will require you to explicitly register matplotlib converters.\n",
            "\n",
            "To register the converters:\n",
            "\t>>> from pandas.plotting import register_matplotlib_converters\n",
            "\t>>> register_matplotlib_converters()\n",
            "\n"
          ],
          "name": "stderr"
        },
        {
          "output_type": "display_data",
          "data": {
            "image/png": "[encoded data removed]",
            "text/plain": [
              "<Figure size 1080x504 with 1 Axes>"
            ]
          },
          "metadata": {
            "tags": []
          }
        }
      ]
    },
    {
      "cell_type": "code",
      "metadata": {
        "id": "vu8JCa1B_8fI",
        "colab_type": "code",
        "colab": {
          "base_uri": "https://localhost:8080/",
          "height": 566
        },
        "outputId": "9f1d2f89-44fc-4bcf-a676-938fad3f911f"
      },
      "source": [
        "plt.subplots(figsize=(18, 9));\n",
        "barras = sns.lineplot(x='Data',y='Confirmado', hue=\"Estado\",data=dfconvid);\n",
        "plt.title('Evolução dos casos confirmador por estado');"
      ],
      "execution_count": 10,
      "outputs": [
        {
          "output_type": "display_data",
          "data": {
            "image/png": "[encoded data removed]",
            "text/plain": [
              "<Figure size 1296x648 with 1 Axes>"
            ]
          },
          "metadata": {
            "tags": []
          }
        }
      ]
    },
    {
      "cell_type": "code",
      "metadata": {
        "id": "gsgQxWiCzbOM",
        "colab_type": "code",
        "outputId": "5ff9bbdf-f756-4325-e647-a97bd6adaf3b",
        "colab": {
          "base_uri": "https://localhost:8080/",
          "height": 384
        }
      },
      "source": [
        "sns.relplot(x='Confirmado', y='Suspeito', data=dfconvid, sizes=10);\n",
        "plt.title('Casos confirmados vs Suspeitos');"
      ],
      "execution_count": 11,
      "outputs": [
        {
          "output_type": "display_data",
          "data": {
            "image/png": "[encoded data removed]",
            "text/plain": [
              "<Figure size 360x360 with 1 Axes>"
            ]
          },
          "metadata": {
            "tags": []
          }
        }
      ]
    },
    {
      "cell_type": "code",
      "metadata": {
        "id": "xX7hvqbX6_UL",
        "colab_type": "code",
        "colab": {
          "base_uri": "https://localhost:8080/",
          "height": 384
        },
        "outputId": "f4ac01de-5409-41bf-bab8-e178492f8179"
      },
      "source": [
        "sns.relplot(x='Suspeito', y='Descartado', data=dfconvid, sizes=10);\n",
        "plt.title('Casos Suspeitos vs Descartados');"
      ],
      "execution_count": 12,
      "outputs": [
        {
          "output_type": "display_data",
          "data": {
            "image/png": "[encoded data removed]",
            "text/plain": [
              "<Figure size 360x360 with 1 Axes>"
            ]
          },
          "metadata": {
            "tags": []
          }
        }
      ]
    },
    {
      "cell_type": "code",
      "metadata": {
        "id": "05GEnZY5_yAR",
        "colab_type": "code",
        "colab": {
          "base_uri": "https://localhost:8080/",
          "height": 377
        },
        "outputId": "58f10d5e-fde7-43d2-e350-6b7a4a049332"
      },
      "source": [
        "estados = dfconvid.groupby('Estado').sum()\n",
        "ranking = estados.sort_values(by='Confirmado', ascending=False)\n",
        "ranking.head(10)"
      ],
      "execution_count": 13,
      "outputs": [
        {
          "output_type": "execute_result",
          "data": {
            "text/html": [
              "<div>\n",
              "<style scoped>\n",
              "    .dataframe tbody tr th:only-of-type {\n",
              "        vertical-align: middle;\n",
              "    }\n",
              "\n",
              "    .dataframe tbody tr th {\n",
              "        vertical-align: top;\n",
              "    }\n",
              "\n",
              "    .dataframe thead th {\n",
              "        text-align: right;\n",
              "    }\n",
              "</style>\n",
              "<table border=\"1\" class=\"dataframe\">\n",
              "  <thead>\n",
              "    <tr style=\"text-align: right;\">\n",
              "      <th></th>\n",
              "      <th>Suspeito</th>\n",
              "      <th>Descartado</th>\n",
              "      <th>Confirmado</th>\n",
              "      <th>Morte</th>\n",
              "    </tr>\n",
              "    <tr>\n",
              "      <th>Estado</th>\n",
              "      <th></th>\n",
              "      <th></th>\n",
              "      <th></th>\n",
              "      <th></th>\n",
              "    </tr>\n",
              "  </thead>\n",
              "  <tbody>\n",
              "    <tr>\n",
              "      <th>São Paulo</th>\n",
              "      <td>17105</td>\n",
              "      <td>6379</td>\n",
              "      <td>963</td>\n",
              "      <td>5</td>\n",
              "    </tr>\n",
              "    <tr>\n",
              "      <th>Rio de Janeiro</th>\n",
              "      <td>3395</td>\n",
              "      <td>1815</td>\n",
              "      <td>215</td>\n",
              "      <td>0</td>\n",
              "    </tr>\n",
              "    <tr>\n",
              "      <th>Distrito Federal</th>\n",
              "      <td>1337</td>\n",
              "      <td>696</td>\n",
              "      <td>84</td>\n",
              "      <td>0</td>\n",
              "    </tr>\n",
              "    <tr>\n",
              "      <th>Rio Grande do Sul</th>\n",
              "      <td>2081</td>\n",
              "      <td>2378</td>\n",
              "      <td>58</td>\n",
              "      <td>0</td>\n",
              "    </tr>\n",
              "    <tr>\n",
              "      <th>Paraná</th>\n",
              "      <td>1224</td>\n",
              "      <td>659</td>\n",
              "      <td>49</td>\n",
              "      <td>0</td>\n",
              "    </tr>\n",
              "    <tr>\n",
              "      <th>Pernambuco</th>\n",
              "      <td>341</td>\n",
              "      <td>311</td>\n",
              "      <td>42</td>\n",
              "      <td>0</td>\n",
              "    </tr>\n",
              "    <tr>\n",
              "      <th>Minas Gerais</th>\n",
              "      <td>2978</td>\n",
              "      <td>730</td>\n",
              "      <td>37</td>\n",
              "      <td>0</td>\n",
              "    </tr>\n",
              "    <tr>\n",
              "      <th>Santa Catarina</th>\n",
              "      <td>1479</td>\n",
              "      <td>549</td>\n",
              "      <td>36</td>\n",
              "      <td>0</td>\n",
              "    </tr>\n",
              "    <tr>\n",
              "      <th>Goiás</th>\n",
              "      <td>682</td>\n",
              "      <td>457</td>\n",
              "      <td>26</td>\n",
              "      <td>0</td>\n",
              "    </tr>\n",
              "    <tr>\n",
              "      <th>Bahia</th>\n",
              "      <td>1529</td>\n",
              "      <td>542</td>\n",
              "      <td>25</td>\n",
              "      <td>0</td>\n",
              "    </tr>\n",
              "  </tbody>\n",
              "</table>\n",
              "</div>"
            ],
            "text/plain": [
              "                   Suspeito  Descartado  Confirmado  Morte\n",
              "Estado                                                    \n",
              "São Paulo             17105        6379         963      5\n",
              "Rio de Janeiro         3395        1815         215      0\n",
              "Distrito Federal       1337         696          84      0\n",
              "Rio Grande do Sul      2081        2378          58      0\n",
              "Paraná                 1224         659          49      0\n",
              "Pernambuco              341         311          42      0\n",
              "Minas Gerais           2978         730          37      0\n",
              "Santa Catarina         1479         549          36      0\n",
              "Goiás                   682         457          26      0\n",
              "Bahia                  1529         542          25      0"
            ]
          },
          "metadata": {
            "tags": []
          },
          "execution_count": 13
        }
      ]
    },
    {
      "cell_type": "code",
      "metadata": {
        "id": "ITC6XTZs_jm-",
        "colab_type": "code",
        "colab": {
          "base_uri": "https://localhost:8080/",
          "height": 441
        },
        "outputId": "66368db3-23a0-4c39-a249-b3e36003819c"
      },
      "source": [
        "sns.jointplot(x='Morte', y='Confirmado', data=ranking,);"
      ],
      "execution_count": 14,
      "outputs": [
        {
          "output_type": "display_data",
          "data": {
            "image/png": "[encoded data removed]",
            "text/plain": [
              "<Figure size 432x432 with 3 Axes>"
            ]
          },
          "metadata": {
            "tags": []
          }
        }
      ]
    }
  ]
}