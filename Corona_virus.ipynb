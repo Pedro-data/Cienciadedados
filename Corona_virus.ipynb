{
  "nbformat": 4,
  "nbformat_minor": 0,
  "metadata": {
    "colab": {
      "name": "Corona-virus.ipynb",
      "provenance": [],
      "collapsed_sections": [],
      "toc_visible": true,
      "authorship_tag": "ABX9TyOHS/J8WzdCD6haEhERJ+EU",
      "include_colab_link": true
    },
    "kernelspec": {
      "name": "python3",
      "display_name": "Python 3"
    }
  },
  "cells": [
    {
      "cell_type": "markdown",
      "metadata": {
        "id": "view-in-github",
        "colab_type": "text"
      },
      "source": [
        "<a href=\"https://colab.research.google.com/github/pedrodatascientist/Cienciadedados/blob/master/Corona_virus.ipynb\" target=\"_parent\"><img src=\"https://colab.research.google.com/assets/colab-badge.svg\" alt=\"Open In Colab\"/></a>"
      ]
    },
    {
      "cell_type": "markdown",
      "metadata": {
        "id": "SaCFCNl8YS7F",
        "colab_type": "text"
      },
      "source": [
        "# Analisando dados sobre o CONVID-19 no **Brasil**\n"
      ]
    },
    {
      "cell_type": "markdown",
      "metadata": {
        "id": "XK6M8hK0wZJn",
        "colab_type": "text"
      },
      "source": [
        "Fonte de dasos:\n",
        "https://www.kaggle.com/unanimad/corona-virus-brazil"
      ]
    },
    {
      "cell_type": "code",
      "metadata": {
        "id": "CiMrtMkaYkJY",
        "colab_type": "code",
        "outputId": "186a68e9-8c68-495d-9046-1ef92c173f30",
        "colab": {
          "base_uri": "https://localhost:8080/",
          "height": 125
        }
      },
      "source": [
        "from google.colab import drive\n",
        "drive.mount('/content/brazil_covid19')"
      ],
      "execution_count": 2,
      "outputs": [
        {
          "output_type": "stream",
          "text": [
            "Go to this URL in a browser: https://accounts.google.com/o/oauth2/auth?client_id=947318989803-6bn6qk8qdgf4n4g3pfee6491hc0brc4i.apps.googleusercontent.com&redirect_uri=urn%3aietf%3awg%3aoauth%3a2.0%3aoob&response_type=code&scope=email%20https%3a%2f%2fwww.googleapis.com%2fauth%2fdocs.test%20https%3a%2f%2fwww.googleapis.com%2fauth%2fdrive%20https%3a%2f%2fwww.googleapis.com%2fauth%2fdrive.photos.readonly%20https%3a%2f%2fwww.googleapis.com%2fauth%2fpeopleapi.readonly\n",
            "\n",
            "Enter your authorization code:\n",
            "··········\n",
            "Mounted at /content/brazil_covid19\n"
          ],
          "name": "stdout"
        }
      ]
    },
    {
      "cell_type": "code",
      "metadata": {
        "id": "58xVPaqmZmr5",
        "colab_type": "code",
        "outputId": "2a932199-e82a-45cf-9ea9-ea843b31bba1",
        "colab": {
          "base_uri": "https://localhost:8080/",
          "height": 16
        }
      },
      "source": [
        "import pandas as pd\n",
        "import plotly \n",
        "import plotly.offline as py\n",
        "import matplotlib.pyplot as plt\n",
        "from plotly.offline import plot, iplot\n",
        "plotly.offline.init_notebook_mode(connected=True)\n",
        "import seaborn as sns\n",
        "import plotly.graph_objects as go"
      ],
      "execution_count": 3,
      "outputs": [
        {
          "output_type": "display_data",
          "data": {
            "text/html": [
              "        <script type=\"text/javascript\">\n",
              "        window.PlotlyConfig = {MathJaxConfig: 'local'};\n",
              "        if (window.MathJax) {MathJax.Hub.Config({SVG: {font: \"STIX-Web\"}});}\n",
              "        if (typeof require !== 'undefined') {\n",
              "        require.undef(\"plotly\");\n",
              "        requirejs.config({\n",
              "            paths: {\n",
              "                'plotly': ['https://cdn.plot.ly/plotly-latest.min']\n",
              "            }\n",
              "        });\n",
              "        require(['plotly'], function(Plotly) {\n",
              "            window._Plotly = Plotly;\n",
              "        });\n",
              "        }\n",
              "        </script>\n",
              "        "
            ]
          },
          "metadata": {
            "tags": []
          }
        }
      ]
    },
    {
      "cell_type": "code",
      "metadata": {
        "id": "6XL_U59yakjJ",
        "colab_type": "code",
        "outputId": "e76e8622-0880-4ec9-a5a6-39b6a2e8336f",
        "colab": {
          "base_uri": "https://localhost:8080/",
          "height": 197
        }
      },
      "source": [
        "dfconvid = pd.read_csv('/content/brazil_covid19/My Drive/brazil_covid19.csv')\n",
        "dfconvid.head()"
      ],
      "execution_count": 4,
      "outputs": [
        {
          "output_type": "execute_result",
          "data": {
            "text/html": [
              "<div>\n",
              "<style scoped>\n",
              "    .dataframe tbody tr th:only-of-type {\n",
              "        vertical-align: middle;\n",
              "    }\n",
              "\n",
              "    .dataframe tbody tr th {\n",
              "        vertical-align: top;\n",
              "    }\n",
              "\n",
              "    .dataframe thead th {\n",
              "        text-align: right;\n",
              "    }\n",
              "</style>\n",
              "<table border=\"1\" class=\"dataframe\">\n",
              "  <thead>\n",
              "    <tr style=\"text-align: right;\">\n",
              "      <th></th>\n",
              "      <th>date</th>\n",
              "      <th>hour</th>\n",
              "      <th>state</th>\n",
              "      <th>suspects</th>\n",
              "      <th>refuses</th>\n",
              "      <th>cases</th>\n",
              "      <th>deaths</th>\n",
              "    </tr>\n",
              "  </thead>\n",
              "  <tbody>\n",
              "    <tr>\n",
              "      <th>0</th>\n",
              "      <td>2020-01-30</td>\n",
              "      <td>16:00</td>\n",
              "      <td>Minas Gerais</td>\n",
              "      <td>1</td>\n",
              "      <td>0</td>\n",
              "      <td>0</td>\n",
              "      <td>0</td>\n",
              "    </tr>\n",
              "    <tr>\n",
              "      <th>1</th>\n",
              "      <td>2020-01-30</td>\n",
              "      <td>16:00</td>\n",
              "      <td>Rio de Janeiro</td>\n",
              "      <td>1</td>\n",
              "      <td>0</td>\n",
              "      <td>0</td>\n",
              "      <td>0</td>\n",
              "    </tr>\n",
              "    <tr>\n",
              "      <th>2</th>\n",
              "      <td>2020-01-30</td>\n",
              "      <td>16:00</td>\n",
              "      <td>Santa Catarina</td>\n",
              "      <td>0</td>\n",
              "      <td>2</td>\n",
              "      <td>0</td>\n",
              "      <td>0</td>\n",
              "    </tr>\n",
              "    <tr>\n",
              "      <th>3</th>\n",
              "      <td>2020-01-30</td>\n",
              "      <td>16:00</td>\n",
              "      <td>São Paulo</td>\n",
              "      <td>3</td>\n",
              "      <td>1</td>\n",
              "      <td>0</td>\n",
              "      <td>0</td>\n",
              "    </tr>\n",
              "    <tr>\n",
              "      <th>4</th>\n",
              "      <td>2020-01-30</td>\n",
              "      <td>16:00</td>\n",
              "      <td>Rio Grande do Sul</td>\n",
              "      <td>2</td>\n",
              "      <td>2</td>\n",
              "      <td>0</td>\n",
              "      <td>0</td>\n",
              "    </tr>\n",
              "  </tbody>\n",
              "</table>\n",
              "</div>"
            ],
            "text/plain": [
              "         date   hour              state  suspects  refuses  cases  deaths\n",
              "0  2020-01-30  16:00       Minas Gerais         1        0      0       0\n",
              "1  2020-01-30  16:00     Rio de Janeiro         1        0      0       0\n",
              "2  2020-01-30  16:00     Santa Catarina         0        2      0       0\n",
              "3  2020-01-30  16:00          São Paulo         3        1      0       0\n",
              "4  2020-01-30  16:00  Rio Grande do Sul         2        2      0       0"
            ]
          },
          "metadata": {
            "tags": []
          },
          "execution_count": 4
        }
      ]
    },
    {
      "cell_type": "code",
      "metadata": {
        "id": "XTia3-COa7lN",
        "colab_type": "code",
        "outputId": "0b0e0ef3-fea3-46ee-ebd1-0dbfcdc4e131",
        "colab": {
          "base_uri": "https://localhost:8080/",
          "height": 77
        }
      },
      "source": [
        "dfconvid.rename(columns={'date': 'Data', 'hour': 'Hora','state': 'Estado','suspects': 'Suspeito',\n",
        "                        'suspects': 'Suspeito', 'refuses': 'Descartado', 'cases': 'Confirmado',\n",
        "                         'deaths':'Morte'}, inplace=True)\n",
        "dfconvid.head(1)"
      ],
      "execution_count": 5,
      "outputs": [
        {
          "output_type": "execute_result",
          "data": {
            "text/html": [
              "<div>\n",
              "<style scoped>\n",
              "    .dataframe tbody tr th:only-of-type {\n",
              "        vertical-align: middle;\n",
              "    }\n",
              "\n",
              "    .dataframe tbody tr th {\n",
              "        vertical-align: top;\n",
              "    }\n",
              "\n",
              "    .dataframe thead th {\n",
              "        text-align: right;\n",
              "    }\n",
              "</style>\n",
              "<table border=\"1\" class=\"dataframe\">\n",
              "  <thead>\n",
              "    <tr style=\"text-align: right;\">\n",
              "      <th></th>\n",
              "      <th>Data</th>\n",
              "      <th>Hora</th>\n",
              "      <th>Estado</th>\n",
              "      <th>Suspeito</th>\n",
              "      <th>Descartado</th>\n",
              "      <th>Confirmado</th>\n",
              "      <th>Morte</th>\n",
              "    </tr>\n",
              "  </thead>\n",
              "  <tbody>\n",
              "    <tr>\n",
              "      <th>0</th>\n",
              "      <td>2020-01-30</td>\n",
              "      <td>16:00</td>\n",
              "      <td>Minas Gerais</td>\n",
              "      <td>1</td>\n",
              "      <td>0</td>\n",
              "      <td>0</td>\n",
              "      <td>0</td>\n",
              "    </tr>\n",
              "  </tbody>\n",
              "</table>\n",
              "</div>"
            ],
            "text/plain": [
              "         Data   Hora        Estado  Suspeito  Descartado  Confirmado  Morte\n",
              "0  2020-01-30  16:00  Minas Gerais         1           0           0      0"
            ]
          },
          "metadata": {
            "tags": []
          },
          "execution_count": 5
        }
      ]
    },
    {
      "cell_type": "code",
      "metadata": {
        "id": "Bect7LHidMNr",
        "colab_type": "code",
        "outputId": "0e476b3e-adfd-46cb-fc25-ad148dca31e7",
        "colab": {
          "base_uri": "https://localhost:8080/",
          "height": 158
        }
      },
      "source": [
        "dfconvid.isnull().sum()"
      ],
      "execution_count": 6,
      "outputs": [
        {
          "output_type": "execute_result",
          "data": {
            "text/plain": [
              "Data          0\n",
              "Hora          0\n",
              "Estado        0\n",
              "Suspeito      0\n",
              "Descartado    0\n",
              "Confirmado    0\n",
              "Morte         0\n",
              "dtype: int64"
            ]
          },
          "metadata": {
            "tags": []
          },
          "execution_count": 6
        }
      ]
    },
    {
      "cell_type": "code",
      "metadata": {
        "id": "c6jM8Vnh1LBc",
        "colab_type": "code",
        "outputId": "f2a42f52-5743-42dc-e095-384ed8ad9c24",
        "colab": {
          "base_uri": "https://localhost:8080/",
          "height": 158
        }
      },
      "source": [
        "dfconvid.dtypes"
      ],
      "execution_count": 7,
      "outputs": [
        {
          "output_type": "execute_result",
          "data": {
            "text/plain": [
              "Data          object\n",
              "Hora          object\n",
              "Estado        object\n",
              "Suspeito       int64\n",
              "Descartado     int64\n",
              "Confirmado     int64\n",
              "Morte          int64\n",
              "dtype: object"
            ]
          },
          "metadata": {
            "tags": []
          },
          "execution_count": 7
        }
      ]
    },
    {
      "cell_type": "code",
      "metadata": {
        "id": "d-HsZD47jLXx",
        "colab_type": "code",
        "colab": {}
      },
      "source": [
        "dfconvid['Data'] = pd.to_datetime(dfconvid['Data'])\n",
        "dfconvid.drop('Hora', inplace=True, axis=1)"
      ],
      "execution_count": 0,
      "outputs": []
    },
    {
      "cell_type": "code",
      "metadata": {
        "id": "SvjLJfwck4YU",
        "colab_type": "code",
        "outputId": "7221dc5d-e64a-4574-f7c9-980715472fda",
        "colab": {
          "base_uri": "https://localhost:8080/",
          "height": 406
        }
      },
      "source": [
        "dfconvid"
      ],
      "execution_count": 9,
      "outputs": [
        {
          "output_type": "execute_result",
          "data": {
            "text/html": [
              "<div>\n",
              "<style scoped>\n",
              "    .dataframe tbody tr th:only-of-type {\n",
              "        vertical-align: middle;\n",
              "    }\n",
              "\n",
              "    .dataframe tbody tr th {\n",
              "        vertical-align: top;\n",
              "    }\n",
              "\n",
              "    .dataframe thead th {\n",
              "        text-align: right;\n",
              "    }\n",
              "</style>\n",
              "<table border=\"1\" class=\"dataframe\">\n",
              "  <thead>\n",
              "    <tr style=\"text-align: right;\">\n",
              "      <th></th>\n",
              "      <th>Data</th>\n",
              "      <th>Estado</th>\n",
              "      <th>Suspeito</th>\n",
              "      <th>Descartado</th>\n",
              "      <th>Confirmado</th>\n",
              "      <th>Morte</th>\n",
              "    </tr>\n",
              "  </thead>\n",
              "  <tbody>\n",
              "    <tr>\n",
              "      <th>0</th>\n",
              "      <td>2020-01-30</td>\n",
              "      <td>Minas Gerais</td>\n",
              "      <td>1</td>\n",
              "      <td>0</td>\n",
              "      <td>0</td>\n",
              "      <td>0</td>\n",
              "    </tr>\n",
              "    <tr>\n",
              "      <th>1</th>\n",
              "      <td>2020-01-30</td>\n",
              "      <td>Rio de Janeiro</td>\n",
              "      <td>1</td>\n",
              "      <td>0</td>\n",
              "      <td>0</td>\n",
              "      <td>0</td>\n",
              "    </tr>\n",
              "    <tr>\n",
              "      <th>2</th>\n",
              "      <td>2020-01-30</td>\n",
              "      <td>Santa Catarina</td>\n",
              "      <td>0</td>\n",
              "      <td>2</td>\n",
              "      <td>0</td>\n",
              "      <td>0</td>\n",
              "    </tr>\n",
              "    <tr>\n",
              "      <th>3</th>\n",
              "      <td>2020-01-30</td>\n",
              "      <td>São Paulo</td>\n",
              "      <td>3</td>\n",
              "      <td>1</td>\n",
              "      <td>0</td>\n",
              "      <td>0</td>\n",
              "    </tr>\n",
              "    <tr>\n",
              "      <th>4</th>\n",
              "      <td>2020-01-30</td>\n",
              "      <td>Rio Grande do Sul</td>\n",
              "      <td>2</td>\n",
              "      <td>2</td>\n",
              "      <td>0</td>\n",
              "      <td>0</td>\n",
              "    </tr>\n",
              "    <tr>\n",
              "      <th>...</th>\n",
              "      <td>...</td>\n",
              "      <td>...</td>\n",
              "      <td>...</td>\n",
              "      <td>...</td>\n",
              "      <td>...</td>\n",
              "      <td>...</td>\n",
              "    </tr>\n",
              "    <tr>\n",
              "      <th>679</th>\n",
              "      <td>2020-03-18</td>\n",
              "      <td>Rio Grande do Sul</td>\n",
              "      <td>416</td>\n",
              "      <td>330</td>\n",
              "      <td>19</td>\n",
              "      <td>0</td>\n",
              "    </tr>\n",
              "    <tr>\n",
              "      <th>680</th>\n",
              "      <td>2020-03-18</td>\n",
              "      <td>Mato Grosso do Sul</td>\n",
              "      <td>93</td>\n",
              "      <td>26</td>\n",
              "      <td>7</td>\n",
              "      <td>0</td>\n",
              "    </tr>\n",
              "    <tr>\n",
              "      <th>681</th>\n",
              "      <td>2020-03-18</td>\n",
              "      <td>Mato Grosso</td>\n",
              "      <td>45</td>\n",
              "      <td>8</td>\n",
              "      <td>0</td>\n",
              "      <td>0</td>\n",
              "    </tr>\n",
              "    <tr>\n",
              "      <th>682</th>\n",
              "      <td>2020-03-18</td>\n",
              "      <td>Goiás</td>\n",
              "      <td>353</td>\n",
              "      <td>55</td>\n",
              "      <td>8</td>\n",
              "      <td>0</td>\n",
              "    </tr>\n",
              "    <tr>\n",
              "      <th>683</th>\n",
              "      <td>2020-03-18</td>\n",
              "      <td>Distrito Federal</td>\n",
              "      <td>327</td>\n",
              "      <td>107</td>\n",
              "      <td>26</td>\n",
              "      <td>0</td>\n",
              "    </tr>\n",
              "  </tbody>\n",
              "</table>\n",
              "<p>684 rows × 6 columns</p>\n",
              "</div>"
            ],
            "text/plain": [
              "          Data              Estado  Suspeito  Descartado  Confirmado  Morte\n",
              "0   2020-01-30        Minas Gerais         1           0           0      0\n",
              "1   2020-01-30      Rio de Janeiro         1           0           0      0\n",
              "2   2020-01-30      Santa Catarina         0           2           0      0\n",
              "3   2020-01-30           São Paulo         3           1           0      0\n",
              "4   2020-01-30   Rio Grande do Sul         2           2           0      0\n",
              "..         ...                 ...       ...         ...         ...    ...\n",
              "679 2020-03-18   Rio Grande do Sul       416         330          19      0\n",
              "680 2020-03-18  Mato Grosso do Sul        93          26           7      0\n",
              "681 2020-03-18         Mato Grosso        45           8           0      0\n",
              "682 2020-03-18               Goiás       353          55           8      0\n",
              "683 2020-03-18    Distrito Federal       327         107          26      0\n",
              "\n",
              "[684 rows x 6 columns]"
            ]
          },
          "metadata": {
            "tags": []
          },
          "execution_count": 9
        }
      ]
    },
    {
      "cell_type": "code",
      "metadata": {
        "id": "sF1BI-1JlEXt",
        "colab_type": "code",
        "outputId": "5b5e8945-cfa8-4a7e-c645-306f4230f7d0",
        "colab": {
          "base_uri": "https://localhost:8080/",
          "height": 620
        }
      },
      "source": [
        "plt.subplots(figsize=(15, 7));\n",
        "linhas = sns.lineplot(x='Data', y='Confirmado', data=dfconvid);\n",
        "plt.title('Evolução dos casos confirmados');"
      ],
      "execution_count": 10,
      "outputs": [
        {
          "output_type": "stream",
          "text": [
            "/usr/local/lib/python3.6/dist-packages/pandas/plotting/_matplotlib/converter.py:103: FutureWarning:\n",
            "\n",
            "Using an implicitly registered datetime converter for a matplotlib plotting method. The converter was registered by pandas on import. Future versions of pandas will require you to explicitly register matplotlib converters.\n",
            "\n",
            "To register the converters:\n",
            "\t>>> from pandas.plotting import register_matplotlib_converters\n",
            "\t>>> register_matplotlib_converters()\n",
            "\n"
          ],
          "name": "stderr"
        },
        {
          "output_type": "display_data",
          "data": {
            "image/png": "[encoded data removed]",
            "text/plain": [
              "<Figure size 1080x504 with 1 Axes>"
            ]
          },
          "metadata": {
            "tags": []
          }
        }
      ]
    },
    {
      "cell_type": "code",
      "metadata": {
        "id": "vu8JCa1B_8fI",
        "colab_type": "code",
        "outputId": "86d2a087-09ef-434e-c3b9-95c2392197b9",
        "colab": {
          "base_uri": "https://localhost:8080/",
          "height": 566
        }
      },
      "source": [
        "df2 = dfconvid[dfconvid['Data'] > '2020-03-01']\n",
        "plt.subplots(figsize=(18, 9));\n",
        "barras = sns.lineplot(x='Data',y='Confirmado', hue=\"Estado\",data=df2);\n",
        "plt.title('Evolução dos casos confirmador por estado');"
      ],
      "execution_count": 15,
      "outputs": [
        {
          "output_type": "display_data",
          "data": {
            "image/png": "[encoded data removed]",
            "text/plain": [
              "<Figure size 1296x648 with 1 Axes>"
            ]
          },
          "metadata": {
            "tags": []
          }
        }
      ]
    },
    {
      "cell_type": "code",
      "metadata": {
        "id": "gsgQxWiCzbOM",
        "colab_type": "code",
        "outputId": "9ef55863-66e4-420d-aba1-882bdfe78986",
        "colab": {
          "base_uri": "https://localhost:8080/",
          "height": 384
        }
      },
      "source": [
        "sns.relplot(x='Confirmado', y='Suspeito', data=dfconvid, sizes=10);\n",
        "plt.title('Casos confirmados vs Suspeitos');"
      ],
      "execution_count": 16,
      "outputs": [
        {
          "output_type": "display_data",
          "data": {
            "image/png": "[encoded data removed]",
            "text/plain": [
              "<Figure size 360x360 with 1 Axes>"
            ]
          },
          "metadata": {
            "tags": []
          }
        }
      ]
    },
    {
      "cell_type": "code",
      "metadata": {
        "id": "xX7hvqbX6_UL",
        "colab_type": "code",
        "outputId": "d1f1ef3e-5d4b-41da-b09b-38ea4bb12ca8",
        "colab": {
          "base_uri": "https://localhost:8080/",
          "height": 384
        }
      },
      "source": [
        "sns.relplot(x='Suspeito', y='Descartado', data=dfconvid, sizes=10);\n",
        "plt.title('Casos Suspeitos vs Descartados');"
      ],
      "execution_count": 17,
      "outputs": [
        {
          "output_type": "display_data",
          "data": {
            "image/png": "[encoded data removed]",
            "text/plain": [
              "<Figure size 360x360 with 1 Axes>"
            ]
          },
          "metadata": {
            "tags": []
          }
        }
      ]
    },
    {
      "cell_type": "code",
      "metadata": {
        "id": "05GEnZY5_yAR",
        "colab_type": "code",
        "outputId": "c6c0fe92-cb7c-4668-db89-2f1ef72aa9bb",
        "colab": {
          "base_uri": "https://localhost:8080/",
          "height": 377
        }
      },
      "source": [
        "estados = dfconvid.groupby('Estado').sum()\n",
        "ranking = estados.sort_values(by='Confirmado', ascending=False)\n",
        "ranking.head(10)"
      ],
      "execution_count": 18,
      "outputs": [
        {
          "output_type": "execute_result",
          "data": {
            "text/html": [
              "<div>\n",
              "<style scoped>\n",
              "    .dataframe tbody tr th:only-of-type {\n",
              "        vertical-align: middle;\n",
              "    }\n",
              "\n",
              "    .dataframe tbody tr th {\n",
              "        vertical-align: top;\n",
              "    }\n",
              "\n",
              "    .dataframe thead th {\n",
              "        text-align: right;\n",
              "    }\n",
              "</style>\n",
              "<table border=\"1\" class=\"dataframe\">\n",
              "  <thead>\n",
              "    <tr style=\"text-align: right;\">\n",
              "      <th></th>\n",
              "      <th>Suspeito</th>\n",
              "      <th>Descartado</th>\n",
              "      <th>Confirmado</th>\n",
              "      <th>Morte</th>\n",
              "    </tr>\n",
              "    <tr>\n",
              "      <th>Estado</th>\n",
              "      <th></th>\n",
              "      <th></th>\n",
              "      <th></th>\n",
              "      <th></th>\n",
              "    </tr>\n",
              "  </thead>\n",
              "  <tbody>\n",
              "    <tr>\n",
              "      <th>São Paulo</th>\n",
              "      <td>17105</td>\n",
              "      <td>6379</td>\n",
              "      <td>963</td>\n",
              "      <td>5</td>\n",
              "    </tr>\n",
              "    <tr>\n",
              "      <th>Rio de Janeiro</th>\n",
              "      <td>3395</td>\n",
              "      <td>1815</td>\n",
              "      <td>215</td>\n",
              "      <td>0</td>\n",
              "    </tr>\n",
              "    <tr>\n",
              "      <th>Distrito Federal</th>\n",
              "      <td>1337</td>\n",
              "      <td>696</td>\n",
              "      <td>84</td>\n",
              "      <td>0</td>\n",
              "    </tr>\n",
              "    <tr>\n",
              "      <th>Rio Grande do Sul</th>\n",
              "      <td>2081</td>\n",
              "      <td>2378</td>\n",
              "      <td>58</td>\n",
              "      <td>0</td>\n",
              "    </tr>\n",
              "    <tr>\n",
              "      <th>Paraná</th>\n",
              "      <td>1224</td>\n",
              "      <td>659</td>\n",
              "      <td>49</td>\n",
              "      <td>0</td>\n",
              "    </tr>\n",
              "    <tr>\n",
              "      <th>Pernambuco</th>\n",
              "      <td>341</td>\n",
              "      <td>311</td>\n",
              "      <td>42</td>\n",
              "      <td>0</td>\n",
              "    </tr>\n",
              "    <tr>\n",
              "      <th>Minas Gerais</th>\n",
              "      <td>2978</td>\n",
              "      <td>730</td>\n",
              "      <td>37</td>\n",
              "      <td>0</td>\n",
              "    </tr>\n",
              "    <tr>\n",
              "      <th>Santa Catarina</th>\n",
              "      <td>1479</td>\n",
              "      <td>549</td>\n",
              "      <td>36</td>\n",
              "      <td>0</td>\n",
              "    </tr>\n",
              "    <tr>\n",
              "      <th>Goiás</th>\n",
              "      <td>682</td>\n",
              "      <td>457</td>\n",
              "      <td>26</td>\n",
              "      <td>0</td>\n",
              "    </tr>\n",
              "    <tr>\n",
              "      <th>Bahia</th>\n",
              "      <td>1529</td>\n",
              "      <td>542</td>\n",
              "      <td>25</td>\n",
              "      <td>0</td>\n",
              "    </tr>\n",
              "  </tbody>\n",
              "</table>\n",
              "</div>"
            ],
            "text/plain": [
              "                   Suspeito  Descartado  Confirmado  Morte\n",
              "Estado                                                    \n",
              "São Paulo             17105        6379         963      5\n",
              "Rio de Janeiro         3395        1815         215      0\n",
              "Distrito Federal       1337         696          84      0\n",
              "Rio Grande do Sul      2081        2378          58      0\n",
              "Paraná                 1224         659          49      0\n",
              "Pernambuco              341         311          42      0\n",
              "Minas Gerais           2978         730          37      0\n",
              "Santa Catarina         1479         549          36      0\n",
              "Goiás                   682         457          26      0\n",
              "Bahia                  1529         542          25      0"
            ]
          },
          "metadata": {
            "tags": []
          },
          "execution_count": 18
        }
      ]
    },
    {
      "cell_type": "code",
      "metadata": {
        "id": "ITC6XTZs_jm-",
        "colab_type": "code",
        "outputId": "c98e7c33-4ca3-4b1c-84e9-7e9f960fa79f",
        "colab": {
          "base_uri": "https://localhost:8080/",
          "height": 441
        }
      },
      "source": [
        "sns.jointplot(x='Morte', y='Confirmado', data=ranking,);"
      ],
      "execution_count": 19,
      "outputs": [
        {
          "output_type": "display_data",
          "data": {
            "image/png": "[encoded data removed]",
            "text/plain": [
              "<Figure size 432x432 with 3 Axes>"
            ]
          },
          "metadata": {
            "tags": []
          }
        }
      ]
    }
  ]
}