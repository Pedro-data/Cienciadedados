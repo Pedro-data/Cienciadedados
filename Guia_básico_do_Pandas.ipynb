{
  "nbformat": 4,
  "nbformat_minor": 0,
  "metadata": {
    "colab": {
      "name": "Guia básico do Pandas",
      "provenance": [],
      "collapsed_sections": [],
      "authorship_tag": "ABX9TyNldT49Qcf5bdSU5gLdgOss"
    },
    "kernelspec": {
      "name": "python3",
      "display_name": "Python 3"
    }
  },
  "cells": [
    {
      "cell_type": "markdown",
      "metadata": {
        "id": "gCe207vbUZ5v",
        "colab_type": "text"
      },
      "source": [
        "# Introdução ao pandas\n",
        "Guia básico"
      ]
    },
    {
      "cell_type": "code",
      "metadata": {
        "id": "kGfO5NhBSrrb",
        "colab_type": "code",
        "colab": {}
      },
      "source": [
        "import pandas as pd\n",
        "import numpy as np"
      ],
      "execution_count": 0,
      "outputs": []
    },
    {
      "cell_type": "code",
      "metadata": {
        "id": "2pzOXrqFUu75",
        "colab_type": "code",
        "outputId": "81b8148e-3b9b-4878-cda9-c72680fcfb0a",
        "colab": {
          "base_uri": "https://localhost:8080/",
          "height": 158
        }
      },
      "source": [
        "#Criando uma série e passandos os valore\n",
        "s = pd.Series([1, 3, 5, np.nan, 6, 9, 15])\n",
        "print(s)\n"
      ],
      "execution_count": 0,
      "outputs": [
        {
          "output_type": "stream",
          "text": [
            "0     1.0\n",
            "1     3.0\n",
            "2     5.0\n",
            "3     NaN\n",
            "4     6.0\n",
            "5     9.0\n",
            "6    15.0\n",
            "dtype: float64\n"
          ],
          "name": "stdout"
        }
      ]
    },
    {
      "cell_type": "code",
      "metadata": {
        "id": "Y73N_VE1VM2p",
        "colab_type": "code",
        "outputId": "72036fb7-a058-4652-edae-46ddb3c74bdd",
        "colab": {
          "base_uri": "https://localhost:8080/",
          "height": 70
        }
      },
      "source": [
        "# Criando Dataframe com array numpy \n",
        "dates = pd.date_range('20130101', periods = 6) #passamos a data e quantos períodos em dias\n",
        "print(dates)"
      ],
      "execution_count": 0,
      "outputs": [
        {
          "output_type": "stream",
          "text": [
            "DatetimeIndex(['2013-01-01', '2013-01-02', '2013-01-03', '2013-01-04',\n",
            "               '2013-01-05', '2013-01-06'],\n",
            "              dtype='datetime64[ns]', freq='D')\n"
          ],
          "name": "stdout"
        }
      ]
    },
    {
      "cell_type": "code",
      "metadata": {
        "id": "lcwKQ2sXV_nS",
        "colab_type": "code",
        "outputId": "d501d291-1a58-4922-a27f-bdeebc03606d",
        "colab": {
          "base_uri": "https://localhost:8080/",
          "height": 227
        }
      },
      "source": [
        "#Crinado um Dataframe com números aleatórios contendo 6 linas e 4 colunas\n",
        "df = pd.DataFrame(np.random.randn(6, 4), index=dates, columns=list('ABCD'))\n",
        "df"
      ],
      "execution_count": 0,
      "outputs": [
        {
          "output_type": "execute_result",
          "data": {
            "text/html": [
              "<div>\n",
              "<style scoped>\n",
              "    .dataframe tbody tr th:only-of-type {\n",
              "        vertical-align: middle;\n",
              "    }\n",
              "\n",
              "    .dataframe tbody tr th {\n",
              "        vertical-align: top;\n",
              "    }\n",
              "\n",
              "    .dataframe thead th {\n",
              "        text-align: right;\n",
              "    }\n",
              "</style>\n",
              "<table border=\"1\" class=\"dataframe\">\n",
              "  <thead>\n",
              "    <tr style=\"text-align: right;\">\n",
              "      <th></th>\n",
              "      <th>A</th>\n",
              "      <th>B</th>\n",
              "      <th>C</th>\n",
              "      <th>D</th>\n",
              "    </tr>\n",
              "  </thead>\n",
              "  <tbody>\n",
              "    <tr>\n",
              "      <th>2013-01-01</th>\n",
              "      <td>0.405504</td>\n",
              "      <td>-1.779254</td>\n",
              "      <td>-0.546752</td>\n",
              "      <td>1.610266</td>\n",
              "    </tr>\n",
              "    <tr>\n",
              "      <th>2013-01-02</th>\n",
              "      <td>-1.578147</td>\n",
              "      <td>-1.119761</td>\n",
              "      <td>1.234060</td>\n",
              "      <td>-0.400535</td>\n",
              "    </tr>\n",
              "    <tr>\n",
              "      <th>2013-01-03</th>\n",
              "      <td>-1.020955</td>\n",
              "      <td>-1.115547</td>\n",
              "      <td>-1.380094</td>\n",
              "      <td>-0.466280</td>\n",
              "    </tr>\n",
              "    <tr>\n",
              "      <th>2013-01-04</th>\n",
              "      <td>0.186824</td>\n",
              "      <td>-0.101365</td>\n",
              "      <td>-0.427483</td>\n",
              "      <td>1.756040</td>\n",
              "    </tr>\n",
              "    <tr>\n",
              "      <th>2013-01-05</th>\n",
              "      <td>1.655064</td>\n",
              "      <td>0.244399</td>\n",
              "      <td>-0.523301</td>\n",
              "      <td>-0.183911</td>\n",
              "    </tr>\n",
              "    <tr>\n",
              "      <th>2013-01-06</th>\n",
              "      <td>0.031059</td>\n",
              "      <td>-0.807516</td>\n",
              "      <td>-1.341540</td>\n",
              "      <td>-0.721306</td>\n",
              "    </tr>\n",
              "  </tbody>\n",
              "</table>\n",
              "</div>"
            ],
            "text/plain": [
              "                   A         B         C         D\n",
              "2013-01-01  0.405504 -1.779254 -0.546752  1.610266\n",
              "2013-01-02 -1.578147 -1.119761  1.234060 -0.400535\n",
              "2013-01-03 -1.020955 -1.115547 -1.380094 -0.466280\n",
              "2013-01-04  0.186824 -0.101365 -0.427483  1.756040\n",
              "2013-01-05  1.655064  0.244399 -0.523301 -0.183911\n",
              "2013-01-06  0.031059 -0.807516 -1.341540 -0.721306"
            ]
          },
          "metadata": {
            "tags": []
          },
          "execution_count": 4
        }
      ]
    },
    {
      "cell_type": "code",
      "metadata": {
        "id": "zhHC895VW6XE",
        "colab_type": "code",
        "outputId": "3e219c18-32c0-42e5-fbcf-caa3545f14a1",
        "colab": {
          "base_uri": "https://localhost:8080/",
          "height": 167
        }
      },
      "source": [
        "#Criando um Dataframe passando um dicionário\n",
        "# Dicionários recebem {Chave: valor}\n",
        "dfdict = pd.DataFrame({'A': 100,\n",
        "                       'B': pd.Timestamp('20130101'),\n",
        "                       'C': pd.Series(1, index=(range(4)), dtype='float32'),\n",
        "                       'D': np.array([3]* 4, dtype='int32'),\n",
        "                       'E': pd.Categorical(['teste,','Treino','Teste','Treino']),\n",
        "                       'F': 'fo'})\n",
        "dfdict"
      ],
      "execution_count": 0,
      "outputs": [
        {
          "output_type": "execute_result",
          "data": {
            "text/html": [
              "<div>\n",
              "<style scoped>\n",
              "    .dataframe tbody tr th:only-of-type {\n",
              "        vertical-align: middle;\n",
              "    }\n",
              "\n",
              "    .dataframe tbody tr th {\n",
              "        vertical-align: top;\n",
              "    }\n",
              "\n",
              "    .dataframe thead th {\n",
              "        text-align: right;\n",
              "    }\n",
              "</style>\n",
              "<table border=\"1\" class=\"dataframe\">\n",
              "  <thead>\n",
              "    <tr style=\"text-align: right;\">\n",
              "      <th></th>\n",
              "      <th>A</th>\n",
              "      <th>B</th>\n",
              "      <th>C</th>\n",
              "      <th>D</th>\n",
              "      <th>E</th>\n",
              "      <th>F</th>\n",
              "    </tr>\n",
              "  </thead>\n",
              "  <tbody>\n",
              "    <tr>\n",
              "      <th>0</th>\n",
              "      <td>100</td>\n",
              "      <td>2013-01-01</td>\n",
              "      <td>1.0</td>\n",
              "      <td>3</td>\n",
              "      <td>teste,</td>\n",
              "      <td>fo</td>\n",
              "    </tr>\n",
              "    <tr>\n",
              "      <th>1</th>\n",
              "      <td>100</td>\n",
              "      <td>2013-01-01</td>\n",
              "      <td>1.0</td>\n",
              "      <td>3</td>\n",
              "      <td>Treino</td>\n",
              "      <td>fo</td>\n",
              "    </tr>\n",
              "    <tr>\n",
              "      <th>2</th>\n",
              "      <td>100</td>\n",
              "      <td>2013-01-01</td>\n",
              "      <td>1.0</td>\n",
              "      <td>3</td>\n",
              "      <td>Teste</td>\n",
              "      <td>fo</td>\n",
              "    </tr>\n",
              "    <tr>\n",
              "      <th>3</th>\n",
              "      <td>100</td>\n",
              "      <td>2013-01-01</td>\n",
              "      <td>1.0</td>\n",
              "      <td>3</td>\n",
              "      <td>Treino</td>\n",
              "      <td>fo</td>\n",
              "    </tr>\n",
              "  </tbody>\n",
              "</table>\n",
              "</div>"
            ],
            "text/plain": [
              "     A          B    C  D       E   F\n",
              "0  100 2013-01-01  1.0  3  teste,  fo\n",
              "1  100 2013-01-01  1.0  3  Treino  fo\n",
              "2  100 2013-01-01  1.0  3   Teste  fo\n",
              "3  100 2013-01-01  1.0  3  Treino  fo"
            ]
          },
          "metadata": {
            "tags": []
          },
          "execution_count": 5
        }
      ]
    },
    {
      "cell_type": "code",
      "metadata": {
        "id": "JpRdDj_Qb0wF",
        "colab_type": "code",
        "outputId": "acf357a6-4a39-4943-e95e-a763542b54a2",
        "colab": {
          "base_uri": "https://localhost:8080/",
          "height": 141
        }
      },
      "source": [
        "#Descobrindo o tipo de dados do Dataframe\n",
        "dfdict.dtypes"
      ],
      "execution_count": 0,
      "outputs": [
        {
          "output_type": "execute_result",
          "data": {
            "text/plain": [
              "A             int64\n",
              "B    datetime64[ns]\n",
              "C           float32\n",
              "D             int32\n",
              "E          category\n",
              "F            object\n",
              "dtype: object"
            ]
          },
          "metadata": {
            "tags": []
          },
          "execution_count": 6
        }
      ]
    },
    {
      "cell_type": "code",
      "metadata": {
        "id": "iJMlQDiahG6i",
        "colab_type": "code",
        "outputId": "f58d1107-2354-4b18-92dc-111e703958d5",
        "colab": {
          "base_uri": "https://localhost:8080/",
          "height": 107
        }
      },
      "source": [
        "#Mostrando a \"cabeça\" do dataframe(2 primeiras linhas)\n",
        "df.head(2)"
      ],
      "execution_count": 0,
      "outputs": [
        {
          "output_type": "execute_result",
          "data": {
            "text/html": [
              "<div>\n",
              "<style scoped>\n",
              "    .dataframe tbody tr th:only-of-type {\n",
              "        vertical-align: middle;\n",
              "    }\n",
              "\n",
              "    .dataframe tbody tr th {\n",
              "        vertical-align: top;\n",
              "    }\n",
              "\n",
              "    .dataframe thead th {\n",
              "        text-align: right;\n",
              "    }\n",
              "</style>\n",
              "<table border=\"1\" class=\"dataframe\">\n",
              "  <thead>\n",
              "    <tr style=\"text-align: right;\">\n",
              "      <th></th>\n",
              "      <th>A</th>\n",
              "      <th>B</th>\n",
              "      <th>C</th>\n",
              "      <th>D</th>\n",
              "    </tr>\n",
              "  </thead>\n",
              "  <tbody>\n",
              "    <tr>\n",
              "      <th>2013-01-01</th>\n",
              "      <td>0.405504</td>\n",
              "      <td>-1.779254</td>\n",
              "      <td>-0.546752</td>\n",
              "      <td>1.610266</td>\n",
              "    </tr>\n",
              "    <tr>\n",
              "      <th>2013-01-02</th>\n",
              "      <td>-1.578147</td>\n",
              "      <td>-1.119761</td>\n",
              "      <td>1.234060</td>\n",
              "      <td>-0.400535</td>\n",
              "    </tr>\n",
              "  </tbody>\n",
              "</table>\n",
              "</div>"
            ],
            "text/plain": [
              "                   A         B         C         D\n",
              "2013-01-01  0.405504 -1.779254 -0.546752  1.610266\n",
              "2013-01-02 -1.578147 -1.119761  1.234060 -0.400535"
            ]
          },
          "metadata": {
            "tags": []
          },
          "execution_count": 7
        }
      ]
    },
    {
      "cell_type": "code",
      "metadata": {
        "id": "1CQ-f4IJhiKK",
        "colab_type": "code",
        "outputId": "aef4d659-fd0e-43e4-fcf9-ca261573eb46",
        "colab": {
          "base_uri": "https://localhost:8080/",
          "height": 107
        }
      },
      "source": [
        "#Mostrando o \"pé\" do dataframe(2 últimas linhas)\n",
        "df.tail(2)"
      ],
      "execution_count": 0,
      "outputs": [
        {
          "output_type": "execute_result",
          "data": {
            "text/html": [
              "<div>\n",
              "<style scoped>\n",
              "    .dataframe tbody tr th:only-of-type {\n",
              "        vertical-align: middle;\n",
              "    }\n",
              "\n",
              "    .dataframe tbody tr th {\n",
              "        vertical-align: top;\n",
              "    }\n",
              "\n",
              "    .dataframe thead th {\n",
              "        text-align: right;\n",
              "    }\n",
              "</style>\n",
              "<table border=\"1\" class=\"dataframe\">\n",
              "  <thead>\n",
              "    <tr style=\"text-align: right;\">\n",
              "      <th></th>\n",
              "      <th>A</th>\n",
              "      <th>B</th>\n",
              "      <th>C</th>\n",
              "      <th>D</th>\n",
              "    </tr>\n",
              "  </thead>\n",
              "  <tbody>\n",
              "    <tr>\n",
              "      <th>2013-01-05</th>\n",
              "      <td>1.655064</td>\n",
              "      <td>0.244399</td>\n",
              "      <td>-0.523301</td>\n",
              "      <td>-0.183911</td>\n",
              "    </tr>\n",
              "    <tr>\n",
              "      <th>2013-01-06</th>\n",
              "      <td>0.031059</td>\n",
              "      <td>-0.807516</td>\n",
              "      <td>-1.341540</td>\n",
              "      <td>-0.721306</td>\n",
              "    </tr>\n",
              "  </tbody>\n",
              "</table>\n",
              "</div>"
            ],
            "text/plain": [
              "                   A         B         C         D\n",
              "2013-01-05  1.655064  0.244399 -0.523301 -0.183911\n",
              "2013-01-06  0.031059 -0.807516 -1.341540 -0.721306"
            ]
          },
          "metadata": {
            "tags": []
          },
          "execution_count": 8
        }
      ]
    },
    {
      "cell_type": "code",
      "metadata": {
        "id": "v8jL8xb2iCHL",
        "colab_type": "code",
        "outputId": "300d6e79-db7f-4c15-a9ad-1aa5ca3045be",
        "colab": {
          "base_uri": "https://localhost:8080/",
          "height": 70
        }
      },
      "source": [
        "#Mostrando o indíce do Dataframe\n",
        "df.index"
      ],
      "execution_count": 0,
      "outputs": [
        {
          "output_type": "execute_result",
          "data": {
            "text/plain": [
              "DatetimeIndex(['2013-01-01', '2013-01-02', '2013-01-03', '2013-01-04',\n",
              "               '2013-01-05', '2013-01-06'],\n",
              "              dtype='datetime64[ns]', freq='D')"
            ]
          },
          "metadata": {
            "tags": []
          },
          "execution_count": 9
        }
      ]
    },
    {
      "cell_type": "code",
      "metadata": {
        "id": "RoGnzPmmijoH",
        "colab_type": "code",
        "outputId": "187490ea-086d-46ff-cc61-8d20efbbf8de",
        "colab": {
          "base_uri": "https://localhost:8080/",
          "height": 34
        }
      },
      "source": [
        "#Mostrando o indíce do Dataframe (dfdict)\n",
        "dfdict.index"
      ],
      "execution_count": 0,
      "outputs": [
        {
          "output_type": "execute_result",
          "data": {
            "text/plain": [
              "RangeIndex(start=0, stop=4, step=1)"
            ]
          },
          "metadata": {
            "tags": []
          },
          "execution_count": 10
        }
      ]
    },
    {
      "cell_type": "code",
      "metadata": {
        "id": "elwSw7aRjDS4",
        "colab_type": "code",
        "outputId": "78207fb2-92ac-43ff-bfce-deaa9cc83db2",
        "colab": {
          "base_uri": "https://localhost:8080/",
          "height": 105
        }
      },
      "source": [
        "#Tranformando Datafrane em um array numpy\n",
        "dfdict.to_numpy()"
      ],
      "execution_count": 0,
      "outputs": [
        {
          "output_type": "execute_result",
          "data": {
            "text/plain": [
              "array([[100, Timestamp('2013-01-01 00:00:00'), 1.0, 3, 'teste,', 'fo'],\n",
              "       [100, Timestamp('2013-01-01 00:00:00'), 1.0, 3, 'Treino', 'fo'],\n",
              "       [100, Timestamp('2013-01-01 00:00:00'), 1.0, 3, 'Teste', 'fo'],\n",
              "       [100, Timestamp('2013-01-01 00:00:00'), 1.0, 3, 'Treino', 'fo']],\n",
              "      dtype=object)"
            ]
          },
          "metadata": {
            "tags": []
          },
          "execution_count": 11
        }
      ]
    },
    {
      "cell_type": "code",
      "metadata": {
        "id": "3RhHA2Z-j4jg",
        "colab_type": "code",
        "outputId": "d5d0152d-26fc-422a-8eb5-6ca1a25d1e92",
        "colab": {
          "base_uri": "https://localhost:8080/",
          "height": 287
        }
      },
      "source": [
        "#Mostrando resumo estatisticos do Dataframe\n",
        "df.describe()"
      ],
      "execution_count": 0,
      "outputs": [
        {
          "output_type": "execute_result",
          "data": {
            "text/html": [
              "<div>\n",
              "<style scoped>\n",
              "    .dataframe tbody tr th:only-of-type {\n",
              "        vertical-align: middle;\n",
              "    }\n",
              "\n",
              "    .dataframe tbody tr th {\n",
              "        vertical-align: top;\n",
              "    }\n",
              "\n",
              "    .dataframe thead th {\n",
              "        text-align: right;\n",
              "    }\n",
              "</style>\n",
              "<table border=\"1\" class=\"dataframe\">\n",
              "  <thead>\n",
              "    <tr style=\"text-align: right;\">\n",
              "      <th></th>\n",
              "      <th>A</th>\n",
              "      <th>B</th>\n",
              "      <th>C</th>\n",
              "      <th>D</th>\n",
              "    </tr>\n",
              "  </thead>\n",
              "  <tbody>\n",
              "    <tr>\n",
              "      <th>count</th>\n",
              "      <td>6.000000</td>\n",
              "      <td>6.000000</td>\n",
              "      <td>6.000000</td>\n",
              "      <td>6.000000</td>\n",
              "    </tr>\n",
              "    <tr>\n",
              "      <th>mean</th>\n",
              "      <td>-0.053442</td>\n",
              "      <td>-0.779841</td>\n",
              "      <td>-0.497518</td>\n",
              "      <td>0.265712</td>\n",
              "    </tr>\n",
              "    <tr>\n",
              "      <th>std</th>\n",
              "      <td>1.136248</td>\n",
              "      <td>0.739896</td>\n",
              "      <td>0.948437</td>\n",
              "      <td>1.112202</td>\n",
              "    </tr>\n",
              "    <tr>\n",
              "      <th>min</th>\n",
              "      <td>-1.578147</td>\n",
              "      <td>-1.779254</td>\n",
              "      <td>-1.380094</td>\n",
              "      <td>-0.721306</td>\n",
              "    </tr>\n",
              "    <tr>\n",
              "      <th>25%</th>\n",
              "      <td>-0.757951</td>\n",
              "      <td>-1.118708</td>\n",
              "      <td>-1.142843</td>\n",
              "      <td>-0.449844</td>\n",
              "    </tr>\n",
              "    <tr>\n",
              "      <th>50%</th>\n",
              "      <td>0.108942</td>\n",
              "      <td>-0.961532</td>\n",
              "      <td>-0.535026</td>\n",
              "      <td>-0.292223</td>\n",
              "    </tr>\n",
              "    <tr>\n",
              "      <th>75%</th>\n",
              "      <td>0.350834</td>\n",
              "      <td>-0.277903</td>\n",
              "      <td>-0.451438</td>\n",
              "      <td>1.161721</td>\n",
              "    </tr>\n",
              "    <tr>\n",
              "      <th>max</th>\n",
              "      <td>1.655064</td>\n",
              "      <td>0.244399</td>\n",
              "      <td>1.234060</td>\n",
              "      <td>1.756040</td>\n",
              "    </tr>\n",
              "  </tbody>\n",
              "</table>\n",
              "</div>"
            ],
            "text/plain": [
              "              A         B         C         D\n",
              "count  6.000000  6.000000  6.000000  6.000000\n",
              "mean  -0.053442 -0.779841 -0.497518  0.265712\n",
              "std    1.136248  0.739896  0.948437  1.112202\n",
              "min   -1.578147 -1.779254 -1.380094 -0.721306\n",
              "25%   -0.757951 -1.118708 -1.142843 -0.449844\n",
              "50%    0.108942 -0.961532 -0.535026 -0.292223\n",
              "75%    0.350834 -0.277903 -0.451438  1.161721\n",
              "max    1.655064  0.244399  1.234060  1.756040"
            ]
          },
          "metadata": {
            "tags": []
          },
          "execution_count": 12
        }
      ]
    },
    {
      "cell_type": "code",
      "metadata": {
        "id": "gGAfC340kSu9",
        "colab_type": "code",
        "outputId": "5c3c388c-9829-4374-fc3d-439eefcbbdd1",
        "colab": {
          "base_uri": "https://localhost:8080/",
          "height": 167
        }
      },
      "source": [
        "#Alterando de linhas para colunas\n",
        "df.T"
      ],
      "execution_count": 0,
      "outputs": [
        {
          "output_type": "execute_result",
          "data": {
            "text/html": [
              "<div>\n",
              "<style scoped>\n",
              "    .dataframe tbody tr th:only-of-type {\n",
              "        vertical-align: middle;\n",
              "    }\n",
              "\n",
              "    .dataframe tbody tr th {\n",
              "        vertical-align: top;\n",
              "    }\n",
              "\n",
              "    .dataframe thead th {\n",
              "        text-align: right;\n",
              "    }\n",
              "</style>\n",
              "<table border=\"1\" class=\"dataframe\">\n",
              "  <thead>\n",
              "    <tr style=\"text-align: right;\">\n",
              "      <th></th>\n",
              "      <th>2013-01-01</th>\n",
              "      <th>2013-01-02</th>\n",
              "      <th>2013-01-03</th>\n",
              "      <th>2013-01-04</th>\n",
              "      <th>2013-01-05</th>\n",
              "      <th>2013-01-06</th>\n",
              "    </tr>\n",
              "  </thead>\n",
              "  <tbody>\n",
              "    <tr>\n",
              "      <th>A</th>\n",
              "      <td>0.405504</td>\n",
              "      <td>-1.578147</td>\n",
              "      <td>-1.020955</td>\n",
              "      <td>0.186824</td>\n",
              "      <td>1.655064</td>\n",
              "      <td>0.031059</td>\n",
              "    </tr>\n",
              "    <tr>\n",
              "      <th>B</th>\n",
              "      <td>-1.779254</td>\n",
              "      <td>-1.119761</td>\n",
              "      <td>-1.115547</td>\n",
              "      <td>-0.101365</td>\n",
              "      <td>0.244399</td>\n",
              "      <td>-0.807516</td>\n",
              "    </tr>\n",
              "    <tr>\n",
              "      <th>C</th>\n",
              "      <td>-0.546752</td>\n",
              "      <td>1.234060</td>\n",
              "      <td>-1.380094</td>\n",
              "      <td>-0.427483</td>\n",
              "      <td>-0.523301</td>\n",
              "      <td>-1.341540</td>\n",
              "    </tr>\n",
              "    <tr>\n",
              "      <th>D</th>\n",
              "      <td>1.610266</td>\n",
              "      <td>-0.400535</td>\n",
              "      <td>-0.466280</td>\n",
              "      <td>1.756040</td>\n",
              "      <td>-0.183911</td>\n",
              "      <td>-0.721306</td>\n",
              "    </tr>\n",
              "  </tbody>\n",
              "</table>\n",
              "</div>"
            ],
            "text/plain": [
              "   2013-01-01  2013-01-02  2013-01-03  2013-01-04  2013-01-05  2013-01-06\n",
              "A    0.405504   -1.578147   -1.020955    0.186824    1.655064    0.031059\n",
              "B   -1.779254   -1.119761   -1.115547   -0.101365    0.244399   -0.807516\n",
              "C   -0.546752    1.234060   -1.380094   -0.427483   -0.523301   -1.341540\n",
              "D    1.610266   -0.400535   -0.466280    1.756040   -0.183911   -0.721306"
            ]
          },
          "metadata": {
            "tags": []
          },
          "execution_count": 13
        }
      ]
    },
    {
      "cell_type": "code",
      "metadata": {
        "id": "KxRfA6hfkdZW",
        "colab_type": "code",
        "outputId": "dff177b5-92c4-4651-e4fd-c66c7ae69b98",
        "colab": {
          "base_uri": "https://localhost:8080/",
          "height": 227
        }
      },
      "source": [
        "#Organizando dados\n",
        "df.sort_index(axis=0, ascending=True)"
      ],
      "execution_count": 0,
      "outputs": [
        {
          "output_type": "execute_result",
          "data": {
            "text/html": [
              "<div>\n",
              "<style scoped>\n",
              "    .dataframe tbody tr th:only-of-type {\n",
              "        vertical-align: middle;\n",
              "    }\n",
              "\n",
              "    .dataframe tbody tr th {\n",
              "        vertical-align: top;\n",
              "    }\n",
              "\n",
              "    .dataframe thead th {\n",
              "        text-align: right;\n",
              "    }\n",
              "</style>\n",
              "<table border=\"1\" class=\"dataframe\">\n",
              "  <thead>\n",
              "    <tr style=\"text-align: right;\">\n",
              "      <th></th>\n",
              "      <th>A</th>\n",
              "      <th>B</th>\n",
              "      <th>C</th>\n",
              "      <th>D</th>\n",
              "    </tr>\n",
              "  </thead>\n",
              "  <tbody>\n",
              "    <tr>\n",
              "      <th>2013-01-01</th>\n",
              "      <td>0.405504</td>\n",
              "      <td>-1.779254</td>\n",
              "      <td>-0.546752</td>\n",
              "      <td>1.610266</td>\n",
              "    </tr>\n",
              "    <tr>\n",
              "      <th>2013-01-02</th>\n",
              "      <td>-1.578147</td>\n",
              "      <td>-1.119761</td>\n",
              "      <td>1.234060</td>\n",
              "      <td>-0.400535</td>\n",
              "    </tr>\n",
              "    <tr>\n",
              "      <th>2013-01-03</th>\n",
              "      <td>-1.020955</td>\n",
              "      <td>-1.115547</td>\n",
              "      <td>-1.380094</td>\n",
              "      <td>-0.466280</td>\n",
              "    </tr>\n",
              "    <tr>\n",
              "      <th>2013-01-04</th>\n",
              "      <td>0.186824</td>\n",
              "      <td>-0.101365</td>\n",
              "      <td>-0.427483</td>\n",
              "      <td>1.756040</td>\n",
              "    </tr>\n",
              "    <tr>\n",
              "      <th>2013-01-05</th>\n",
              "      <td>1.655064</td>\n",
              "      <td>0.244399</td>\n",
              "      <td>-0.523301</td>\n",
              "      <td>-0.183911</td>\n",
              "    </tr>\n",
              "    <tr>\n",
              "      <th>2013-01-06</th>\n",
              "      <td>0.031059</td>\n",
              "      <td>-0.807516</td>\n",
              "      <td>-1.341540</td>\n",
              "      <td>-0.721306</td>\n",
              "    </tr>\n",
              "  </tbody>\n",
              "</table>\n",
              "</div>"
            ],
            "text/plain": [
              "                   A         B         C         D\n",
              "2013-01-01  0.405504 -1.779254 -0.546752  1.610266\n",
              "2013-01-02 -1.578147 -1.119761  1.234060 -0.400535\n",
              "2013-01-03 -1.020955 -1.115547 -1.380094 -0.466280\n",
              "2013-01-04  0.186824 -0.101365 -0.427483  1.756040\n",
              "2013-01-05  1.655064  0.244399 -0.523301 -0.183911\n",
              "2013-01-06  0.031059 -0.807516 -1.341540 -0.721306"
            ]
          },
          "metadata": {
            "tags": []
          },
          "execution_count": 14
        }
      ]
    },
    {
      "cell_type": "code",
      "metadata": {
        "id": "47DnUQjclD4Y",
        "colab_type": "code",
        "outputId": "9c97bdea-4f24-44de-ef90-207219531736",
        "colab": {
          "base_uri": "https://localhost:8080/",
          "height": 227
        }
      },
      "source": [
        "#Organizando dados por uma coluna específica\n",
        "df.sort_values(by='B')"
      ],
      "execution_count": 0,
      "outputs": [
        {
          "output_type": "execute_result",
          "data": {
            "text/html": [
              "<div>\n",
              "<style scoped>\n",
              "    .dataframe tbody tr th:only-of-type {\n",
              "        vertical-align: middle;\n",
              "    }\n",
              "\n",
              "    .dataframe tbody tr th {\n",
              "        vertical-align: top;\n",
              "    }\n",
              "\n",
              "    .dataframe thead th {\n",
              "        text-align: right;\n",
              "    }\n",
              "</style>\n",
              "<table border=\"1\" class=\"dataframe\">\n",
              "  <thead>\n",
              "    <tr style=\"text-align: right;\">\n",
              "      <th></th>\n",
              "      <th>A</th>\n",
              "      <th>B</th>\n",
              "      <th>C</th>\n",
              "      <th>D</th>\n",
              "    </tr>\n",
              "  </thead>\n",
              "  <tbody>\n",
              "    <tr>\n",
              "      <th>2013-01-01</th>\n",
              "      <td>0.405504</td>\n",
              "      <td>-1.779254</td>\n",
              "      <td>-0.546752</td>\n",
              "      <td>1.610266</td>\n",
              "    </tr>\n",
              "    <tr>\n",
              "      <th>2013-01-02</th>\n",
              "      <td>-1.578147</td>\n",
              "      <td>-1.119761</td>\n",
              "      <td>1.234060</td>\n",
              "      <td>-0.400535</td>\n",
              "    </tr>\n",
              "    <tr>\n",
              "      <th>2013-01-03</th>\n",
              "      <td>-1.020955</td>\n",
              "      <td>-1.115547</td>\n",
              "      <td>-1.380094</td>\n",
              "      <td>-0.466280</td>\n",
              "    </tr>\n",
              "    <tr>\n",
              "      <th>2013-01-06</th>\n",
              "      <td>0.031059</td>\n",
              "      <td>-0.807516</td>\n",
              "      <td>-1.341540</td>\n",
              "      <td>-0.721306</td>\n",
              "    </tr>\n",
              "    <tr>\n",
              "      <th>2013-01-04</th>\n",
              "      <td>0.186824</td>\n",
              "      <td>-0.101365</td>\n",
              "      <td>-0.427483</td>\n",
              "      <td>1.756040</td>\n",
              "    </tr>\n",
              "    <tr>\n",
              "      <th>2013-01-05</th>\n",
              "      <td>1.655064</td>\n",
              "      <td>0.244399</td>\n",
              "      <td>-0.523301</td>\n",
              "      <td>-0.183911</td>\n",
              "    </tr>\n",
              "  </tbody>\n",
              "</table>\n",
              "</div>"
            ],
            "text/plain": [
              "                   A         B         C         D\n",
              "2013-01-01  0.405504 -1.779254 -0.546752  1.610266\n",
              "2013-01-02 -1.578147 -1.119761  1.234060 -0.400535\n",
              "2013-01-03 -1.020955 -1.115547 -1.380094 -0.466280\n",
              "2013-01-06  0.031059 -0.807516 -1.341540 -0.721306\n",
              "2013-01-04  0.186824 -0.101365 -0.427483  1.756040\n",
              "2013-01-05  1.655064  0.244399 -0.523301 -0.183911"
            ]
          },
          "metadata": {
            "tags": []
          },
          "execution_count": 15
        }
      ]
    },
    {
      "cell_type": "markdown",
      "metadata": {
        "id": "633PbGj3laUd",
        "colab_type": "text"
      },
      "source": [
        "### Selecionando dados\n",
        "Comandos que selecionam dados"
      ]
    },
    {
      "cell_type": "code",
      "metadata": {
        "id": "bySAhz5OlrTt",
        "colab_type": "code",
        "outputId": "475a5e93-7e22-4bc8-d4bc-056826b06b57",
        "colab": {
          "base_uri": "https://localhost:8080/",
          "height": 141
        }
      },
      "source": [
        "#Selecionando uma coluna do Dataframe\n",
        "df['A']"
      ],
      "execution_count": 0,
      "outputs": [
        {
          "output_type": "execute_result",
          "data": {
            "text/plain": [
              "2013-01-01    0.405504\n",
              "2013-01-02   -1.578147\n",
              "2013-01-03   -1.020955\n",
              "2013-01-04    0.186824\n",
              "2013-01-05    1.655064\n",
              "2013-01-06    0.031059\n",
              "Freq: D, Name: A, dtype: float64"
            ]
          },
          "metadata": {
            "tags": []
          },
          "execution_count": 16
        }
      ]
    },
    {
      "cell_type": "code",
      "metadata": {
        "id": "gwnKk-VMl2eU",
        "colab_type": "code",
        "outputId": "caa64739-5395-4c02-8835-ec3275c2e555",
        "colab": {
          "base_uri": "https://localhost:8080/",
          "height": 107
        }
      },
      "source": [
        "#Selecionando intervalo de linhas\n",
        "df[0:2]"
      ],
      "execution_count": 0,
      "outputs": [
        {
          "output_type": "execute_result",
          "data": {
            "text/html": [
              "<div>\n",
              "<style scoped>\n",
              "    .dataframe tbody tr th:only-of-type {\n",
              "        vertical-align: middle;\n",
              "    }\n",
              "\n",
              "    .dataframe tbody tr th {\n",
              "        vertical-align: top;\n",
              "    }\n",
              "\n",
              "    .dataframe thead th {\n",
              "        text-align: right;\n",
              "    }\n",
              "</style>\n",
              "<table border=\"1\" class=\"dataframe\">\n",
              "  <thead>\n",
              "    <tr style=\"text-align: right;\">\n",
              "      <th></th>\n",
              "      <th>A</th>\n",
              "      <th>B</th>\n",
              "      <th>C</th>\n",
              "      <th>D</th>\n",
              "    </tr>\n",
              "  </thead>\n",
              "  <tbody>\n",
              "    <tr>\n",
              "      <th>2013-01-01</th>\n",
              "      <td>0.405504</td>\n",
              "      <td>-1.779254</td>\n",
              "      <td>-0.546752</td>\n",
              "      <td>1.610266</td>\n",
              "    </tr>\n",
              "    <tr>\n",
              "      <th>2013-01-02</th>\n",
              "      <td>-1.578147</td>\n",
              "      <td>-1.119761</td>\n",
              "      <td>1.234060</td>\n",
              "      <td>-0.400535</td>\n",
              "    </tr>\n",
              "  </tbody>\n",
              "</table>\n",
              "</div>"
            ],
            "text/plain": [
              "                   A         B         C         D\n",
              "2013-01-01  0.405504 -1.779254 -0.546752  1.610266\n",
              "2013-01-02 -1.578147 -1.119761  1.234060 -0.400535"
            ]
          },
          "metadata": {
            "tags": []
          },
          "execution_count": 17
        }
      ]
    },
    {
      "cell_type": "code",
      "metadata": {
        "id": "AwOQGtOBpN_Q",
        "colab_type": "code",
        "outputId": "363695e6-eb55-4f67-a73d-e7f6c36be1c7",
        "colab": {
          "base_uri": "https://localhost:8080/",
          "height": 137
        }
      },
      "source": [
        "df['20130102':'20130104']"
      ],
      "execution_count": 0,
      "outputs": [
        {
          "output_type": "execute_result",
          "data": {
            "text/html": [
              "<div>\n",
              "<style scoped>\n",
              "    .dataframe tbody tr th:only-of-type {\n",
              "        vertical-align: middle;\n",
              "    }\n",
              "\n",
              "    .dataframe tbody tr th {\n",
              "        vertical-align: top;\n",
              "    }\n",
              "\n",
              "    .dataframe thead th {\n",
              "        text-align: right;\n",
              "    }\n",
              "</style>\n",
              "<table border=\"1\" class=\"dataframe\">\n",
              "  <thead>\n",
              "    <tr style=\"text-align: right;\">\n",
              "      <th></th>\n",
              "      <th>A</th>\n",
              "      <th>B</th>\n",
              "      <th>C</th>\n",
              "      <th>D</th>\n",
              "    </tr>\n",
              "  </thead>\n",
              "  <tbody>\n",
              "    <tr>\n",
              "      <th>2013-01-02</th>\n",
              "      <td>-1.578147</td>\n",
              "      <td>-1.119761</td>\n",
              "      <td>1.234060</td>\n",
              "      <td>-0.400535</td>\n",
              "    </tr>\n",
              "    <tr>\n",
              "      <th>2013-01-03</th>\n",
              "      <td>-1.020955</td>\n",
              "      <td>-1.115547</td>\n",
              "      <td>-1.380094</td>\n",
              "      <td>-0.466280</td>\n",
              "    </tr>\n",
              "    <tr>\n",
              "      <th>2013-01-04</th>\n",
              "      <td>0.186824</td>\n",
              "      <td>-0.101365</td>\n",
              "      <td>-0.427483</td>\n",
              "      <td>1.756040</td>\n",
              "    </tr>\n",
              "  </tbody>\n",
              "</table>\n",
              "</div>"
            ],
            "text/plain": [
              "                   A         B         C         D\n",
              "2013-01-02 -1.578147 -1.119761  1.234060 -0.400535\n",
              "2013-01-03 -1.020955 -1.115547 -1.380094 -0.466280\n",
              "2013-01-04  0.186824 -0.101365 -0.427483  1.756040"
            ]
          },
          "metadata": {
            "tags": []
          },
          "execution_count": 18
        }
      ]
    },
    {
      "cell_type": "code",
      "metadata": {
        "id": "XDjxPnhcpWXg",
        "colab_type": "code",
        "outputId": "e864fcfc-d06c-479e-bd1e-d6d18ae49902",
        "colab": {
          "base_uri": "https://localhost:8080/",
          "height": 105
        }
      },
      "source": [
        "#Selecionando através do loc\n",
        "df.loc[dates[1]]"
      ],
      "execution_count": 0,
      "outputs": [
        {
          "output_type": "execute_result",
          "data": {
            "text/plain": [
              "A   -1.578147\n",
              "B   -1.119761\n",
              "C    1.234060\n",
              "D   -0.400535\n",
              "Name: 2013-01-02 00:00:00, dtype: float64"
            ]
          },
          "metadata": {
            "tags": []
          },
          "execution_count": 19
        }
      ]
    },
    {
      "cell_type": "code",
      "metadata": {
        "id": "lZYWq6AqqHGo",
        "colab_type": "code",
        "outputId": "6bce10ab-7030-4230-ab76-e2780ce1886c",
        "colab": {
          "base_uri": "https://localhost:8080/",
          "height": 227
        }
      },
      "source": [
        "#Selecinando todas as linhas e as colunas A e C do Dataframe\n",
        "df.loc[:, ['A', 'C']]"
      ],
      "execution_count": 0,
      "outputs": [
        {
          "output_type": "execute_result",
          "data": {
            "text/html": [
              "<div>\n",
              "<style scoped>\n",
              "    .dataframe tbody tr th:only-of-type {\n",
              "        vertical-align: middle;\n",
              "    }\n",
              "\n",
              "    .dataframe tbody tr th {\n",
              "        vertical-align: top;\n",
              "    }\n",
              "\n",
              "    .dataframe thead th {\n",
              "        text-align: right;\n",
              "    }\n",
              "</style>\n",
              "<table border=\"1\" class=\"dataframe\">\n",
              "  <thead>\n",
              "    <tr style=\"text-align: right;\">\n",
              "      <th></th>\n",
              "      <th>A</th>\n",
              "      <th>C</th>\n",
              "    </tr>\n",
              "  </thead>\n",
              "  <tbody>\n",
              "    <tr>\n",
              "      <th>2013-01-01</th>\n",
              "      <td>0.405504</td>\n",
              "      <td>-0.546752</td>\n",
              "    </tr>\n",
              "    <tr>\n",
              "      <th>2013-01-02</th>\n",
              "      <td>-1.578147</td>\n",
              "      <td>1.234060</td>\n",
              "    </tr>\n",
              "    <tr>\n",
              "      <th>2013-01-03</th>\n",
              "      <td>-1.020955</td>\n",
              "      <td>-1.380094</td>\n",
              "    </tr>\n",
              "    <tr>\n",
              "      <th>2013-01-04</th>\n",
              "      <td>0.186824</td>\n",
              "      <td>-0.427483</td>\n",
              "    </tr>\n",
              "    <tr>\n",
              "      <th>2013-01-05</th>\n",
              "      <td>1.655064</td>\n",
              "      <td>-0.523301</td>\n",
              "    </tr>\n",
              "    <tr>\n",
              "      <th>2013-01-06</th>\n",
              "      <td>0.031059</td>\n",
              "      <td>-1.341540</td>\n",
              "    </tr>\n",
              "  </tbody>\n",
              "</table>\n",
              "</div>"
            ],
            "text/plain": [
              "                   A         C\n",
              "2013-01-01  0.405504 -0.546752\n",
              "2013-01-02 -1.578147  1.234060\n",
              "2013-01-03 -1.020955 -1.380094\n",
              "2013-01-04  0.186824 -0.427483\n",
              "2013-01-05  1.655064 -0.523301\n",
              "2013-01-06  0.031059 -1.341540"
            ]
          },
          "metadata": {
            "tags": []
          },
          "execution_count": 24
        }
      ]
    },
    {
      "cell_type": "code",
      "metadata": {
        "id": "RatPDFzVnHyA",
        "colab_type": "code",
        "outputId": "6293c5fe-2381-45d6-9a2a-fb7b18ab168e",
        "colab": {
          "base_uri": "https://localhost:8080/",
          "height": 137
        }
      },
      "source": [
        "# Selecionando intervalo de datas e as colunas A e C do Dataframe\n",
        "df.loc['20130102':'20130104', ['A', 'C']]"
      ],
      "execution_count": 0,
      "outputs": [
        {
          "output_type": "execute_result",
          "data": {
            "text/html": [
              "<div>\n",
              "<style scoped>\n",
              "    .dataframe tbody tr th:only-of-type {\n",
              "        vertical-align: middle;\n",
              "    }\n",
              "\n",
              "    .dataframe tbody tr th {\n",
              "        vertical-align: top;\n",
              "    }\n",
              "\n",
              "    .dataframe thead th {\n",
              "        text-align: right;\n",
              "    }\n",
              "</style>\n",
              "<table border=\"1\" class=\"dataframe\">\n",
              "  <thead>\n",
              "    <tr style=\"text-align: right;\">\n",
              "      <th></th>\n",
              "      <th>A</th>\n",
              "      <th>C</th>\n",
              "    </tr>\n",
              "  </thead>\n",
              "  <tbody>\n",
              "    <tr>\n",
              "      <th>2013-01-02</th>\n",
              "      <td>-1.578147</td>\n",
              "      <td>1.234060</td>\n",
              "    </tr>\n",
              "    <tr>\n",
              "      <th>2013-01-03</th>\n",
              "      <td>-1.020955</td>\n",
              "      <td>-1.380094</td>\n",
              "    </tr>\n",
              "    <tr>\n",
              "      <th>2013-01-04</th>\n",
              "      <td>0.186824</td>\n",
              "      <td>-0.427483</td>\n",
              "    </tr>\n",
              "  </tbody>\n",
              "</table>\n",
              "</div>"
            ],
            "text/plain": [
              "                   A         C\n",
              "2013-01-02 -1.578147  1.234060\n",
              "2013-01-03 -1.020955 -1.380094\n",
              "2013-01-04  0.186824 -0.427483"
            ]
          },
          "metadata": {
            "tags": []
          },
          "execution_count": 25
        }
      ]
    },
    {
      "cell_type": "code",
      "metadata": {
        "id": "FXwZxKG7naFO",
        "colab_type": "code",
        "outputId": "879f1715-7951-40fa-8425-b335065038ef",
        "colab": {
          "base_uri": "https://localhost:8080/",
          "height": 70
        }
      },
      "source": [
        "# Selecionando somente uma data e retorna os valores colunas A e C do Dataframe\n",
        "df.loc['20130102', ['A', 'B']]"
      ],
      "execution_count": 0,
      "outputs": [
        {
          "output_type": "execute_result",
          "data": {
            "text/plain": [
              "A   -1.578147\n",
              "B   -1.119761\n",
              "Name: 2013-01-02 00:00:00, dtype: float64"
            ]
          },
          "metadata": {
            "tags": []
          },
          "execution_count": 26
        }
      ]
    },
    {
      "cell_type": "code",
      "metadata": {
        "id": "UcMozsqTnr7c",
        "colab_type": "code",
        "outputId": "219a4dff-2b2f-4add-857e-0ae7e8e10abc",
        "colab": {
          "base_uri": "https://localhost:8080/",
          "height": 34
        }
      },
      "source": [
        "# Selecionando linha 0 e coluna A\n",
        "df.loc[dates[0], 'A']"
      ],
      "execution_count": 0,
      "outputs": [
        {
          "output_type": "execute_result",
          "data": {
            "text/plain": [
              "0.40550406783562765"
            ]
          },
          "metadata": {
            "tags": []
          },
          "execution_count": 27
        }
      ]
    },
    {
      "cell_type": "code",
      "metadata": {
        "id": "l4F-qn-toNuR",
        "colab_type": "code",
        "outputId": "6976f402-578a-4abb-fd2b-218aaf47dab2",
        "colab": {
          "base_uri": "https://localhost:8080/",
          "height": 34
        }
      },
      "source": [
        "# Usando at\n",
        "df.at[dates[0], 'A']"
      ],
      "execution_count": 0,
      "outputs": [
        {
          "output_type": "execute_result",
          "data": {
            "text/plain": [
              "0.40550406783562765"
            ]
          },
          "metadata": {
            "tags": []
          },
          "execution_count": 28
        }
      ]
    },
    {
      "cell_type": "code",
      "metadata": {
        "id": "IqWA6bMeoTVD",
        "colab_type": "code",
        "outputId": "808dbb8b-c887-4fb7-9239-0a755da5ab04",
        "colab": {
          "base_uri": "https://localhost:8080/",
          "height": 107
        }
      },
      "source": [
        "# Usando iloc, ou  seja selecinando os dados por posição. \n",
        "# iloc[intervalo:linhas, intervalo:colunas]\n",
        "df.iloc[3:5, 0:3]"
      ],
      "execution_count": 0,
      "outputs": [
        {
          "output_type": "execute_result",
          "data": {
            "text/html": [
              "<div>\n",
              "<style scoped>\n",
              "    .dataframe tbody tr th:only-of-type {\n",
              "        vertical-align: middle;\n",
              "    }\n",
              "\n",
              "    .dataframe tbody tr th {\n",
              "        vertical-align: top;\n",
              "    }\n",
              "\n",
              "    .dataframe thead th {\n",
              "        text-align: right;\n",
              "    }\n",
              "</style>\n",
              "<table border=\"1\" class=\"dataframe\">\n",
              "  <thead>\n",
              "    <tr style=\"text-align: right;\">\n",
              "      <th></th>\n",
              "      <th>A</th>\n",
              "      <th>B</th>\n",
              "      <th>C</th>\n",
              "    </tr>\n",
              "  </thead>\n",
              "  <tbody>\n",
              "    <tr>\n",
              "      <th>2013-01-04</th>\n",
              "      <td>0.186824</td>\n",
              "      <td>-0.101365</td>\n",
              "      <td>-0.427483</td>\n",
              "    </tr>\n",
              "    <tr>\n",
              "      <th>2013-01-05</th>\n",
              "      <td>1.655064</td>\n",
              "      <td>0.244399</td>\n",
              "      <td>-0.523301</td>\n",
              "    </tr>\n",
              "  </tbody>\n",
              "</table>\n",
              "</div>"
            ],
            "text/plain": [
              "                   A         B         C\n",
              "2013-01-04  0.186824 -0.101365 -0.427483\n",
              "2013-01-05  1.655064  0.244399 -0.523301"
            ]
          },
          "metadata": {
            "tags": []
          },
          "execution_count": 31
        }
      ]
    },
    {
      "cell_type": "code",
      "metadata": {
        "id": "q3bLz3HPo5uL",
        "colab_type": "code",
        "outputId": "6abff8a8-17e0-4f7e-9d86-3a92c0cb4709",
        "colab": {
          "base_uri": "https://localhost:8080/",
          "height": 137
        }
      },
      "source": [
        "#Passando listas para o iloc\n",
        "#Linnhas 1, 2, 4 , colunas A e C\n",
        "df.iloc[[1, 2, 4], [0, 2]]"
      ],
      "execution_count": 0,
      "outputs": [
        {
          "output_type": "execute_result",
          "data": {
            "text/html": [
              "<div>\n",
              "<style scoped>\n",
              "    .dataframe tbody tr th:only-of-type {\n",
              "        vertical-align: middle;\n",
              "    }\n",
              "\n",
              "    .dataframe tbody tr th {\n",
              "        vertical-align: top;\n",
              "    }\n",
              "\n",
              "    .dataframe thead th {\n",
              "        text-align: right;\n",
              "    }\n",
              "</style>\n",
              "<table border=\"1\" class=\"dataframe\">\n",
              "  <thead>\n",
              "    <tr style=\"text-align: right;\">\n",
              "      <th></th>\n",
              "      <th>A</th>\n",
              "      <th>C</th>\n",
              "    </tr>\n",
              "  </thead>\n",
              "  <tbody>\n",
              "    <tr>\n",
              "      <th>2013-01-02</th>\n",
              "      <td>-1.578147</td>\n",
              "      <td>1.234060</td>\n",
              "    </tr>\n",
              "    <tr>\n",
              "      <th>2013-01-03</th>\n",
              "      <td>-1.020955</td>\n",
              "      <td>-1.380094</td>\n",
              "    </tr>\n",
              "    <tr>\n",
              "      <th>2013-01-05</th>\n",
              "      <td>1.655064</td>\n",
              "      <td>-0.523301</td>\n",
              "    </tr>\n",
              "  </tbody>\n",
              "</table>\n",
              "</div>"
            ],
            "text/plain": [
              "                   A         C\n",
              "2013-01-02 -1.578147  1.234060\n",
              "2013-01-03 -1.020955 -1.380094\n",
              "2013-01-05  1.655064 -0.523301"
            ]
          },
          "metadata": {
            "tags": []
          },
          "execution_count": 33
        }
      ]
    },
    {
      "cell_type": "code",
      "metadata": {
        "id": "Zve5QKj_pXLj",
        "colab_type": "code",
        "outputId": "da71e190-4dae-4ba2-9ff3-37eae1c1fc96",
        "colab": {
          "base_uri": "https://localhost:8080/",
          "height": 137
        }
      },
      "source": [
        "#Selecionando de 0 a 3 em linhas todas as colunas\n",
        "#Seleciona Fatias do Dataframe\n",
        "df.iloc[0:3, :]"
      ],
      "execution_count": 0,
      "outputs": [
        {
          "output_type": "execute_result",
          "data": {
            "text/html": [
              "<div>\n",
              "<style scoped>\n",
              "    .dataframe tbody tr th:only-of-type {\n",
              "        vertical-align: middle;\n",
              "    }\n",
              "\n",
              "    .dataframe tbody tr th {\n",
              "        vertical-align: top;\n",
              "    }\n",
              "\n",
              "    .dataframe thead th {\n",
              "        text-align: right;\n",
              "    }\n",
              "</style>\n",
              "<table border=\"1\" class=\"dataframe\">\n",
              "  <thead>\n",
              "    <tr style=\"text-align: right;\">\n",
              "      <th></th>\n",
              "      <th>A</th>\n",
              "      <th>B</th>\n",
              "      <th>C</th>\n",
              "      <th>D</th>\n",
              "    </tr>\n",
              "  </thead>\n",
              "  <tbody>\n",
              "    <tr>\n",
              "      <th>2013-01-01</th>\n",
              "      <td>0.405504</td>\n",
              "      <td>-1.779254</td>\n",
              "      <td>-0.546752</td>\n",
              "      <td>1.610266</td>\n",
              "    </tr>\n",
              "    <tr>\n",
              "      <th>2013-01-02</th>\n",
              "      <td>-1.578147</td>\n",
              "      <td>-1.119761</td>\n",
              "      <td>1.234060</td>\n",
              "      <td>-0.400535</td>\n",
              "    </tr>\n",
              "    <tr>\n",
              "      <th>2013-01-03</th>\n",
              "      <td>-1.020955</td>\n",
              "      <td>-1.115547</td>\n",
              "      <td>-1.380094</td>\n",
              "      <td>-0.466280</td>\n",
              "    </tr>\n",
              "  </tbody>\n",
              "</table>\n",
              "</div>"
            ],
            "text/plain": [
              "                   A         B         C         D\n",
              "2013-01-01  0.405504 -1.779254 -0.546752  1.610266\n",
              "2013-01-02 -1.578147 -1.119761  1.234060 -0.400535\n",
              "2013-01-03 -1.020955 -1.115547 -1.380094 -0.466280"
            ]
          },
          "metadata": {
            "tags": []
          },
          "execution_count": 35
        }
      ]
    },
    {
      "cell_type": "code",
      "metadata": {
        "id": "SqvFCxB7qiT_",
        "colab_type": "code",
        "outputId": "67372488-7519-4126-e4d8-748006e3a4e9",
        "colab": {
          "base_uri": "https://localhost:8080/",
          "height": 227
        }
      },
      "source": [
        "#Seleciona Fatias do Dataframe\n",
        "df.iloc[:, 1:3]"
      ],
      "execution_count": 0,
      "outputs": [
        {
          "output_type": "execute_result",
          "data": {
            "text/html": [
              "<div>\n",
              "<style scoped>\n",
              "    .dataframe tbody tr th:only-of-type {\n",
              "        vertical-align: middle;\n",
              "    }\n",
              "\n",
              "    .dataframe tbody tr th {\n",
              "        vertical-align: top;\n",
              "    }\n",
              "\n",
              "    .dataframe thead th {\n",
              "        text-align: right;\n",
              "    }\n",
              "</style>\n",
              "<table border=\"1\" class=\"dataframe\">\n",
              "  <thead>\n",
              "    <tr style=\"text-align: right;\">\n",
              "      <th></th>\n",
              "      <th>B</th>\n",
              "      <th>C</th>\n",
              "    </tr>\n",
              "  </thead>\n",
              "  <tbody>\n",
              "    <tr>\n",
              "      <th>2013-01-01</th>\n",
              "      <td>-1.779254</td>\n",
              "      <td>-0.546752</td>\n",
              "    </tr>\n",
              "    <tr>\n",
              "      <th>2013-01-02</th>\n",
              "      <td>-1.119761</td>\n",
              "      <td>1.234060</td>\n",
              "    </tr>\n",
              "    <tr>\n",
              "      <th>2013-01-03</th>\n",
              "      <td>-1.115547</td>\n",
              "      <td>-1.380094</td>\n",
              "    </tr>\n",
              "    <tr>\n",
              "      <th>2013-01-04</th>\n",
              "      <td>-0.101365</td>\n",
              "      <td>-0.427483</td>\n",
              "    </tr>\n",
              "    <tr>\n",
              "      <th>2013-01-05</th>\n",
              "      <td>0.244399</td>\n",
              "      <td>-0.523301</td>\n",
              "    </tr>\n",
              "    <tr>\n",
              "      <th>2013-01-06</th>\n",
              "      <td>-0.807516</td>\n",
              "      <td>-1.341540</td>\n",
              "    </tr>\n",
              "  </tbody>\n",
              "</table>\n",
              "</div>"
            ],
            "text/plain": [
              "                   B         C\n",
              "2013-01-01 -1.779254 -0.546752\n",
              "2013-01-02 -1.119761  1.234060\n",
              "2013-01-03 -1.115547 -1.380094\n",
              "2013-01-04 -0.101365 -0.427483\n",
              "2013-01-05  0.244399 -0.523301\n",
              "2013-01-06 -0.807516 -1.341540"
            ]
          },
          "metadata": {
            "tags": []
          },
          "execution_count": 36
        }
      ]
    },
    {
      "cell_type": "code",
      "metadata": {
        "id": "zfZWVmmSq4Ji",
        "colab_type": "code",
        "outputId": "64cf8c91-e37c-4173-e155-7a27c7686321",
        "colab": {
          "base_uri": "https://localhost:8080/",
          "height": 34
        }
      },
      "source": [
        "# Selecinando valor específico\n",
        "df.iloc[1, 1]"
      ],
      "execution_count": 0,
      "outputs": [
        {
          "output_type": "execute_result",
          "data": {
            "text/plain": [
              "-1.119761130161268"
            ]
          },
          "metadata": {
            "tags": []
          },
          "execution_count": 37
        }
      ]
    },
    {
      "cell_type": "code",
      "metadata": {
        "id": "spTBWFcKrFOy",
        "colab_type": "code",
        "outputId": "53fff06d-2f0a-43c7-9abf-a86a7697c176",
        "colab": {
          "base_uri": "https://localhost:8080/",
          "height": 34
        }
      },
      "source": [
        "# Com iat\n",
        "df.iat[1, 1]"
      ],
      "execution_count": 0,
      "outputs": [
        {
          "output_type": "execute_result",
          "data": {
            "text/plain": [
              "-1.119761130161268"
            ]
          },
          "metadata": {
            "tags": []
          },
          "execution_count": 38
        }
      ]
    },
    {
      "cell_type": "code",
      "metadata": {
        "id": "auUC0bIVrPjG",
        "colab_type": "code",
        "outputId": "e872a1e2-9c8c-42c5-a66f-6aad332092f8",
        "colab": {
          "base_uri": "https://localhost:8080/",
          "height": 167
        }
      },
      "source": [
        "#Usando critérios para selecionar dados\n",
        "df[df['A'] > 0]"
      ],
      "execution_count": 0,
      "outputs": [
        {
          "output_type": "execute_result",
          "data": {
            "text/html": [
              "<div>\n",
              "<style scoped>\n",
              "    .dataframe tbody tr th:only-of-type {\n",
              "        vertical-align: middle;\n",
              "    }\n",
              "\n",
              "    .dataframe tbody tr th {\n",
              "        vertical-align: top;\n",
              "    }\n",
              "\n",
              "    .dataframe thead th {\n",
              "        text-align: right;\n",
              "    }\n",
              "</style>\n",
              "<table border=\"1\" class=\"dataframe\">\n",
              "  <thead>\n",
              "    <tr style=\"text-align: right;\">\n",
              "      <th></th>\n",
              "      <th>A</th>\n",
              "      <th>B</th>\n",
              "      <th>C</th>\n",
              "      <th>D</th>\n",
              "    </tr>\n",
              "  </thead>\n",
              "  <tbody>\n",
              "    <tr>\n",
              "      <th>2013-01-01</th>\n",
              "      <td>0.405504</td>\n",
              "      <td>-1.779254</td>\n",
              "      <td>-0.546752</td>\n",
              "      <td>1.610266</td>\n",
              "    </tr>\n",
              "    <tr>\n",
              "      <th>2013-01-04</th>\n",
              "      <td>0.186824</td>\n",
              "      <td>-0.101365</td>\n",
              "      <td>-0.427483</td>\n",
              "      <td>1.756040</td>\n",
              "    </tr>\n",
              "    <tr>\n",
              "      <th>2013-01-05</th>\n",
              "      <td>1.655064</td>\n",
              "      <td>0.244399</td>\n",
              "      <td>-0.523301</td>\n",
              "      <td>-0.183911</td>\n",
              "    </tr>\n",
              "    <tr>\n",
              "      <th>2013-01-06</th>\n",
              "      <td>0.031059</td>\n",
              "      <td>-0.807516</td>\n",
              "      <td>-1.341540</td>\n",
              "      <td>-0.721306</td>\n",
              "    </tr>\n",
              "  </tbody>\n",
              "</table>\n",
              "</div>"
            ],
            "text/plain": [
              "                   A         B         C         D\n",
              "2013-01-01  0.405504 -1.779254 -0.546752  1.610266\n",
              "2013-01-04  0.186824 -0.101365 -0.427483  1.756040\n",
              "2013-01-05  1.655064  0.244399 -0.523301 -0.183911\n",
              "2013-01-06  0.031059 -0.807516 -1.341540 -0.721306"
            ]
          },
          "metadata": {
            "tags": []
          },
          "execution_count": 43
        }
      ]
    },
    {
      "cell_type": "code",
      "metadata": {
        "id": "NoPD_N1ErzMP",
        "colab_type": "code",
        "outputId": "9bc02184-6851-4567-ff77-1b8083d1b4fd",
        "colab": {
          "base_uri": "https://localhost:8080/",
          "height": 227
        }
      },
      "source": [
        "#Usando critérios para selecionar dados\n",
        "# Em todo o Dataframe exibe os valores maiores que 0\n",
        "df[df > 0]"
      ],
      "execution_count": 0,
      "outputs": [
        {
          "output_type": "execute_result",
          "data": {
            "text/html": [
              "<div>\n",
              "<style scoped>\n",
              "    .dataframe tbody tr th:only-of-type {\n",
              "        vertical-align: middle;\n",
              "    }\n",
              "\n",
              "    .dataframe tbody tr th {\n",
              "        vertical-align: top;\n",
              "    }\n",
              "\n",
              "    .dataframe thead th {\n",
              "        text-align: right;\n",
              "    }\n",
              "</style>\n",
              "<table border=\"1\" class=\"dataframe\">\n",
              "  <thead>\n",
              "    <tr style=\"text-align: right;\">\n",
              "      <th></th>\n",
              "      <th>A</th>\n",
              "      <th>B</th>\n",
              "      <th>C</th>\n",
              "      <th>D</th>\n",
              "    </tr>\n",
              "  </thead>\n",
              "  <tbody>\n",
              "    <tr>\n",
              "      <th>2013-01-01</th>\n",
              "      <td>0.405504</td>\n",
              "      <td>NaN</td>\n",
              "      <td>NaN</td>\n",
              "      <td>1.610266</td>\n",
              "    </tr>\n",
              "    <tr>\n",
              "      <th>2013-01-02</th>\n",
              "      <td>NaN</td>\n",
              "      <td>NaN</td>\n",
              "      <td>1.23406</td>\n",
              "      <td>NaN</td>\n",
              "    </tr>\n",
              "    <tr>\n",
              "      <th>2013-01-03</th>\n",
              "      <td>NaN</td>\n",
              "      <td>NaN</td>\n",
              "      <td>NaN</td>\n",
              "      <td>NaN</td>\n",
              "    </tr>\n",
              "    <tr>\n",
              "      <th>2013-01-04</th>\n",
              "      <td>0.186824</td>\n",
              "      <td>NaN</td>\n",
              "      <td>NaN</td>\n",
              "      <td>1.756040</td>\n",
              "    </tr>\n",
              "    <tr>\n",
              "      <th>2013-01-05</th>\n",
              "      <td>1.655064</td>\n",
              "      <td>0.244399</td>\n",
              "      <td>NaN</td>\n",
              "      <td>NaN</td>\n",
              "    </tr>\n",
              "    <tr>\n",
              "      <th>2013-01-06</th>\n",
              "      <td>0.031059</td>\n",
              "      <td>NaN</td>\n",
              "      <td>NaN</td>\n",
              "      <td>NaN</td>\n",
              "    </tr>\n",
              "  </tbody>\n",
              "</table>\n",
              "</div>"
            ],
            "text/plain": [
              "                   A         B        C         D\n",
              "2013-01-01  0.405504       NaN      NaN  1.610266\n",
              "2013-01-02       NaN       NaN  1.23406       NaN\n",
              "2013-01-03       NaN       NaN      NaN       NaN\n",
              "2013-01-04  0.186824       NaN      NaN  1.756040\n",
              "2013-01-05  1.655064  0.244399      NaN       NaN\n",
              "2013-01-06  0.031059       NaN      NaN       NaN"
            ]
          },
          "metadata": {
            "tags": []
          },
          "execution_count": 45
        }
      ]
    },
    {
      "cell_type": "code",
      "metadata": {
        "id": "Mp7n8kepsFMj",
        "colab_type": "code",
        "outputId": "45a3d3f1-303b-4b5a-ebc1-2b0cd69a4ef4",
        "colab": {
          "base_uri": "https://localhost:8080/",
          "height": 227
        }
      },
      "source": [
        "#Usando isin() \n",
        "#Atribuir ao df2 uma cópia do df\n",
        "df2 = df.copy()\n",
        "#Adicionando uma coluna\n",
        "df2['E'] = ['one', 'one', 'two', 'three', 'four', 'three']\n",
        "df2"
      ],
      "execution_count": 0,
      "outputs": [
        {
          "output_type": "execute_result",
          "data": {
            "text/html": [
              "<div>\n",
              "<style scoped>\n",
              "    .dataframe tbody tr th:only-of-type {\n",
              "        vertical-align: middle;\n",
              "    }\n",
              "\n",
              "    .dataframe tbody tr th {\n",
              "        vertical-align: top;\n",
              "    }\n",
              "\n",
              "    .dataframe thead th {\n",
              "        text-align: right;\n",
              "    }\n",
              "</style>\n",
              "<table border=\"1\" class=\"dataframe\">\n",
              "  <thead>\n",
              "    <tr style=\"text-align: right;\">\n",
              "      <th></th>\n",
              "      <th>A</th>\n",
              "      <th>B</th>\n",
              "      <th>C</th>\n",
              "      <th>D</th>\n",
              "      <th>E</th>\n",
              "    </tr>\n",
              "  </thead>\n",
              "  <tbody>\n",
              "    <tr>\n",
              "      <th>2013-01-01</th>\n",
              "      <td>0.405504</td>\n",
              "      <td>-1.779254</td>\n",
              "      <td>-0.546752</td>\n",
              "      <td>1.610266</td>\n",
              "      <td>one</td>\n",
              "    </tr>\n",
              "    <tr>\n",
              "      <th>2013-01-02</th>\n",
              "      <td>-1.578147</td>\n",
              "      <td>-1.119761</td>\n",
              "      <td>1.234060</td>\n",
              "      <td>-0.400535</td>\n",
              "      <td>one</td>\n",
              "    </tr>\n",
              "    <tr>\n",
              "      <th>2013-01-03</th>\n",
              "      <td>-1.020955</td>\n",
              "      <td>-1.115547</td>\n",
              "      <td>-1.380094</td>\n",
              "      <td>-0.466280</td>\n",
              "      <td>two</td>\n",
              "    </tr>\n",
              "    <tr>\n",
              "      <th>2013-01-04</th>\n",
              "      <td>0.186824</td>\n",
              "      <td>-0.101365</td>\n",
              "      <td>-0.427483</td>\n",
              "      <td>1.756040</td>\n",
              "      <td>three</td>\n",
              "    </tr>\n",
              "    <tr>\n",
              "      <th>2013-01-05</th>\n",
              "      <td>1.655064</td>\n",
              "      <td>0.244399</td>\n",
              "      <td>-0.523301</td>\n",
              "      <td>-0.183911</td>\n",
              "      <td>four</td>\n",
              "    </tr>\n",
              "    <tr>\n",
              "      <th>2013-01-06</th>\n",
              "      <td>0.031059</td>\n",
              "      <td>-0.807516</td>\n",
              "      <td>-1.341540</td>\n",
              "      <td>-0.721306</td>\n",
              "      <td>three</td>\n",
              "    </tr>\n",
              "  </tbody>\n",
              "</table>\n",
              "</div>"
            ],
            "text/plain": [
              "                   A         B         C         D      E\n",
              "2013-01-01  0.405504 -1.779254 -0.546752  1.610266    one\n",
              "2013-01-02 -1.578147 -1.119761  1.234060 -0.400535    one\n",
              "2013-01-03 -1.020955 -1.115547 -1.380094 -0.466280    two\n",
              "2013-01-04  0.186824 -0.101365 -0.427483  1.756040  three\n",
              "2013-01-05  1.655064  0.244399 -0.523301 -0.183911   four\n",
              "2013-01-06  0.031059 -0.807516 -1.341540 -0.721306  three"
            ]
          },
          "metadata": {
            "tags": []
          },
          "execution_count": 48
        }
      ]
    },
    {
      "cell_type": "code",
      "metadata": {
        "id": "7AZm9gEbs6_w",
        "colab_type": "code",
        "outputId": "75f664f0-bfea-472a-c4dd-dceb5075723f",
        "colab": {
          "base_uri": "https://localhost:8080/",
          "height": 107
        }
      },
      "source": [
        "# Método \"pergunta está em?\"\n",
        "# No df2 na coluna E está/existe/dentro two e four\n",
        "df2[df2['E'].isin(['two', 'four'])]"
      ],
      "execution_count": 0,
      "outputs": [
        {
          "output_type": "execute_result",
          "data": {
            "text/html": [
              "<div>\n",
              "<style scoped>\n",
              "    .dataframe tbody tr th:only-of-type {\n",
              "        vertical-align: middle;\n",
              "    }\n",
              "\n",
              "    .dataframe tbody tr th {\n",
              "        vertical-align: top;\n",
              "    }\n",
              "\n",
              "    .dataframe thead th {\n",
              "        text-align: right;\n",
              "    }\n",
              "</style>\n",
              "<table border=\"1\" class=\"dataframe\">\n",
              "  <thead>\n",
              "    <tr style=\"text-align: right;\">\n",
              "      <th></th>\n",
              "      <th>A</th>\n",
              "      <th>B</th>\n",
              "      <th>C</th>\n",
              "      <th>D</th>\n",
              "      <th>E</th>\n",
              "    </tr>\n",
              "  </thead>\n",
              "  <tbody>\n",
              "    <tr>\n",
              "      <th>2013-01-03</th>\n",
              "      <td>-1.020955</td>\n",
              "      <td>-1.115547</td>\n",
              "      <td>-1.380094</td>\n",
              "      <td>-0.466280</td>\n",
              "      <td>two</td>\n",
              "    </tr>\n",
              "    <tr>\n",
              "      <th>2013-01-05</th>\n",
              "      <td>1.655064</td>\n",
              "      <td>0.244399</td>\n",
              "      <td>-0.523301</td>\n",
              "      <td>-0.183911</td>\n",
              "      <td>four</td>\n",
              "    </tr>\n",
              "  </tbody>\n",
              "</table>\n",
              "</div>"
            ],
            "text/plain": [
              "                   A         B         C         D     E\n",
              "2013-01-03 -1.020955 -1.115547 -1.380094 -0.466280   two\n",
              "2013-01-05  1.655064  0.244399 -0.523301 -0.183911  four"
            ]
          },
          "metadata": {
            "tags": []
          },
          "execution_count": 50
        }
      ]
    },
    {
      "cell_type": "code",
      "metadata": {
        "id": "vlCfpO4dtnXo",
        "colab_type": "code",
        "colab": {}
      },
      "source": [
        ""
      ],
      "execution_count": 0,
      "outputs": []
    }
  ]
}