{
  "nbformat": 4,
  "nbformat_minor": 0,
  "metadata": {
    "colab": {
      "name": "LinearRegression_vs_DecisionTreeRegression.ipynb",
      "provenance": [],
      "collapsed_sections": [],
      "authorship_tag": "ABX9TyPnvOmM8imh+I2hWXg5f2es"
    },
    "kernelspec": {
      "name": "python3",
      "display_name": "Python 3"
    }
  },
  "cells": [
    {
      "cell_type": "markdown",
      "metadata": {
        "id": "IxBPXbufRaJ1"
      },
      "source": [
        "<b>**Aplicação do Algoritmo de regressão Linear**</b>\r\n",
        "\r\n",
        "```\r\n",
        "# Aplicação do modelo de regressão Linear para predição de valores de gorjeta\r\n",
        "```\r\n",
        "\r\n",
        "\r\n",
        "\r\n"
      ]
    },
    {
      "cell_type": "code",
      "metadata": {
        "id": "s4-uMVVFRJfg"
      },
      "source": [
        "#Importação dos pacotes\r\n",
        "import seaborn as sns\r\n",
        "import pandas as pd\r\n",
        "import matplotlib.pyplot as plt\r\n",
        "from sklearn.linear_model import LinearRegression"
      ],
      "execution_count": 1,
      "outputs": []
    },
    {
      "cell_type": "code",
      "metadata": {
        "id": "mJDW49RPSQJO"
      },
      "source": [
        "# Carregamento dos dados\r\n",
        "tips = sns.load_dataset('tips');"
      ],
      "execution_count": 2,
      "outputs": []
    },
    {
      "cell_type": "code",
      "metadata": {
        "colab": {
          "base_uri": "https://localhost:8080/",
          "height": 173
        },
        "id": "zB4nW-ldSQP8",
        "outputId": "94aec066-2f30-42b0-aba7-d7658a650bf9"
      },
      "source": [
        "# Visualização do dataset\r\n",
        "tips.head(4)"
      ],
      "execution_count": 3,
      "outputs": [
        {
          "output_type": "execute_result",
          "data": {
            "text/html": [
              "<div>\n",
              "<style scoped>\n",
              "    .dataframe tbody tr th:only-of-type {\n",
              "        vertical-align: middle;\n",
              "    }\n",
              "\n",
              "    .dataframe tbody tr th {\n",
              "        vertical-align: top;\n",
              "    }\n",
              "\n",
              "    .dataframe thead th {\n",
              "        text-align: right;\n",
              "    }\n",
              "</style>\n",
              "<table border=\"1\" class=\"dataframe\">\n",
              "  <thead>\n",
              "    <tr style=\"text-align: right;\">\n",
              "      <th></th>\n",
              "      <th>total_bill</th>\n",
              "      <th>tip</th>\n",
              "      <th>sex</th>\n",
              "      <th>smoker</th>\n",
              "      <th>day</th>\n",
              "      <th>time</th>\n",
              "      <th>size</th>\n",
              "    </tr>\n",
              "  </thead>\n",
              "  <tbody>\n",
              "    <tr>\n",
              "      <th>0</th>\n",
              "      <td>16.99</td>\n",
              "      <td>1.01</td>\n",
              "      <td>Female</td>\n",
              "      <td>No</td>\n",
              "      <td>Sun</td>\n",
              "      <td>Dinner</td>\n",
              "      <td>2</td>\n",
              "    </tr>\n",
              "    <tr>\n",
              "      <th>1</th>\n",
              "      <td>10.34</td>\n",
              "      <td>1.66</td>\n",
              "      <td>Male</td>\n",
              "      <td>No</td>\n",
              "      <td>Sun</td>\n",
              "      <td>Dinner</td>\n",
              "      <td>3</td>\n",
              "    </tr>\n",
              "    <tr>\n",
              "      <th>2</th>\n",
              "      <td>21.01</td>\n",
              "      <td>3.50</td>\n",
              "      <td>Male</td>\n",
              "      <td>No</td>\n",
              "      <td>Sun</td>\n",
              "      <td>Dinner</td>\n",
              "      <td>3</td>\n",
              "    </tr>\n",
              "    <tr>\n",
              "      <th>3</th>\n",
              "      <td>23.68</td>\n",
              "      <td>3.31</td>\n",
              "      <td>Male</td>\n",
              "      <td>No</td>\n",
              "      <td>Sun</td>\n",
              "      <td>Dinner</td>\n",
              "      <td>2</td>\n",
              "    </tr>\n",
              "  </tbody>\n",
              "</table>\n",
              "</div>"
            ],
            "text/plain": [
              "   total_bill   tip     sex smoker  day    time  size\n",
              "0       16.99  1.01  Female     No  Sun  Dinner     2\n",
              "1       10.34  1.66    Male     No  Sun  Dinner     3\n",
              "2       21.01  3.50    Male     No  Sun  Dinner     3\n",
              "3       23.68  3.31    Male     No  Sun  Dinner     2"
            ]
          },
          "metadata": {
            "tags": []
          },
          "execution_count": 3
        }
      ]
    },
    {
      "cell_type": "code",
      "metadata": {
        "colab": {
          "base_uri": "https://localhost:8080/"
        },
        "id": "hUweidEjSVTh",
        "outputId": "312cc6cd-c53c-4542-8dcf-d21c66278698"
      },
      "source": [
        "tips.isnull().sum()"
      ],
      "execution_count": 4,
      "outputs": [
        {
          "output_type": "execute_result",
          "data": {
            "text/plain": [
              "total_bill    0\n",
              "tip           0\n",
              "sex           0\n",
              "smoker        0\n",
              "day           0\n",
              "time          0\n",
              "size          0\n",
              "dtype: int64"
            ]
          },
          "metadata": {
            "tags": []
          },
          "execution_count": 4
        }
      ]
    },
    {
      "cell_type": "code",
      "metadata": {
        "colab": {
          "base_uri": "https://localhost:8080/",
          "height": 281
        },
        "id": "WXyIBHDOHlqZ",
        "outputId": "7da584b1-fb2c-49ce-bbc2-26aed781009b"
      },
      "source": [
        "plt.hist(tips['total_bill'])\r\n",
        "plt.title('Distribuição valor conta');"
      ],
      "execution_count": 5,
      "outputs": [
        {
          "output_type": "display_data",
          "data": {
            "image/png": "[encoded data removed]",
            "text/plain": [
              "<Figure size 432x288 with 1 Axes>"
            ]
          },
          "metadata": {
            "tags": [],
            "needs_background": "light"
          }
        }
      ]
    },
    {
      "cell_type": "code",
      "metadata": {
        "colab": {
          "base_uri": "https://localhost:8080/",
          "height": 281
        },
        "id": "E7SnBz8BIGJS",
        "outputId": "d420b943-d27b-4e3a-843f-19a686087a30"
      },
      "source": [
        "plt.hist(tips['tip'])\r\n",
        "plt.title('Distribuição valor Gorgeta');"
      ],
      "execution_count": 6,
      "outputs": [
        {
          "output_type": "display_data",
          "data": {
            "image/png": "[encoded data removed]",
            "text/plain": [
              "<Figure size 432x288 with 1 Axes>"
            ]
          },
          "metadata": {
            "tags": [],
            "needs_background": "light"
          }
        }
      ]
    },
    {
      "cell_type": "code",
      "metadata": {
        "colab": {
          "base_uri": "https://localhost:8080/",
          "height": 312
        },
        "id": "0rnqg5MYSgII",
        "outputId": "faa27dda-9f7c-4ddd-df61-b6b772f6a433"
      },
      "source": [
        "# Visualizando a dispersão dos dados\r\n",
        "plt.scatter(tips['total_bill'].values, tips['tip'].values)\r\n",
        "plt.title('Tips ans Bills')\r\n",
        "plt.xlabel('Bills')\r\n",
        "plt.ylabel('Tips')"
      ],
      "execution_count": 7,
      "outputs": [
        {
          "output_type": "execute_result",
          "data": {
            "text/plain": [
              "Text(0, 0.5, 'Tips')"
            ]
          },
          "metadata": {
            "tags": []
          },
          "execution_count": 7
        },
        {
          "output_type": "display_data",
          "data": {
            "image/png": "[encoded data removed]",
            "text/plain": [
              "<Figure size 432x288 with 1 Axes>"
            ]
          },
          "metadata": {
            "tags": [],
            "needs_background": "light"
          }
        }
      ]
    },
    {
      "cell_type": "code",
      "metadata": {
        "id": "zfx_frAfUS7S"
      },
      "source": [
        "# Selecionando apenas os dados para treinar o modelo.\r\n",
        "# Não utilizando técnicas de Feature Selection\r\n",
        "X = tips.iloc[:,0:1].values #Total da Conta\r\n",
        "y = tips.iloc[:,1:2].values #Total da Gorjeta"
      ],
      "execution_count": 8,
      "outputs": []
    },
    {
      "cell_type": "code",
      "metadata": {
        "id": "OeQTPjXCT1Gm"
      },
      "source": [
        "#Instanciando o objeto e treinando o modelo\r\n",
        "reg = LinearRegression().fit(X,y)"
      ],
      "execution_count": 9,
      "outputs": []
    },
    {
      "cell_type": "markdown",
      "metadata": {
        "id": "nwJcQ98Wol4h"
      },
      "source": [
        "**Métricas do modelo**"
      ]
    },
    {
      "cell_type": "code",
      "metadata": {
        "id": "0gUqY_aXV0dh"
      },
      "source": [
        "# Avaliação do coeficiente de determinação, ou seja, quanto mais o valor desse indicador se aproxima de 1 ou 100% mais explicativo é o modelo linear.\r\n",
        "# O modelo explica apenas 45% da variância dos dados\r\n",
        "LinearScore = reg.score(X, y)"
      ],
      "execution_count": 30,
      "outputs": []
    },
    {
      "cell_type": "code",
      "metadata": {
        "colab": {
          "base_uri": "https://localhost:8080/"
        },
        "id": "Rf3di8gtWHNP",
        "outputId": "51bb2ff0-c777-4e20-81f9-d989ff61f98b"
      },
      "source": [
        "# Coeficiente de correlação das váriaveis, ou seja, \"medição\" do grau de associação linear entre duas variáveis.\r\n",
        "# Quanto mais próximo de 1 mais é possível mais \"forte\" é a correlação entre as variaveis\r\n",
        "reg.coef_"
      ],
      "execution_count": 11,
      "outputs": [
        {
          "output_type": "execute_result",
          "data": {
            "text/plain": [
              "array([[0.10502452]])"
            ]
          },
          "metadata": {
            "tags": []
          },
          "execution_count": 11
        }
      ]
    },
    {
      "cell_type": "code",
      "metadata": {
        "colab": {
          "base_uri": "https://localhost:8080/"
        },
        "id": "muGI8GXSWRdu",
        "outputId": "05e7cf77-51d5-456c-f544-23ea87119848"
      },
      "source": [
        "# Mesmo analisando as métricas do modelo vamos realizar valor 200 e o modelo exibirá a predição para a gorjeta\r\n",
        "reg.predict([[50]])"
      ],
      "execution_count": 12,
      "outputs": [
        {
          "output_type": "execute_result",
          "data": {
            "text/plain": [
              "array([[6.17149548]])"
            ]
          },
          "metadata": {
            "tags": []
          },
          "execution_count": 12
        }
      ]
    },
    {
      "cell_type": "code",
      "metadata": {
        "id": "nEEssMsmGbnN"
      },
      "source": [
        "from sklearn.metrics import mean_absolute_error\r\n",
        "from sklearn.metrics import mean_squared_error"
      ],
      "execution_count": 13,
      "outputs": []
    },
    {
      "cell_type": "code",
      "metadata": {
        "colab": {
          "base_uri": "https://localhost:8080/"
        },
        "id": "a2rh0kWyJCJU",
        "outputId": "cce94e0d-36a3-41b9-99ce-8293440230de"
      },
      "source": [
        "#Métricas\r\n",
        "mae = mean_absolute_error(X, y)\r\n",
        "mse = mean_squared_error(X, y)\r\n",
        "print('O Erro médio absoluto é:', mae)\r\n",
        "print('O Erro médio Quadrático é:', mse)"
      ],
      "execution_count": 24,
      "outputs": [
        {
          "output_type": "stream",
          "text": [
            "O Erro médio absoluto é: 16.78766393442623\n",
            "O Erro médio Quadrático é: 346.0816225409836\n"
          ],
          "name": "stdout"
        }
      ]
    },
    {
      "cell_type": "markdown",
      "metadata": {
        "id": "UpYcaaurThNZ"
      },
      "source": [
        "## Avaliando um segundo modelo de regressão "
      ]
    },
    {
      "cell_type": "code",
      "metadata": {
        "id": "tccgwpBETSin"
      },
      "source": [
        "from sklearn.tree import DecisionTreeRegressor"
      ],
      "execution_count": 15,
      "outputs": []
    },
    {
      "cell_type": "code",
      "metadata": {
        "colab": {
          "base_uri": "https://localhost:8080/"
        },
        "id": "3uqbM5fiTekw",
        "outputId": "542c3f84-254c-4788-f818-e5cbc2f0d59b"
      },
      "source": [
        "# Instanciando 2 modelos com Profundidadade diferente\r\n",
        "regr_1 = DecisionTreeRegressor(max_depth=2)\r\n",
        "regr_2 = DecisionTreeRegressor(max_depth=10)\r\n",
        "regr_1.fit(X, y)\r\n",
        "regr_2.fit(X, y)"
      ],
      "execution_count": 21,
      "outputs": [
        {
          "output_type": "execute_result",
          "data": {
            "text/plain": [
              "DecisionTreeRegressor(ccp_alpha=0.0, criterion='mse', max_depth=10,\n",
              "                      max_features=None, max_leaf_nodes=None,\n",
              "                      min_impurity_decrease=0.0, min_impurity_split=None,\n",
              "                      min_samples_leaf=1, min_samples_split=2,\n",
              "                      min_weight_fraction_leaf=0.0, presort='deprecated',\n",
              "                      random_state=None, splitter='best')"
            ]
          },
          "metadata": {
            "tags": []
          },
          "execution_count": 21
        }
      ]
    },
    {
      "cell_type": "code",
      "metadata": {
        "id": "OIB10E-AUUiY"
      },
      "source": [
        "Decision1 = regr_1.score(X,y)"
      ],
      "execution_count": 32,
      "outputs": []
    },
    {
      "cell_type": "code",
      "metadata": {
        "id": "HVKQpivBUkG7"
      },
      "source": [
        "Decision2 = regr_2.score(X,y)"
      ],
      "execution_count": 33,
      "outputs": []
    },
    {
      "cell_type": "code",
      "metadata": {
        "id": "qAZkthTIVY1j"
      },
      "source": [
        "modelos = {'Linear':LinearScore, 'Decision1': Decision1, 'Decision2': Decision2}"
      ],
      "execution_count": 37,
      "outputs": []
    },
    {
      "cell_type": "code",
      "metadata": {
        "colab": {
          "base_uri": "https://localhost:8080/",
          "height": 265
        },
        "id": "yKGOVOwUVMEh",
        "outputId": "37f976b3-fe89-4bfe-b311-9c851857b156"
      },
      "source": [
        "Comp_modelos = pd.DataFrame(modelos, index=[\"Score\"])\r\n",
        "Comp_modelos.T.plot.barh();"
      ],
      "execution_count": 43,
      "outputs": [
        {
          "output_type": "display_data",
          "data": {
            "image/png": "[encoded data removed]",
            "text/plain": [
              "<Figure size 432x288 with 1 Axes>"
            ]
          },
          "metadata": {
            "tags": [],
            "needs_background": "light"
          }
        }
      ]
    },
    {
      "cell_type": "code",
      "metadata": {
        "colab": {
          "base_uri": "https://localhost:8080/"
        },
        "id": "mSMGN3kAXGSI",
        "outputId": "3886b6d3-f902-43a3-9ce8-7ce9f99b66df"
      },
      "source": [
        "#Nosso melhor modelo aparentemente é o Decision Tree Regression com profundidade 10\r\n",
        "regr_2.predict([[18]])"
      ],
      "execution_count": 49,
      "outputs": [
        {
          "output_type": "execute_result",
          "data": {
            "text/plain": [
              "array([3.49222222])"
            ]
          },
          "metadata": {
            "tags": []
          },
          "execution_count": 49
        }
      ]
    },
    {
      "cell_type": "code",
      "metadata": {
        "colab": {
          "base_uri": "https://localhost:8080/",
          "height": 295
        },
        "id": "ZORjAl6SYQpH",
        "outputId": "5c2b665a-7484-4600-c447-2f90c380c62b"
      },
      "source": [
        "plt.figure()\r\n",
        "plt.scatter(X, y, s=20, edgecolor=\"black\",\r\n",
        "            c=\"darkorange\", label=\"data\")\r\n",
        "plt.plot(X, y, color=\"cornflowerblue\",\r\n",
        "         label=\"max_depth=2\", linewidth=2)\r\n",
        "plt.plot(X, y, color=\"yellowgreen\", label=\"max_depth=10\", linewidth=2)\r\n",
        "plt.xlabel(\"data\")\r\n",
        "plt.ylabel(\"target\")\r\n",
        "plt.title(\"Decision Tree Regression\")\r\n",
        "plt.legend()\r\n",
        "plt.show()"
      ],
      "execution_count": 52,
      "outputs": [
        {
          "output_type": "display_data",
          "data": {
            "image/png": "[encoded data removed]",
            "text/plain": [
              "<Figure size 432x288 with 1 Axes>"
            ]
          },
          "metadata": {
            "tags": [],
            "needs_background": "light"
          }
        }
      ]
    }
  ]
}