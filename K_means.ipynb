{
  "nbformat": 4,
  "nbformat_minor": 0,
  "metadata": {
    "colab": {
      "name": "K-means.ipynb",
      "provenance": [],
      "collapsed_sections": [],
      "toc_visible": true,
      "authorship_tag": "ABX9TyMYWvjaj2RqjLIrLHIUinzu",
      "include_colab_link": true
    },
    "kernelspec": {
      "name": "python3",
      "display_name": "Python 3"
    }
  },
  "cells": [
    {
      "cell_type": "markdown",
      "metadata": {
        "id": "view-in-github",
        "colab_type": "text"
      },
      "source": [
        "<a href=\"https://colab.research.google.com/github/Pedro-data/datasets/blob/master/K_means.ipynb\" target=\"_parent\"><img src=\"https://colab.research.google.com/assets/colab-badge.svg\" alt=\"Open In Colab\"/></a>"
      ]
    },
    {
      "cell_type": "markdown",
      "metadata": {
        "id": "wga_ppuwyVSw",
        "colab_type": "text"
      },
      "source": [
        "# **Aplicação basica do algoritmo k-means**\n",
        "\n",
        "Objetivo: Realizar classificação de dados de contas e gorjetas de um restaurante.\n"
      ]
    },
    {
      "cell_type": "code",
      "metadata": {
        "id": "sSaqkaDmxNcv",
        "colab_type": "code",
        "colab": {}
      },
      "source": [
        "#Importação das bibliotecas necessárias para análise.\n",
        "import seaborn as sns\n",
        "import pandas as pd\n",
        "import matplotlib.pyplot as plt\n",
        "from sklearn.cluster import KMeans"
      ],
      "execution_count": 0,
      "outputs": []
    },
    {
      "cell_type": "code",
      "metadata": {
        "id": "WdMCrICFxnUo",
        "colab_type": "code",
        "colab": {}
      },
      "source": [
        "#Carregamento dos dados\n",
        "tips = sns.load_dataset('tips');"
      ],
      "execution_count": 0,
      "outputs": []
    },
    {
      "cell_type": "code",
      "metadata": {
        "id": "aArnQ8KmxrzA",
        "colab_type": "code",
        "colab": {
          "base_uri": "https://localhost:8080/",
          "height": 173
        },
        "outputId": "58d664f1-5fc4-4fcf-da82-8a52fa3aa7b9"
      },
      "source": [
        "#Visualização do dataset\n",
        "tips.head(4)"
      ],
      "execution_count": 3,
      "outputs": [
        {
          "output_type": "execute_result",
          "data": {
            "text/html": [
              "<div>\n",
              "<style scoped>\n",
              "    .dataframe tbody tr th:only-of-type {\n",
              "        vertical-align: middle;\n",
              "    }\n",
              "\n",
              "    .dataframe tbody tr th {\n",
              "        vertical-align: top;\n",
              "    }\n",
              "\n",
              "    .dataframe thead th {\n",
              "        text-align: right;\n",
              "    }\n",
              "</style>\n",
              "<table border=\"1\" class=\"dataframe\">\n",
              "  <thead>\n",
              "    <tr style=\"text-align: right;\">\n",
              "      <th></th>\n",
              "      <th>total_bill</th>\n",
              "      <th>tip</th>\n",
              "      <th>sex</th>\n",
              "      <th>smoker</th>\n",
              "      <th>day</th>\n",
              "      <th>time</th>\n",
              "      <th>size</th>\n",
              "    </tr>\n",
              "  </thead>\n",
              "  <tbody>\n",
              "    <tr>\n",
              "      <th>0</th>\n",
              "      <td>16.99</td>\n",
              "      <td>1.01</td>\n",
              "      <td>Female</td>\n",
              "      <td>No</td>\n",
              "      <td>Sun</td>\n",
              "      <td>Dinner</td>\n",
              "      <td>2</td>\n",
              "    </tr>\n",
              "    <tr>\n",
              "      <th>1</th>\n",
              "      <td>10.34</td>\n",
              "      <td>1.66</td>\n",
              "      <td>Male</td>\n",
              "      <td>No</td>\n",
              "      <td>Sun</td>\n",
              "      <td>Dinner</td>\n",
              "      <td>3</td>\n",
              "    </tr>\n",
              "    <tr>\n",
              "      <th>2</th>\n",
              "      <td>21.01</td>\n",
              "      <td>3.50</td>\n",
              "      <td>Male</td>\n",
              "      <td>No</td>\n",
              "      <td>Sun</td>\n",
              "      <td>Dinner</td>\n",
              "      <td>3</td>\n",
              "    </tr>\n",
              "    <tr>\n",
              "      <th>3</th>\n",
              "      <td>23.68</td>\n",
              "      <td>3.31</td>\n",
              "      <td>Male</td>\n",
              "      <td>No</td>\n",
              "      <td>Sun</td>\n",
              "      <td>Dinner</td>\n",
              "      <td>2</td>\n",
              "    </tr>\n",
              "  </tbody>\n",
              "</table>\n",
              "</div>"
            ],
            "text/plain": [
              "   total_bill   tip     sex smoker  day    time  size\n",
              "0       16.99  1.01  Female     No  Sun  Dinner     2\n",
              "1       10.34  1.66    Male     No  Sun  Dinner     3\n",
              "2       21.01  3.50    Male     No  Sun  Dinner     3\n",
              "3       23.68  3.31    Male     No  Sun  Dinner     2"
            ]
          },
          "metadata": {
            "tags": []
          },
          "execution_count": 3
        }
      ]
    },
    {
      "cell_type": "code",
      "metadata": {
        "id": "0CcvsFjGxulF",
        "colab_type": "code",
        "colab": {
          "base_uri": "https://localhost:8080/",
          "height": 153
        },
        "outputId": "5ae0ca97-d130-4b92-cdac-3d9e97667431"
      },
      "source": [
        "#Verificando se há valores nulos no dataset\n",
        "tips.isnull().sum()"
      ],
      "execution_count": 4,
      "outputs": [
        {
          "output_type": "execute_result",
          "data": {
            "text/plain": [
              "total_bill    0\n",
              "tip           0\n",
              "sex           0\n",
              "smoker        0\n",
              "day           0\n",
              "time          0\n",
              "size          0\n",
              "dtype: int64"
            ]
          },
          "metadata": {
            "tags": []
          },
          "execution_count": 4
        }
      ]
    },
    {
      "cell_type": "code",
      "metadata": {
        "id": "_983tUkXxyc6",
        "colab_type": "code",
        "colab": {}
      },
      "source": [
        "x = tips.iloc[:,0:2].values\n",
        "#guardando na variável x todas as linhas: , pegando as 2 colunas(total_bill e tip)"
      ],
      "execution_count": 0,
      "outputs": []
    },
    {
      "cell_type": "code",
      "metadata": {
        "id": "nGo_0KMex0bg",
        "colab_type": "code",
        "colab": {
          "base_uri": "https://localhost:8080/",
          "height": 1000
        },
        "outputId": "970f7819-d590-4d22-83e5-74de890d2978"
      },
      "source": [
        "#Visualizando dados das nossas variáveis\n",
        "print(x)"
      ],
      "execution_count": 6,
      "outputs": [
        {
          "output_type": "stream",
          "text": [
            "[[16.99  1.01]\n",
            " [10.34  1.66]\n",
            " [21.01  3.5 ]\n",
            " [23.68  3.31]\n",
            " [24.59  3.61]\n",
            " [25.29  4.71]\n",
            " [ 8.77  2.  ]\n",
            " [26.88  3.12]\n",
            " [15.04  1.96]\n",
            " [14.78  3.23]\n",
            " [10.27  1.71]\n",
            " [35.26  5.  ]\n",
            " [15.42  1.57]\n",
            " [18.43  3.  ]\n",
            " [14.83  3.02]\n",
            " [21.58  3.92]\n",
            " [10.33  1.67]\n",
            " [16.29  3.71]\n",
            " [16.97  3.5 ]\n",
            " [20.65  3.35]\n",
            " [17.92  4.08]\n",
            " [20.29  2.75]\n",
            " [15.77  2.23]\n",
            " [39.42  7.58]\n",
            " [19.82  3.18]\n",
            " [17.81  2.34]\n",
            " [13.37  2.  ]\n",
            " [12.69  2.  ]\n",
            " [21.7   4.3 ]\n",
            " [19.65  3.  ]\n",
            " [ 9.55  1.45]\n",
            " [18.35  2.5 ]\n",
            " [15.06  3.  ]\n",
            " [20.69  2.45]\n",
            " [17.78  3.27]\n",
            " [24.06  3.6 ]\n",
            " [16.31  2.  ]\n",
            " [16.93  3.07]\n",
            " [18.69  2.31]\n",
            " [31.27  5.  ]\n",
            " [16.04  2.24]\n",
            " [17.46  2.54]\n",
            " [13.94  3.06]\n",
            " [ 9.68  1.32]\n",
            " [30.4   5.6 ]\n",
            " [18.29  3.  ]\n",
            " [22.23  5.  ]\n",
            " [32.4   6.  ]\n",
            " [28.55  2.05]\n",
            " [18.04  3.  ]\n",
            " [12.54  2.5 ]\n",
            " [10.29  2.6 ]\n",
            " [34.81  5.2 ]\n",
            " [ 9.94  1.56]\n",
            " [25.56  4.34]\n",
            " [19.49  3.51]\n",
            " [38.01  3.  ]\n",
            " [26.41  1.5 ]\n",
            " [11.24  1.76]\n",
            " [48.27  6.73]\n",
            " [20.29  3.21]\n",
            " [13.81  2.  ]\n",
            " [11.02  1.98]\n",
            " [18.29  3.76]\n",
            " [17.59  2.64]\n",
            " [20.08  3.15]\n",
            " [16.45  2.47]\n",
            " [ 3.07  1.  ]\n",
            " [20.23  2.01]\n",
            " [15.01  2.09]\n",
            " [12.02  1.97]\n",
            " [17.07  3.  ]\n",
            " [26.86  3.14]\n",
            " [25.28  5.  ]\n",
            " [14.73  2.2 ]\n",
            " [10.51  1.25]\n",
            " [17.92  3.08]\n",
            " [27.2   4.  ]\n",
            " [22.76  3.  ]\n",
            " [17.29  2.71]\n",
            " [19.44  3.  ]\n",
            " [16.66  3.4 ]\n",
            " [10.07  1.83]\n",
            " [32.68  5.  ]\n",
            " [15.98  2.03]\n",
            " [34.83  5.17]\n",
            " [13.03  2.  ]\n",
            " [18.28  4.  ]\n",
            " [24.71  5.85]\n",
            " [21.16  3.  ]\n",
            " [28.97  3.  ]\n",
            " [22.49  3.5 ]\n",
            " [ 5.75  1.  ]\n",
            " [16.32  4.3 ]\n",
            " [22.75  3.25]\n",
            " [40.17  4.73]\n",
            " [27.28  4.  ]\n",
            " [12.03  1.5 ]\n",
            " [21.01  3.  ]\n",
            " [12.46  1.5 ]\n",
            " [11.35  2.5 ]\n",
            " [15.38  3.  ]\n",
            " [44.3   2.5 ]\n",
            " [22.42  3.48]\n",
            " [20.92  4.08]\n",
            " [15.36  1.64]\n",
            " [20.49  4.06]\n",
            " [25.21  4.29]\n",
            " [18.24  3.76]\n",
            " [14.31  4.  ]\n",
            " [14.    3.  ]\n",
            " [ 7.25  1.  ]\n",
            " [38.07  4.  ]\n",
            " [23.95  2.55]\n",
            " [25.71  4.  ]\n",
            " [17.31  3.5 ]\n",
            " [29.93  5.07]\n",
            " [10.65  1.5 ]\n",
            " [12.43  1.8 ]\n",
            " [24.08  2.92]\n",
            " [11.69  2.31]\n",
            " [13.42  1.68]\n",
            " [14.26  2.5 ]\n",
            " [15.95  2.  ]\n",
            " [12.48  2.52]\n",
            " [29.8   4.2 ]\n",
            " [ 8.52  1.48]\n",
            " [14.52  2.  ]\n",
            " [11.38  2.  ]\n",
            " [22.82  2.18]\n",
            " [19.08  1.5 ]\n",
            " [20.27  2.83]\n",
            " [11.17  1.5 ]\n",
            " [12.26  2.  ]\n",
            " [18.26  3.25]\n",
            " [ 8.51  1.25]\n",
            " [10.33  2.  ]\n",
            " [14.15  2.  ]\n",
            " [16.    2.  ]\n",
            " [13.16  2.75]\n",
            " [17.47  3.5 ]\n",
            " [34.3   6.7 ]\n",
            " [41.19  5.  ]\n",
            " [27.05  5.  ]\n",
            " [16.43  2.3 ]\n",
            " [ 8.35  1.5 ]\n",
            " [18.64  1.36]\n",
            " [11.87  1.63]\n",
            " [ 9.78  1.73]\n",
            " [ 7.51  2.  ]\n",
            " [14.07  2.5 ]\n",
            " [13.13  2.  ]\n",
            " [17.26  2.74]\n",
            " [24.55  2.  ]\n",
            " [19.77  2.  ]\n",
            " [29.85  5.14]\n",
            " [48.17  5.  ]\n",
            " [25.    3.75]\n",
            " [13.39  2.61]\n",
            " [16.49  2.  ]\n",
            " [21.5   3.5 ]\n",
            " [12.66  2.5 ]\n",
            " [16.21  2.  ]\n",
            " [13.81  2.  ]\n",
            " [17.51  3.  ]\n",
            " [24.52  3.48]\n",
            " [20.76  2.24]\n",
            " [31.71  4.5 ]\n",
            " [10.59  1.61]\n",
            " [10.63  2.  ]\n",
            " [50.81 10.  ]\n",
            " [15.81  3.16]\n",
            " [ 7.25  5.15]\n",
            " [31.85  3.18]\n",
            " [16.82  4.  ]\n",
            " [32.9   3.11]\n",
            " [17.89  2.  ]\n",
            " [14.48  2.  ]\n",
            " [ 9.6   4.  ]\n",
            " [34.63  3.55]\n",
            " [34.65  3.68]\n",
            " [23.33  5.65]\n",
            " [45.35  3.5 ]\n",
            " [23.17  6.5 ]\n",
            " [40.55  3.  ]\n",
            " [20.69  5.  ]\n",
            " [20.9   3.5 ]\n",
            " [30.46  2.  ]\n",
            " [18.15  3.5 ]\n",
            " [23.1   4.  ]\n",
            " [15.69  1.5 ]\n",
            " [19.81  4.19]\n",
            " [28.44  2.56]\n",
            " [15.48  2.02]\n",
            " [16.58  4.  ]\n",
            " [ 7.56  1.44]\n",
            " [10.34  2.  ]\n",
            " [43.11  5.  ]\n",
            " [13.    2.  ]\n",
            " [13.51  2.  ]\n",
            " [18.71  4.  ]\n",
            " [12.74  2.01]\n",
            " [13.    2.  ]\n",
            " [16.4   2.5 ]\n",
            " [20.53  4.  ]\n",
            " [16.47  3.23]\n",
            " [26.59  3.41]\n",
            " [38.73  3.  ]\n",
            " [24.27  2.03]\n",
            " [12.76  2.23]\n",
            " [30.06  2.  ]\n",
            " [25.89  5.16]\n",
            " [48.33  9.  ]\n",
            " [13.27  2.5 ]\n",
            " [28.17  6.5 ]\n",
            " [12.9   1.1 ]\n",
            " [28.15  3.  ]\n",
            " [11.59  1.5 ]\n",
            " [ 7.74  1.44]\n",
            " [30.14  3.09]\n",
            " [12.16  2.2 ]\n",
            " [13.42  3.48]\n",
            " [ 8.58  1.92]\n",
            " [15.98  3.  ]\n",
            " [13.42  1.58]\n",
            " [16.27  2.5 ]\n",
            " [10.09  2.  ]\n",
            " [20.45  3.  ]\n",
            " [13.28  2.72]\n",
            " [22.12  2.88]\n",
            " [24.01  2.  ]\n",
            " [15.69  3.  ]\n",
            " [11.61  3.39]\n",
            " [10.77  1.47]\n",
            " [15.53  3.  ]\n",
            " [10.07  1.25]\n",
            " [12.6   1.  ]\n",
            " [32.83  1.17]\n",
            " [35.83  4.67]\n",
            " [29.03  5.92]\n",
            " [27.18  2.  ]\n",
            " [22.67  2.  ]\n",
            " [17.82  1.75]\n",
            " [18.78  3.  ]]\n"
          ],
          "name": "stdout"
        }
      ]
    },
    {
      "cell_type": "code",
      "metadata": {
        "id": "70iKYlLtx6f8",
        "colab_type": "code",
        "colab": {}
      },
      "source": [
        "kmeans = KMeans(n_clusters = 3, init = 'random')"
      ],
      "execution_count": 0,
      "outputs": []
    },
    {
      "cell_type": "code",
      "metadata": {
        "id": "Dt9Gm4gSx9AX",
        "colab_type": "code",
        "colab": {
          "base_uri": "https://localhost:8080/",
          "height": 68
        },
        "outputId": "dc5306e4-f17f-4a09-9b1f-de54856c4934"
      },
      "source": [
        "kmeans.fit(x)"
      ],
      "execution_count": 8,
      "outputs": [
        {
          "output_type": "execute_result",
          "data": {
            "text/plain": [
              "KMeans(algorithm='auto', copy_x=True, init='random', max_iter=300, n_clusters=3,\n",
              "       n_init=10, n_jobs=None, precompute_distances='auto', random_state=None,\n",
              "       tol=0.0001, verbose=0)"
            ]
          },
          "metadata": {
            "tags": []
          },
          "execution_count": 8
        }
      ]
    },
    {
      "cell_type": "code",
      "metadata": {
        "id": "VcXPl2n4yBto",
        "colab_type": "code",
        "colab": {
          "base_uri": "https://localhost:8080/",
          "height": 68
        },
        "outputId": "70754381-ab72-4d38-9807-09c372d4430b"
      },
      "source": [
        "centroides = kmeans.cluster_centers_\n",
        "centroides"
      ],
      "execution_count": 9,
      "outputs": [
        {
          "output_type": "execute_result",
          "data": {
            "text/plain": [
              "array([[13.73891304,  2.34086957],\n",
              "       [23.8124359 ,  3.52012821],\n",
              "       [38.3725    ,  4.78464286]])"
            ]
          },
          "metadata": {
            "tags": []
          },
          "execution_count": 9
        }
      ]
    },
    {
      "cell_type": "code",
      "metadata": {
        "id": "lKetsH0SyFT_",
        "colab_type": "code",
        "colab": {
          "base_uri": "https://localhost:8080/",
          "height": 221
        },
        "outputId": "d1e58faa-e748-4a5a-dac7-89d5f82df61f"
      },
      "source": [
        "labels = kmeans.labels_\n",
        "labels"
      ],
      "execution_count": 10,
      "outputs": [
        {
          "output_type": "execute_result",
          "data": {
            "text/plain": [
              "array([0, 0, 1, 1, 1, 1, 0, 1, 0, 0, 0, 2, 0, 0, 0, 1, 0, 0, 0, 1, 0, 1,\n",
              "       0, 2, 1, 0, 0, 0, 1, 1, 0, 0, 0, 1, 0, 1, 0, 0, 0, 2, 0, 0, 0, 0,\n",
              "       1, 0, 1, 2, 1, 0, 0, 0, 2, 0, 1, 1, 2, 1, 0, 2, 1, 0, 0, 0, 0, 1,\n",
              "       0, 0, 1, 0, 0, 0, 1, 1, 0, 0, 0, 1, 1, 0, 1, 0, 0, 2, 0, 2, 0, 0,\n",
              "       1, 1, 1, 1, 0, 0, 1, 2, 1, 0, 1, 0, 0, 0, 2, 1, 1, 0, 1, 1, 0, 0,\n",
              "       0, 0, 2, 1, 1, 0, 1, 0, 0, 1, 0, 0, 0, 0, 0, 1, 0, 0, 0, 1, 1, 1,\n",
              "       0, 0, 0, 0, 0, 0, 0, 0, 0, 2, 2, 1, 0, 0, 0, 0, 0, 0, 0, 0, 0, 1,\n",
              "       1, 1, 2, 1, 0, 0, 1, 0, 0, 0, 0, 1, 1, 2, 0, 0, 2, 0, 0, 2, 0, 2,\n",
              "       0, 0, 0, 2, 2, 1, 2, 1, 2, 1, 1, 1, 0, 1, 0, 1, 1, 0, 0, 0, 0, 2,\n",
              "       0, 0, 1, 0, 0, 0, 1, 0, 1, 2, 1, 0, 1, 1, 2, 0, 1, 0, 1, 0, 0, 1,\n",
              "       0, 0, 0, 0, 0, 0, 0, 1, 0, 1, 1, 0, 0, 0, 0, 0, 0, 2, 2, 1, 1, 1,\n",
              "       0, 1], dtype=int32)"
            ]
          },
          "metadata": {
            "tags": []
          },
          "execution_count": 10
        }
      ]
    },
    {
      "cell_type": "code",
      "metadata": {
        "id": "INne_FH4yJv7",
        "colab_type": "code",
        "colab": {
          "base_uri": "https://localhost:8080/",
          "height": 363
        },
        "outputId": "41b7acb6-b93e-4fe0-dc46-df9130a6f310"
      },
      "source": [
        "wcss = []\n",
        " \n",
        "for i in range(1, 5):\n",
        "    kmeans = KMeans(n_clusters = i, init = 'random')\n",
        "    kmeans.fit(x)\n",
        "    print (i),kmeans.inertia_\n",
        "    wcss.append(kmeans.inertia_)  \n",
        "plt.plot(range(1, 5), wcss)\n",
        "plt.title('O Metodo Elbow')\n",
        "plt.xlabel('Numero de Clusters')\n",
        "plt.ylabel('WSS')\n",
        "plt.show()"
      ],
      "execution_count": 17,
      "outputs": [
        {
          "output_type": "stream",
          "text": [
            "1\n",
            "2\n",
            "3\n",
            "4\n"
          ],
          "name": "stdout"
        },
        {
          "output_type": "display_data",
          "data": {
            "image/png": "[encoded data removed]",
            "text/plain": [
              "<Figure size 432x288 with 1 Axes>"
            ]
          },
          "metadata": {
            "tags": []
          }
        }
      ]
    },
    {
      "cell_type": "code",
      "metadata": {
        "id": "81DgeL5DyMSR",
        "colab_type": "code",
        "colab": {
          "base_uri": "https://localhost:8080/",
          "height": 34
        },
        "outputId": "5fd45b6a-207c-4bbb-a665-bdf4b0c7822e"
      },
      "source": [
        "kmeans.predict(centroides)"
      ],
      "execution_count": 18,
      "outputs": [
        {
          "output_type": "execute_result",
          "data": {
            "text/plain": [
              "array([3, 2, 0], dtype=int32)"
            ]
          },
          "metadata": {
            "tags": []
          },
          "execution_count": 18
        }
      ]
    },
    {
      "cell_type": "code",
      "metadata": {
        "id": "3O7roUqvyPox",
        "colab_type": "code",
        "colab": {
          "base_uri": "https://localhost:8080/",
          "height": 295
        },
        "outputId": "e732c80c-47be-4dca-fe33-20481db8c235"
      },
      "source": [
        "plt.scatter(x[:, 0], x[:,1], s = 50, c = kmeans.labels_)\n",
        "plt.scatter(kmeans.cluster_centers_[:, 0], kmeans.cluster_centers_[:, 1], s = 100, c = 'red',label = 'Centroids')\n",
        "plt.title('Tips ans Bills')\n",
        "plt.xlabel('Bills')\n",
        "plt.ylabel('Tips')\n",
        "plt.legend()\n",
        "\n",
        "plt.show()"
      ],
      "execution_count": 20,
      "outputs": [
        {
          "output_type": "display_data",
          "data": {
            "image/png": "[encoded data removed]",
            "text/plain": [
              "<Figure size 432x288 with 1 Axes>"
            ]
          },
          "metadata": {
            "tags": []
          }
        }
      ]
    }
  ]
}