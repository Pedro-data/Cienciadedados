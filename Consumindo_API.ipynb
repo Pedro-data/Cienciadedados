{
  "cells": [
    {
      "cell_type": "markdown",
      "source": [
        "Trabalhando com Databricks no Azure utilizando spark e DBFS"
      ],
      "metadata": {
        "id": "LcmYB_3jynIu"
      }
    },
    {
      "cell_type": "code",
      "source": [
        "import requests\n",
        "import json\n",
        "import pandas as pd"
      ],
      "metadata": {
        "application/vnd.databricks.v1+cell": {
          "title": "",
          "showTitle": false,
          "inputWidgets": {},
          "nuid": "ad96e278-4074-4568-9db0-20c096ea0e8d"
        },
        "id": "QItHNJREyZpy",
        "outputId": "f2a0c242-946f-41df-b0c8-bea268b9c6c1"
      },
      "outputs": [
        {
          "output_type": "display_data",
          "metadata": {
            "application/vnd.databricks.v1+output": {
              "datasetInfos": [],
              "data": "<div class=\"ansiout\"></div>",
              "removedWidgets": [],
              "addedWidgets": {},
              "metadata": {},
              "type": "html",
              "arguments": {}
            }
          },
          "data": {
            "text/html": [
              "<style scoped>\n  .ansiout {\n    display: block;\n    unicode-bidi: embed;\n    white-space: pre-wrap;\n    word-wrap: break-word;\n    word-break: break-all;\n    font-family: \"Source Code Pro\", \"Menlo\", monospace;;\n    font-size: 13px;\n    color: #555;\n    margin-left: 4px;\n    line-height: 19px;\n  }\n</style>\n<div class=\"ansiout\"></div>"
            ]
          },
          "transient": null
        }
      ],
      "execution_count": null
    },
    {
      "cell_type": "code",
      "source": [
        "#Obtendo dados através do get\n",
        "#O método GET é usado para recuperar informações de um determinado servidor usando um determinado URI\n",
        "url = requests.get('https://economia.awesomeapi.com.br/all')"
      ],
      "metadata": {
        "application/vnd.databricks.v1+cell": {
          "title": "",
          "showTitle": false,
          "inputWidgets": {},
          "nuid": "2b6511ec-4906-4cdb-8fb7-8aaecba19277"
        },
        "id": "mYYKAdj-yZp2",
        "outputId": "39541d0f-43ac-43df-fb2a-08d0a91b20e3"
      },
      "outputs": [
        {
          "output_type": "display_data",
          "metadata": {
            "application/vnd.databricks.v1+output": {
              "datasetInfos": [],
              "data": "<div class=\"ansiout\"></div>",
              "removedWidgets": [],
              "addedWidgets": {},
              "metadata": {},
              "type": "html",
              "arguments": {}
            }
          },
          "data": {
            "text/html": [
              "<style scoped>\n  .ansiout {\n    display: block;\n    unicode-bidi: embed;\n    white-space: pre-wrap;\n    word-wrap: break-word;\n    word-break: break-all;\n    font-family: \"Source Code Pro\", \"Menlo\", monospace;;\n    font-size: 13px;\n    color: #555;\n    margin-left: 4px;\n    line-height: 19px;\n  }\n</style>\n<div class=\"ansiout\"></div>"
            ]
          },
          "transient": null
        }
      ],
      "execution_count": null
    },
    {
      "cell_type": "code",
      "source": [
        "cotacao = url.json()\n",
        "cotacao"
      ],
      "metadata": {
        "application/vnd.databricks.v1+cell": {
          "title": "",
          "showTitle": false,
          "inputWidgets": {},
          "nuid": "564d767c-4ac7-4aba-a13d-a133361ec75b"
        },
        "id": "HPM5vsuqyZp3",
        "outputId": "3f026c84-4b78-456b-97c3-338e44bc0c4e"
      },
      "outputs": [
        {
          "output_type": "display_data",
          "metadata": {
            "application/vnd.databricks.v1+output": {
              "datasetInfos": [],
              "data": "<div class=\"ansiout\">Out[11]: {&#39;USD&#39;: {&#39;code&#39;: &#39;USD&#39;,\n  &#39;codein&#39;: &#39;BRL&#39;,\n  &#39;name&#39;: &#39;Dólar Americano/Real Brasileiro&#39;,\n  &#39;high&#39;: &#39;5.5691&#39;,\n  &#39;low&#39;: &#39;5.5691&#39;,\n  &#39;varBid&#39;: &#39;0.0005&#39;,\n  &#39;pctChange&#39;: &#39;0.01&#39;,\n  &#39;bid&#39;: &#39;5.5686&#39;,\n  &#39;ask&#39;: &#39;5.5696&#39;,\n  &#39;timestamp&#39;: &#39;1641936600&#39;,\n  &#39;create_date&#39;: &#39;2022-01-11 18:30:00&#39;},\n &#39;USDT&#39;: {&#39;code&#39;: &#39;USD&#39;,\n  &#39;codein&#39;: &#39;BRLT&#39;,\n  &#39;name&#39;: &#39;Dólar Americano/Real Brasileiro Turismo&#39;,\n  &#39;high&#39;: &#39;5.715&#39;,\n  &#39;low&#39;: &#39;5.715&#39;,\n  &#39;varBid&#39;: &#39;0&#39;,\n  &#39;pctChange&#39;: &#39;0&#39;,\n  &#39;bid&#39;: &#39;5.55&#39;,\n  &#39;ask&#39;: &#39;5.88&#39;,\n  &#39;timestamp&#39;: &#39;1641938401&#39;,\n  &#39;create_date&#39;: &#39;2022-01-11 19:00:01&#39;},\n &#39;CAD&#39;: {&#39;code&#39;: &#39;CAD&#39;,\n  &#39;codein&#39;: &#39;BRL&#39;,\n  &#39;name&#39;: &#39;Dólar Canadense/Real Brasileiro&#39;,\n  &#39;high&#39;: &#39;4.4315&#39;,\n  &#39;low&#39;: &#39;4.4264&#39;,\n  &#39;varBid&#39;: &#39;0.0009&#39;,\n  &#39;pctChange&#39;: &#39;0.02&#39;,\n  &#39;bid&#39;: &#39;4.4287&#39;,\n  &#39;ask&#39;: &#39;4.4298&#39;,\n  &#39;timestamp&#39;: &#39;1641946596&#39;,\n  &#39;create_date&#39;: &#39;2022-01-11 21:16:36&#39;},\n &#39;GBP&#39;: {&#39;code&#39;: &#39;GBP&#39;,\n  &#39;codein&#39;: &#39;BRL&#39;,\n  &#39;name&#39;: &#39;Libra Esterlina/Real Brasileiro&#39;,\n  &#39;high&#39;: &#39;7.5951&#39;,\n  &#39;low&#39;: &#39;7.591&#39;,\n  &#39;varBid&#39;: &#39;0.0026&#39;,\n  &#39;pctChange&#39;: &#39;0.03&#39;,\n  &#39;bid&#39;: &#39;7.5933&#39;,\n  &#39;ask&#39;: &#39;7.5953&#39;,\n  &#39;timestamp&#39;: &#39;1641946608&#39;,\n  &#39;create_date&#39;: &#39;2022-01-11 21:16:48&#39;},\n &#39;ARS&#39;: {&#39;code&#39;: &#39;ARS&#39;,\n  &#39;codein&#39;: &#39;BRL&#39;,\n  &#39;name&#39;: &#39;Peso Argentino/Real Brasileiro&#39;,\n  &#39;high&#39;: &#39;0.0538&#39;,\n  &#39;low&#39;: &#39;0.0538&#39;,\n  &#39;varBid&#39;: &#39;0&#39;,\n  &#39;pctChange&#39;: &#39;0&#39;,\n  &#39;bid&#39;: &#39;0.0538&#39;,\n  &#39;ask&#39;: &#39;0.0538&#39;,\n  &#39;timestamp&#39;: &#39;1641936600&#39;,\n  &#39;create_date&#39;: &#39;2022-01-11 18:30:00&#39;},\n &#39;BTC&#39;: {&#39;code&#39;: &#39;BTC&#39;,\n  &#39;codein&#39;: &#39;BRL&#39;,\n  &#39;name&#39;: &#39;Bitcoin/Real Brasileiro&#39;,\n  &#39;high&#39;: &#39;242.3&#39;,\n  &#39;low&#39;: &#39;235&#39;,\n  &#39;varBid&#39;: &#39;2564&#39;,\n  &#39;pctChange&#39;: &#39;1.07&#39;,\n  &#39;bid&#39;: &#39;241.3&#39;,\n  &#39;ask&#39;: &#39;241.327&#39;,\n  &#39;timestamp&#39;: &#39;1641946606&#39;,\n  &#39;create_date&#39;: &#39;2022-01-11 21:16:46&#39;},\n &#39;LTC&#39;: {&#39;code&#39;: &#39;LTC&#39;,\n  &#39;codein&#39;: &#39;BRL&#39;,\n  &#39;name&#39;: &#39;Litecoin/Real Brasileiro&#39;,\n  &#39;high&#39;: &#39;752.66&#39;,\n  &#39;low&#39;: &#39;719.07&#39;,\n  &#39;varBid&#39;: &#39;17.31&#39;,\n  &#39;pctChange&#39;: &#39;2.39&#39;,\n  &#39;bid&#39;: &#39;741.6&#39;,\n  &#39;ask&#39;: &#39;745.1&#39;,\n  &#39;timestamp&#39;: &#39;1641946608&#39;,\n  &#39;create_date&#39;: &#39;2022-01-11 21:16:48&#39;},\n &#39;EUR&#39;: {&#39;code&#39;: &#39;EUR&#39;,\n  &#39;codein&#39;: &#39;BRL&#39;,\n  &#39;name&#39;: &#39;Euro/Real Brasileiro&#39;,\n  &#39;high&#39;: &#39;6.3337&#39;,\n  &#39;low&#39;: &#39;6.3293&#39;,\n  &#39;varBid&#39;: &#39;0.0034&#39;,\n  &#39;pctChange&#39;: &#39;0.05&#39;,\n  &#39;bid&#39;: &#39;6.3304&#39;,\n  &#39;ask&#39;: &#39;6.3337&#39;,\n  &#39;timestamp&#39;: &#39;1641946604&#39;,\n  &#39;create_date&#39;: &#39;2022-01-11 21:16:44&#39;},\n &#39;JPY&#39;: {&#39;code&#39;: &#39;JPY&#39;,\n  &#39;codein&#39;: &#39;BRL&#39;,\n  &#39;name&#39;: &#39;Iene Japonês/Real Brasileiro&#39;,\n  &#39;high&#39;: &#39;0.04831&#39;,\n  &#39;low&#39;: &#39;0.04827&#39;,\n  &#39;varBid&#39;: &#39;0&#39;,\n  &#39;pctChange&#39;: &#39;0&#39;,\n  &#39;bid&#39;: &#39;0.04828&#39;,\n  &#39;ask&#39;: &#39;0.0483&#39;,\n  &#39;timestamp&#39;: &#39;1641946605&#39;,\n  &#39;create_date&#39;: &#39;2022-01-11 21:16:45&#39;},\n &#39;CHF&#39;: {&#39;code&#39;: &#39;CHF&#39;,\n  &#39;codein&#39;: &#39;BRL&#39;,\n  &#39;name&#39;: &#39;Franco Suíço/Real Brasileiro&#39;,\n  &#39;high&#39;: &#39;6.0327&#39;,\n  &#39;low&#39;: &#39;6.0258&#39;,\n  &#39;varBid&#39;: &#39;0.0025&#39;,\n  &#39;pctChange&#39;: &#39;0.04&#39;,\n  &#39;bid&#39;: &#39;6.0292&#39;,\n  &#39;ask&#39;: &#39;6.0329&#39;,\n  &#39;timestamp&#39;: &#39;1641946604&#39;,\n  &#39;create_date&#39;: &#39;2022-01-11 21:16:44&#39;},\n &#39;AUD&#39;: {&#39;code&#39;: &#39;AUD&#39;,\n  &#39;codein&#39;: &#39;BRL&#39;,\n  &#39;name&#39;: &#39;Dólar Australiano/Real Brasileiro&#39;,\n  &#39;high&#39;: &#39;4.0181&#39;,\n  &#39;low&#39;: &#39;4.0139&#39;,\n  &#39;varBid&#39;: &#39;0.0012&#39;,\n  &#39;pctChange&#39;: &#39;0.03&#39;,\n  &#39;bid&#39;: &#39;4.015&#39;,\n  &#39;ask&#39;: &#39;4.0162&#39;,\n  &#39;timestamp&#39;: &#39;1641946605&#39;,\n  &#39;create_date&#39;: &#39;2022-01-11 21:16:45&#39;},\n &#39;CNY&#39;: {&#39;code&#39;: &#39;CNY&#39;,\n  &#39;codein&#39;: &#39;BRL&#39;,\n  &#39;name&#39;: &#39;Yuan Chinês/Real Brasileiro&#39;,\n  &#39;high&#39;: &#39;0.8737&#39;,\n  &#39;low&#39;: &#39;0.8737&#39;,\n  &#39;varBid&#39;: &#39;-0.0146&#39;,\n  &#39;pctChange&#39;: &#39;-1.64&#39;,\n  &#39;bid&#39;: &#39;0.8736&#39;,\n  &#39;ask&#39;: &#39;0.8738&#39;,\n  &#39;timestamp&#39;: &#39;1641945605&#39;,\n  &#39;create_date&#39;: &#39;2022-01-11 21:00:05&#39;},\n &#39;ILS&#39;: {&#39;code&#39;: &#39;ILS&#39;,\n  &#39;codein&#39;: &#39;BRL&#39;,\n  &#39;name&#39;: &#39;Novo Shekel Israelense/Real Brasileiro&#39;,\n  &#39;high&#39;: &#39;1.7894&#39;,\n  &#39;low&#39;: &#39;1.7894&#39;,\n  &#39;varBid&#39;: &#39;-0.0176&#39;,\n  &#39;pctChange&#39;: &#39;-0.98&#39;,\n  &#39;bid&#39;: &#39;1.7892&#39;,\n  &#39;ask&#39;: &#39;1.7895&#39;,\n  &#39;timestamp&#39;: &#39;1641945608&#39;,\n  &#39;create_date&#39;: &#39;2022-01-11 21:00:08&#39;},\n &#39;ETH&#39;: {&#39;code&#39;: &#39;ETH&#39;,\n  &#39;codein&#39;: &#39;BRL&#39;,\n  &#39;name&#39;: &#39;Ethereum/Real Brasileiro&#39;,\n  &#39;high&#39;: &#39;1200.21&#39;,\n  &#39;low&#39;: &#39;1200.21&#39;,\n  &#39;varBid&#39;: &#39;0&#39;,\n  &#39;pctChange&#39;: &#39;0&#39;,\n  &#39;bid&#39;: &#39;1440.25&#39;,\n  &#39;ask&#39;: &#39;16999.75&#39;,\n  &#39;timestamp&#39;: &#39;1610415652&#39;,\n  &#39;create_date&#39;: &#39;2021-01-11 22:40:52&#39;},\n &#39;XRP&#39;: {&#39;code&#39;: &#39;XRP&#39;,\n  &#39;codein&#39;: &#39;BRL&#39;,\n  &#39;name&#39;: &#39;XRP/Real Brasileiro&#39;,\n  &#39;high&#39;: &#39;4.37&#39;,\n  &#39;low&#39;: &#39;4.15&#39;,\n  &#39;varBid&#39;: &#39;0.16&#39;,\n  &#39;pctChange&#39;: &#39;3.77&#39;,\n  &#39;bid&#39;: &#39;4.37&#39;,\n  &#39;ask&#39;: &#39;4.37&#39;,\n  &#39;timestamp&#39;: &#39;1641946610&#39;,\n  &#39;create_date&#39;: &#39;2022-01-11 21:16:50&#39;},\n &#39;DOGE&#39;: {&#39;code&#39;: &#39;DOGE&#39;,\n  &#39;codein&#39;: &#39;BRL&#39;,\n  &#39;name&#39;: &#39;Dogecoin/Real Brasileiro&#39;,\n  &#39;high&#39;: &#39;0.912657&#39;,\n  &#39;low&#39;: &#39;0.807964&#39;,\n  &#39;varBid&#39;: &#39;0.04886298&#39;,\n  &#39;pctChange&#39;: &#39;6.01&#39;,\n  &#39;bid&#39;: &#39;0.861894&#39;,\n  &#39;ask&#39;: &#39;0.861894&#39;,\n  &#39;timestamp&#39;: &#39;1641946445&#39;,\n  &#39;create_date&#39;: &#39;2022-01-11 21:14:05&#39;}}</div>",
              "removedWidgets": [],
              "addedWidgets": {},
              "metadata": {},
              "type": "html",
              "arguments": {}
            }
          },
          "data": {
            "text/html": [
              "<style scoped>\n  .ansiout {\n    display: block;\n    unicode-bidi: embed;\n    white-space: pre-wrap;\n    word-wrap: break-word;\n    word-break: break-all;\n    font-family: \"Source Code Pro\", \"Menlo\", monospace;;\n    font-size: 13px;\n    color: #555;\n    margin-left: 4px;\n    line-height: 19px;\n  }\n</style>\n<div class=\"ansiout\">Out[11]: {&#39;USD&#39;: {&#39;code&#39;: &#39;USD&#39;,\n  &#39;codein&#39;: &#39;BRL&#39;,\n  &#39;name&#39;: &#39;Dólar Americano/Real Brasileiro&#39;,\n  &#39;high&#39;: &#39;5.5691&#39;,\n  &#39;low&#39;: &#39;5.5691&#39;,\n  &#39;varBid&#39;: &#39;0.0005&#39;,\n  &#39;pctChange&#39;: &#39;0.01&#39;,\n  &#39;bid&#39;: &#39;5.5686&#39;,\n  &#39;ask&#39;: &#39;5.5696&#39;,\n  &#39;timestamp&#39;: &#39;1641936600&#39;,\n  &#39;create_date&#39;: &#39;2022-01-11 18:30:00&#39;},\n &#39;USDT&#39;: {&#39;code&#39;: &#39;USD&#39;,\n  &#39;codein&#39;: &#39;BRLT&#39;,\n  &#39;name&#39;: &#39;Dólar Americano/Real Brasileiro Turismo&#39;,\n  &#39;high&#39;: &#39;5.715&#39;,\n  &#39;low&#39;: &#39;5.715&#39;,\n  &#39;varBid&#39;: &#39;0&#39;,\n  &#39;pctChange&#39;: &#39;0&#39;,\n  &#39;bid&#39;: &#39;5.55&#39;,\n  &#39;ask&#39;: &#39;5.88&#39;,\n  &#39;timestamp&#39;: &#39;1641938401&#39;,\n  &#39;create_date&#39;: &#39;2022-01-11 19:00:01&#39;},\n &#39;CAD&#39;: {&#39;code&#39;: &#39;CAD&#39;,\n  &#39;codein&#39;: &#39;BRL&#39;,\n  &#39;name&#39;: &#39;Dólar Canadense/Real Brasileiro&#39;,\n  &#39;high&#39;: &#39;4.4315&#39;,\n  &#39;low&#39;: &#39;4.4264&#39;,\n  &#39;varBid&#39;: &#39;0.0009&#39;,\n  &#39;pctChange&#39;: &#39;0.02&#39;,\n  &#39;bid&#39;: &#39;4.4287&#39;,\n  &#39;ask&#39;: &#39;4.4298&#39;,\n  &#39;timestamp&#39;: &#39;1641946596&#39;,\n  &#39;create_date&#39;: &#39;2022-01-11 21:16:36&#39;},\n &#39;GBP&#39;: {&#39;code&#39;: &#39;GBP&#39;,\n  &#39;codein&#39;: &#39;BRL&#39;,\n  &#39;name&#39;: &#39;Libra Esterlina/Real Brasileiro&#39;,\n  &#39;high&#39;: &#39;7.5951&#39;,\n  &#39;low&#39;: &#39;7.591&#39;,\n  &#39;varBid&#39;: &#39;0.0026&#39;,\n  &#39;pctChange&#39;: &#39;0.03&#39;,\n  &#39;bid&#39;: &#39;7.5933&#39;,\n  &#39;ask&#39;: &#39;7.5953&#39;,\n  &#39;timestamp&#39;: &#39;1641946608&#39;,\n  &#39;create_date&#39;: &#39;2022-01-11 21:16:48&#39;},\n &#39;ARS&#39;: {&#39;code&#39;: &#39;ARS&#39;,\n  &#39;codein&#39;: &#39;BRL&#39;,\n  &#39;name&#39;: &#39;Peso Argentino/Real Brasileiro&#39;,\n  &#39;high&#39;: &#39;0.0538&#39;,\n  &#39;low&#39;: &#39;0.0538&#39;,\n  &#39;varBid&#39;: &#39;0&#39;,\n  &#39;pctChange&#39;: &#39;0&#39;,\n  &#39;bid&#39;: &#39;0.0538&#39;,\n  &#39;ask&#39;: &#39;0.0538&#39;,\n  &#39;timestamp&#39;: &#39;1641936600&#39;,\n  &#39;create_date&#39;: &#39;2022-01-11 18:30:00&#39;},\n &#39;BTC&#39;: {&#39;code&#39;: &#39;BTC&#39;,\n  &#39;codein&#39;: &#39;BRL&#39;,\n  &#39;name&#39;: &#39;Bitcoin/Real Brasileiro&#39;,\n  &#39;high&#39;: &#39;242.3&#39;,\n  &#39;low&#39;: &#39;235&#39;,\n  &#39;varBid&#39;: &#39;2564&#39;,\n  &#39;pctChange&#39;: &#39;1.07&#39;,\n  &#39;bid&#39;: &#39;241.3&#39;,\n  &#39;ask&#39;: &#39;241.327&#39;,\n  &#39;timestamp&#39;: &#39;1641946606&#39;,\n  &#39;create_date&#39;: &#39;2022-01-11 21:16:46&#39;},\n &#39;LTC&#39;: {&#39;code&#39;: &#39;LTC&#39;,\n  &#39;codein&#39;: &#39;BRL&#39;,\n  &#39;name&#39;: &#39;Litecoin/Real Brasileiro&#39;,\n  &#39;high&#39;: &#39;752.66&#39;,\n  &#39;low&#39;: &#39;719.07&#39;,\n  &#39;varBid&#39;: &#39;17.31&#39;,\n  &#39;pctChange&#39;: &#39;2.39&#39;,\n  &#39;bid&#39;: &#39;741.6&#39;,\n  &#39;ask&#39;: &#39;745.1&#39;,\n  &#39;timestamp&#39;: &#39;1641946608&#39;,\n  &#39;create_date&#39;: &#39;2022-01-11 21:16:48&#39;},\n &#39;EUR&#39;: {&#39;code&#39;: &#39;EUR&#39;,\n  &#39;codein&#39;: &#39;BRL&#39;,\n  &#39;name&#39;: &#39;Euro/Real Brasileiro&#39;,\n  &#39;high&#39;: &#39;6.3337&#39;,\n  &#39;low&#39;: &#39;6.3293&#39;,\n  &#39;varBid&#39;: &#39;0.0034&#39;,\n  &#39;pctChange&#39;: &#39;0.05&#39;,\n  &#39;bid&#39;: &#39;6.3304&#39;,\n  &#39;ask&#39;: &#39;6.3337&#39;,\n  &#39;timestamp&#39;: &#39;1641946604&#39;,\n  &#39;create_date&#39;: &#39;2022-01-11 21:16:44&#39;},\n &#39;JPY&#39;: {&#39;code&#39;: &#39;JPY&#39;,\n  &#39;codein&#39;: &#39;BRL&#39;,\n  &#39;name&#39;: &#39;Iene Japonês/Real Brasileiro&#39;,\n  &#39;high&#39;: &#39;0.04831&#39;,\n  &#39;low&#39;: &#39;0.04827&#39;,\n  &#39;varBid&#39;: &#39;0&#39;,\n  &#39;pctChange&#39;: &#39;0&#39;,\n  &#39;bid&#39;: &#39;0.04828&#39;,\n  &#39;ask&#39;: &#39;0.0483&#39;,\n  &#39;timestamp&#39;: &#39;1641946605&#39;,\n  &#39;create_date&#39;: &#39;2022-01-11 21:16:45&#39;},\n &#39;CHF&#39;: {&#39;code&#39;: &#39;CHF&#39;,\n  &#39;codein&#39;: &#39;BRL&#39;,\n  &#39;name&#39;: &#39;Franco Suíço/Real Brasileiro&#39;,\n  &#39;high&#39;: &#39;6.0327&#39;,\n  &#39;low&#39;: &#39;6.0258&#39;,\n  &#39;varBid&#39;: &#39;0.0025&#39;,\n  &#39;pctChange&#39;: &#39;0.04&#39;,\n  &#39;bid&#39;: &#39;6.0292&#39;,\n  &#39;ask&#39;: &#39;6.0329&#39;,\n  &#39;timestamp&#39;: &#39;1641946604&#39;,\n  &#39;create_date&#39;: &#39;2022-01-11 21:16:44&#39;},\n &#39;AUD&#39;: {&#39;code&#39;: &#39;AUD&#39;,\n  &#39;codein&#39;: &#39;BRL&#39;,\n  &#39;name&#39;: &#39;Dólar Australiano/Real Brasileiro&#39;,\n  &#39;high&#39;: &#39;4.0181&#39;,\n  &#39;low&#39;: &#39;4.0139&#39;,\n  &#39;varBid&#39;: &#39;0.0012&#39;,\n  &#39;pctChange&#39;: &#39;0.03&#39;,\n  &#39;bid&#39;: &#39;4.015&#39;,\n  &#39;ask&#39;: &#39;4.0162&#39;,\n  &#39;timestamp&#39;: &#39;1641946605&#39;,\n  &#39;create_date&#39;: &#39;2022-01-11 21:16:45&#39;},\n &#39;CNY&#39;: {&#39;code&#39;: &#39;CNY&#39;,\n  &#39;codein&#39;: &#39;BRL&#39;,\n  &#39;name&#39;: &#39;Yuan Chinês/Real Brasileiro&#39;,\n  &#39;high&#39;: &#39;0.8737&#39;,\n  &#39;low&#39;: &#39;0.8737&#39;,\n  &#39;varBid&#39;: &#39;-0.0146&#39;,\n  &#39;pctChange&#39;: &#39;-1.64&#39;,\n  &#39;bid&#39;: &#39;0.8736&#39;,\n  &#39;ask&#39;: &#39;0.8738&#39;,\n  &#39;timestamp&#39;: &#39;1641945605&#39;,\n  &#39;create_date&#39;: &#39;2022-01-11 21:00:05&#39;},\n &#39;ILS&#39;: {&#39;code&#39;: &#39;ILS&#39;,\n  &#39;codein&#39;: &#39;BRL&#39;,\n  &#39;name&#39;: &#39;Novo Shekel Israelense/Real Brasileiro&#39;,\n  &#39;high&#39;: &#39;1.7894&#39;,\n  &#39;low&#39;: &#39;1.7894&#39;,\n  &#39;varBid&#39;: &#39;-0.0176&#39;,\n  &#39;pctChange&#39;: &#39;-0.98&#39;,\n  &#39;bid&#39;: &#39;1.7892&#39;,\n  &#39;ask&#39;: &#39;1.7895&#39;,\n  &#39;timestamp&#39;: &#39;1641945608&#39;,\n  &#39;create_date&#39;: &#39;2022-01-11 21:00:08&#39;},\n &#39;ETH&#39;: {&#39;code&#39;: &#39;ETH&#39;,\n  &#39;codein&#39;: &#39;BRL&#39;,\n  &#39;name&#39;: &#39;Ethereum/Real Brasileiro&#39;,\n  &#39;high&#39;: &#39;1200.21&#39;,\n  &#39;low&#39;: &#39;1200.21&#39;,\n  &#39;varBid&#39;: &#39;0&#39;,\n  &#39;pctChange&#39;: &#39;0&#39;,\n  &#39;bid&#39;: &#39;1440.25&#39;,\n  &#39;ask&#39;: &#39;16999.75&#39;,\n  &#39;timestamp&#39;: &#39;1610415652&#39;,\n  &#39;create_date&#39;: &#39;2021-01-11 22:40:52&#39;},\n &#39;XRP&#39;: {&#39;code&#39;: &#39;XRP&#39;,\n  &#39;codein&#39;: &#39;BRL&#39;,\n  &#39;name&#39;: &#39;XRP/Real Brasileiro&#39;,\n  &#39;high&#39;: &#39;4.37&#39;,\n  &#39;low&#39;: &#39;4.15&#39;,\n  &#39;varBid&#39;: &#39;0.16&#39;,\n  &#39;pctChange&#39;: &#39;3.77&#39;,\n  &#39;bid&#39;: &#39;4.37&#39;,\n  &#39;ask&#39;: &#39;4.37&#39;,\n  &#39;timestamp&#39;: &#39;1641946610&#39;,\n  &#39;create_date&#39;: &#39;2022-01-11 21:16:50&#39;},\n &#39;DOGE&#39;: {&#39;code&#39;: &#39;DOGE&#39;,\n  &#39;codein&#39;: &#39;BRL&#39;,\n  &#39;name&#39;: &#39;Dogecoin/Real Brasileiro&#39;,\n  &#39;high&#39;: &#39;0.912657&#39;,\n  &#39;low&#39;: &#39;0.807964&#39;,\n  &#39;varBid&#39;: &#39;0.04886298&#39;,\n  &#39;pctChange&#39;: &#39;6.01&#39;,\n  &#39;bid&#39;: &#39;0.861894&#39;,\n  &#39;ask&#39;: &#39;0.861894&#39;,\n  &#39;timestamp&#39;: &#39;1641946445&#39;,\n  &#39;create_date&#39;: &#39;2022-01-11 21:14:05&#39;}}</div>"
            ]
          },
          "transient": null
        }
      ],
      "execution_count": null
    },
    {
      "cell_type": "code",
      "source": [
        "df = pd.DataFrame(data=cotacao).T\n",
        "df"
      ],
      "metadata": {
        "application/vnd.databricks.v1+cell": {
          "title": "",
          "showTitle": false,
          "inputWidgets": {},
          "nuid": "bf2d145a-6813-43bb-9809-80b4c76ca0ef"
        },
        "id": "68f3poSEyZp3",
        "outputId": "c7cc0e2a-f7b8-45b0-9753-a7d506516e2f"
      },
      "outputs": [
        {
          "output_type": "display_data",
          "metadata": {
            "application/vnd.databricks.v1+output": {
              "datasetInfos": [],
              "data": "<div class=\"ansiout\">Out[12]: </div>",
              "removedWidgets": [],
              "addedWidgets": {},
              "metadata": {},
              "type": "html",
              "arguments": {}
            }
          },
          "data": {
            "text/html": [
              "<style scoped>\n  .ansiout {\n    display: block;\n    unicode-bidi: embed;\n    white-space: pre-wrap;\n    word-wrap: break-word;\n    word-break: break-all;\n    font-family: \"Source Code Pro\", \"Menlo\", monospace;;\n    font-size: 13px;\n    color: #555;\n    margin-left: 4px;\n    line-height: 19px;\n  }\n</style>\n<div class=\"ansiout\">Out[12]: </div>"
            ]
          },
          "transient": null
        },
        {
          "output_type": "display_data",
          "metadata": {
            "application/vnd.databricks.v1+output": {
              "datasetInfos": [],
              "data": "<div>\n<style scoped>\n    .dataframe tbody tr th:only-of-type {\n        vertical-align: middle;\n    }\n\n    .dataframe tbody tr th {\n        vertical-align: top;\n    }\n\n    .dataframe thead th {\n        text-align: right;\n    }\n</style>\n<table border=\"1\" class=\"dataframe\">\n  <thead>\n    <tr style=\"text-align: right;\">\n      <th></th>\n      <th>code</th>\n      <th>codein</th>\n      <th>name</th>\n      <th>high</th>\n      <th>low</th>\n      <th>varBid</th>\n      <th>pctChange</th>\n      <th>bid</th>\n      <th>ask</th>\n      <th>timestamp</th>\n      <th>create_date</th>\n    </tr>\n  </thead>\n  <tbody>\n    <tr>\n      <th>USD</th>\n      <td>USD</td>\n      <td>BRL</td>\n      <td>Dólar Americano/Real Brasileiro</td>\n      <td>5.5691</td>\n      <td>5.5691</td>\n      <td>0.0005</td>\n      <td>0.01</td>\n      <td>5.5686</td>\n      <td>5.5696</td>\n      <td>1641936600</td>\n      <td>2022-01-11 18:30:00</td>\n    </tr>\n    <tr>\n      <th>USDT</th>\n      <td>USD</td>\n      <td>BRLT</td>\n      <td>Dólar Americano/Real Brasileiro Turismo</td>\n      <td>5.715</td>\n      <td>5.715</td>\n      <td>0</td>\n      <td>0</td>\n      <td>5.55</td>\n      <td>5.88</td>\n      <td>1641938401</td>\n      <td>2022-01-11 19:00:01</td>\n    </tr>\n    <tr>\n      <th>CAD</th>\n      <td>CAD</td>\n      <td>BRL</td>\n      <td>Dólar Canadense/Real Brasileiro</td>\n      <td>4.4315</td>\n      <td>4.4264</td>\n      <td>0.0009</td>\n      <td>0.02</td>\n      <td>4.4287</td>\n      <td>4.4298</td>\n      <td>1641946596</td>\n      <td>2022-01-11 21:16:36</td>\n    </tr>\n    <tr>\n      <th>GBP</th>\n      <td>GBP</td>\n      <td>BRL</td>\n      <td>Libra Esterlina/Real Brasileiro</td>\n      <td>7.5951</td>\n      <td>7.591</td>\n      <td>0.0026</td>\n      <td>0.03</td>\n      <td>7.5933</td>\n      <td>7.5953</td>\n      <td>1641946608</td>\n      <td>2022-01-11 21:16:48</td>\n    </tr>\n    <tr>\n      <th>ARS</th>\n      <td>ARS</td>\n      <td>BRL</td>\n      <td>Peso Argentino/Real Brasileiro</td>\n      <td>0.0538</td>\n      <td>0.0538</td>\n      <td>0</td>\n      <td>0</td>\n      <td>0.0538</td>\n      <td>0.0538</td>\n      <td>1641936600</td>\n      <td>2022-01-11 18:30:00</td>\n    </tr>\n    <tr>\n      <th>BTC</th>\n      <td>BTC</td>\n      <td>BRL</td>\n      <td>Bitcoin/Real Brasileiro</td>\n      <td>242.3</td>\n      <td>235</td>\n      <td>2564</td>\n      <td>1.07</td>\n      <td>241.3</td>\n      <td>241.327</td>\n      <td>1641946606</td>\n      <td>2022-01-11 21:16:46</td>\n    </tr>\n    <tr>\n      <th>LTC</th>\n      <td>LTC</td>\n      <td>BRL</td>\n      <td>Litecoin/Real Brasileiro</td>\n      <td>752.66</td>\n      <td>719.07</td>\n      <td>17.31</td>\n      <td>2.39</td>\n      <td>741.6</td>\n      <td>745.1</td>\n      <td>1641946608</td>\n      <td>2022-01-11 21:16:48</td>\n    </tr>\n    <tr>\n      <th>EUR</th>\n      <td>EUR</td>\n      <td>BRL</td>\n      <td>Euro/Real Brasileiro</td>\n      <td>6.3337</td>\n      <td>6.3293</td>\n      <td>0.0034</td>\n      <td>0.05</td>\n      <td>6.3304</td>\n      <td>6.3337</td>\n      <td>1641946604</td>\n      <td>2022-01-11 21:16:44</td>\n    </tr>\n    <tr>\n      <th>JPY</th>\n      <td>JPY</td>\n      <td>BRL</td>\n      <td>Iene Japonês/Real Brasileiro</td>\n      <td>0.04831</td>\n      <td>0.04827</td>\n      <td>0</td>\n      <td>0</td>\n      <td>0.04828</td>\n      <td>0.0483</td>\n      <td>1641946605</td>\n      <td>2022-01-11 21:16:45</td>\n    </tr>\n    <tr>\n      <th>CHF</th>\n      <td>CHF</td>\n      <td>BRL</td>\n      <td>Franco Suíço/Real Brasileiro</td>\n      <td>6.0327</td>\n      <td>6.0258</td>\n      <td>0.0025</td>\n      <td>0.04</td>\n      <td>6.0292</td>\n      <td>6.0329</td>\n      <td>1641946604</td>\n      <td>2022-01-11 21:16:44</td>\n    </tr>\n    <tr>\n      <th>AUD</th>\n      <td>AUD</td>\n      <td>BRL</td>\n      <td>Dólar Australiano/Real Brasileiro</td>\n      <td>4.0181</td>\n      <td>4.0139</td>\n      <td>0.0012</td>\n      <td>0.03</td>\n      <td>4.015</td>\n      <td>4.0162</td>\n      <td>1641946605</td>\n      <td>2022-01-11 21:16:45</td>\n    </tr>\n    <tr>\n      <th>CNY</th>\n      <td>CNY</td>\n      <td>BRL</td>\n      <td>Yuan Chinês/Real Brasileiro</td>\n      <td>0.8737</td>\n      <td>0.8737</td>\n      <td>-0.0146</td>\n      <td>-1.64</td>\n      <td>0.8736</td>\n      <td>0.8738</td>\n      <td>1641945605</td>\n      <td>2022-01-11 21:00:05</td>\n    </tr>\n    <tr>\n      <th>ILS</th>\n      <td>ILS</td>\n      <td>BRL</td>\n      <td>Novo Shekel Israelense/Real Brasileiro</td>\n      <td>1.7894</td>\n      <td>1.7894</td>\n      <td>-0.0176</td>\n      <td>-0.98</td>\n      <td>1.7892</td>\n      <td>1.7895</td>\n      <td>1641945608</td>\n      <td>2022-01-11 21:00:08</td>\n    </tr>\n    <tr>\n      <th>ETH</th>\n      <td>ETH</td>\n      <td>BRL</td>\n      <td>Ethereum/Real Brasileiro</td>\n      <td>1200.21</td>\n      <td>1200.21</td>\n      <td>0</td>\n      <td>0</td>\n      <td>1440.25</td>\n      <td>16999.75</td>\n      <td>1610415652</td>\n      <td>2021-01-11 22:40:52</td>\n    </tr>\n    <tr>\n      <th>XRP</th>\n      <td>XRP</td>\n      <td>BRL</td>\n      <td>XRP/Real Brasileiro</td>\n      <td>4.37</td>\n      <td>4.15</td>\n      <td>0.16</td>\n      <td>3.77</td>\n      <td>4.37</td>\n      <td>4.37</td>\n      <td>1641946610</td>\n      <td>2022-01-11 21:16:50</td>\n    </tr>\n    <tr>\n      <th>DOGE</th>\n      <td>DOGE</td>\n      <td>BRL</td>\n      <td>Dogecoin/Real Brasileiro</td>\n      <td>0.912657</td>\n      <td>0.807964</td>\n      <td>0.04886298</td>\n      <td>6.01</td>\n      <td>0.861894</td>\n      <td>0.861894</td>\n      <td>1641946445</td>\n      <td>2022-01-11 21:14:05</td>\n    </tr>\n  </tbody>\n</table>\n</div>",
              "textData": null,
              "removedWidgets": [],
              "addedWidgets": {},
              "metadata": {},
              "type": "htmlSandbox",
              "arguments": {}
            }
          },
          "data": {
            "text/html": [
              "<div>\n<style scoped>\n    .dataframe tbody tr th:only-of-type {\n        vertical-align: middle;\n    }\n\n    .dataframe tbody tr th {\n        vertical-align: top;\n    }\n\n    .dataframe thead th {\n        text-align: right;\n    }\n</style>\n<table border=\"1\" class=\"dataframe\">\n  <thead>\n    <tr style=\"text-align: right;\">\n      <th></th>\n      <th>code</th>\n      <th>codein</th>\n      <th>name</th>\n      <th>high</th>\n      <th>low</th>\n      <th>varBid</th>\n      <th>pctChange</th>\n      <th>bid</th>\n      <th>ask</th>\n      <th>timestamp</th>\n      <th>create_date</th>\n    </tr>\n  </thead>\n  <tbody>\n    <tr>\n      <th>USD</th>\n      <td>USD</td>\n      <td>BRL</td>\n      <td>Dólar Americano/Real Brasileiro</td>\n      <td>5.5691</td>\n      <td>5.5691</td>\n      <td>0.0005</td>\n      <td>0.01</td>\n      <td>5.5686</td>\n      <td>5.5696</td>\n      <td>1641936600</td>\n      <td>2022-01-11 18:30:00</td>\n    </tr>\n    <tr>\n      <th>USDT</th>\n      <td>USD</td>\n      <td>BRLT</td>\n      <td>Dólar Americano/Real Brasileiro Turismo</td>\n      <td>5.715</td>\n      <td>5.715</td>\n      <td>0</td>\n      <td>0</td>\n      <td>5.55</td>\n      <td>5.88</td>\n      <td>1641938401</td>\n      <td>2022-01-11 19:00:01</td>\n    </tr>\n    <tr>\n      <th>CAD</th>\n      <td>CAD</td>\n      <td>BRL</td>\n      <td>Dólar Canadense/Real Brasileiro</td>\n      <td>4.4315</td>\n      <td>4.4264</td>\n      <td>0.0009</td>\n      <td>0.02</td>\n      <td>4.4287</td>\n      <td>4.4298</td>\n      <td>1641946596</td>\n      <td>2022-01-11 21:16:36</td>\n    </tr>\n    <tr>\n      <th>GBP</th>\n      <td>GBP</td>\n      <td>BRL</td>\n      <td>Libra Esterlina/Real Brasileiro</td>\n      <td>7.5951</td>\n      <td>7.591</td>\n      <td>0.0026</td>\n      <td>0.03</td>\n      <td>7.5933</td>\n      <td>7.5953</td>\n      <td>1641946608</td>\n      <td>2022-01-11 21:16:48</td>\n    </tr>\n    <tr>\n      <th>ARS</th>\n      <td>ARS</td>\n      <td>BRL</td>\n      <td>Peso Argentino/Real Brasileiro</td>\n      <td>0.0538</td>\n      <td>0.0538</td>\n      <td>0</td>\n      <td>0</td>\n      <td>0.0538</td>\n      <td>0.0538</td>\n      <td>1641936600</td>\n      <td>2022-01-11 18:30:00</td>\n    </tr>\n    <tr>\n      <th>BTC</th>\n      <td>BTC</td>\n      <td>BRL</td>\n      <td>Bitcoin/Real Brasileiro</td>\n      <td>242.3</td>\n      <td>235</td>\n      <td>2564</td>\n      <td>1.07</td>\n      <td>241.3</td>\n      <td>241.327</td>\n      <td>1641946606</td>\n      <td>2022-01-11 21:16:46</td>\n    </tr>\n    <tr>\n      <th>LTC</th>\n      <td>LTC</td>\n      <td>BRL</td>\n      <td>Litecoin/Real Brasileiro</td>\n      <td>752.66</td>\n      <td>719.07</td>\n      <td>17.31</td>\n      <td>2.39</td>\n      <td>741.6</td>\n      <td>745.1</td>\n      <td>1641946608</td>\n      <td>2022-01-11 21:16:48</td>\n    </tr>\n    <tr>\n      <th>EUR</th>\n      <td>EUR</td>\n      <td>BRL</td>\n      <td>Euro/Real Brasileiro</td>\n      <td>6.3337</td>\n      <td>6.3293</td>\n      <td>0.0034</td>\n      <td>0.05</td>\n      <td>6.3304</td>\n      <td>6.3337</td>\n      <td>1641946604</td>\n      <td>2022-01-11 21:16:44</td>\n    </tr>\n    <tr>\n      <th>JPY</th>\n      <td>JPY</td>\n      <td>BRL</td>\n      <td>Iene Japonês/Real Brasileiro</td>\n      <td>0.04831</td>\n      <td>0.04827</td>\n      <td>0</td>\n      <td>0</td>\n      <td>0.04828</td>\n      <td>0.0483</td>\n      <td>1641946605</td>\n      <td>2022-01-11 21:16:45</td>\n    </tr>\n    <tr>\n      <th>CHF</th>\n      <td>CHF</td>\n      <td>BRL</td>\n      <td>Franco Suíço/Real Brasileiro</td>\n      <td>6.0327</td>\n      <td>6.0258</td>\n      <td>0.0025</td>\n      <td>0.04</td>\n      <td>6.0292</td>\n      <td>6.0329</td>\n      <td>1641946604</td>\n      <td>2022-01-11 21:16:44</td>\n    </tr>\n    <tr>\n      <th>AUD</th>\n      <td>AUD</td>\n      <td>BRL</td>\n      <td>Dólar Australiano/Real Brasileiro</td>\n      <td>4.0181</td>\n      <td>4.0139</td>\n      <td>0.0012</td>\n      <td>0.03</td>\n      <td>4.015</td>\n      <td>4.0162</td>\n      <td>1641946605</td>\n      <td>2022-01-11 21:16:45</td>\n    </tr>\n    <tr>\n      <th>CNY</th>\n      <td>CNY</td>\n      <td>BRL</td>\n      <td>Yuan Chinês/Real Brasileiro</td>\n      <td>0.8737</td>\n      <td>0.8737</td>\n      <td>-0.0146</td>\n      <td>-1.64</td>\n      <td>0.8736</td>\n      <td>0.8738</td>\n      <td>1641945605</td>\n      <td>2022-01-11 21:00:05</td>\n    </tr>\n    <tr>\n      <th>ILS</th>\n      <td>ILS</td>\n      <td>BRL</td>\n      <td>Novo Shekel Israelense/Real Brasileiro</td>\n      <td>1.7894</td>\n      <td>1.7894</td>\n      <td>-0.0176</td>\n      <td>-0.98</td>\n      <td>1.7892</td>\n      <td>1.7895</td>\n      <td>1641945608</td>\n      <td>2022-01-11 21:00:08</td>\n    </tr>\n    <tr>\n      <th>ETH</th>\n      <td>ETH</td>\n      <td>BRL</td>\n      <td>Ethereum/Real Brasileiro</td>\n      <td>1200.21</td>\n      <td>1200.21</td>\n      <td>0</td>\n      <td>0</td>\n      <td>1440.25</td>\n      <td>16999.75</td>\n      <td>1610415652</td>\n      <td>2021-01-11 22:40:52</td>\n    </tr>\n    <tr>\n      <th>XRP</th>\n      <td>XRP</td>\n      <td>BRL</td>\n      <td>XRP/Real Brasileiro</td>\n      <td>4.37</td>\n      <td>4.15</td>\n      <td>0.16</td>\n      <td>3.77</td>\n      <td>4.37</td>\n      <td>4.37</td>\n      <td>1641946610</td>\n      <td>2022-01-11 21:16:50</td>\n    </tr>\n    <tr>\n      <th>DOGE</th>\n      <td>DOGE</td>\n      <td>BRL</td>\n      <td>Dogecoin/Real Brasileiro</td>\n      <td>0.912657</td>\n      <td>0.807964</td>\n      <td>0.04886298</td>\n      <td>6.01</td>\n      <td>0.861894</td>\n      <td>0.861894</td>\n      <td>1641946445</td>\n      <td>2022-01-11 21:14:05</td>\n    </tr>\n  </tbody>\n</table>\n</div>"
            ]
          },
          "transient": null
        }
      ],
      "execution_count": null
    },
    {
      "cell_type": "code",
      "source": [
        "#Criando um Dataframe spark\n",
        "df_spark = spark.createDataFrame(df)"
      ],
      "metadata": {
        "application/vnd.databricks.v1+cell": {
          "title": "",
          "showTitle": false,
          "inputWidgets": {},
          "nuid": "f8271350-3f0a-4a52-af49-354067a92552"
        },
        "id": "pNfGknNtyZp4",
        "outputId": "362edc19-8d92-4f65-c4ed-f32cc7d891eb"
      },
      "outputs": [
        {
          "output_type": "display_data",
          "metadata": {
            "application/vnd.databricks.v1+output": {
              "datasetInfos": [],
              "data": "<div class=\"ansiout\"></div>",
              "removedWidgets": [],
              "addedWidgets": {},
              "metadata": {},
              "type": "html",
              "arguments": {}
            }
          },
          "data": {
            "text/html": [
              "<style scoped>\n  .ansiout {\n    display: block;\n    unicode-bidi: embed;\n    white-space: pre-wrap;\n    word-wrap: break-word;\n    word-break: break-all;\n    font-family: \"Source Code Pro\", \"Menlo\", monospace;;\n    font-size: 13px;\n    color: #555;\n    margin-left: 4px;\n    line-height: 19px;\n  }\n</style>\n<div class=\"ansiout\"></div>"
            ]
          },
          "transient": null
        }
      ],
      "execution_count": null
    },
    {
      "cell_type": "code",
      "source": [
        "#Exibindo dados com \"show()\"\n",
        "df_spark.show()"
      ],
      "metadata": {
        "application/vnd.databricks.v1+cell": {
          "title": "",
          "showTitle": false,
          "inputWidgets": {},
          "nuid": "4b4e6602-9578-4ada-a4ca-2aa8e8436901"
        },
        "id": "tMTH97UdyZp4",
        "outputId": "3356d894-446b-4036-997f-32c7db03aed5"
      },
      "outputs": [
        {
          "output_type": "display_data",
          "metadata": {
            "application/vnd.databricks.v1+output": {
              "datasetInfos": [],
              "data": "<div class=\"ansiout\">+----+------+--------------------+--------+--------+----------+---------+--------+--------+----------+-------------------+\n|code|codein|                name|    high|     low|    varBid|pctChange|     bid|     ask| timestamp|        create_date|\n+----+------+--------------------+--------+--------+----------+---------+--------+--------+----------+-------------------+\n| USD|   BRL|Dólar Americano/R...|  5.5691|  5.5691|    0.0005|     0.01|  5.5686|  5.5696|1641936600|2022-01-11 18:30:00|\n| USD|  BRLT|Dólar Americano/R...|   5.715|   5.715|         0|        0|    5.55|    5.88|1641938401|2022-01-11 19:00:01|\n| CAD|   BRL|Dólar Canadense/R...|  4.4315|  4.4264|    0.0009|     0.02|  4.4287|  4.4298|1641946596|2022-01-11 21:16:36|\n| GBP|   BRL|Libra Esterlina/R...|  7.5951|   7.591|    0.0026|     0.03|  7.5933|  7.5953|1641946608|2022-01-11 21:16:48|\n| ARS|   BRL|Peso Argentino/Re...|  0.0538|  0.0538|         0|        0|  0.0538|  0.0538|1641936600|2022-01-11 18:30:00|\n| BTC|   BRL|Bitcoin/Real Bras...|   242.3|     235|      2564|     1.07|   241.3| 241.327|1641946606|2022-01-11 21:16:46|\n| LTC|   BRL|Litecoin/Real Bra...|  752.66|  719.07|     17.31|     2.39|   741.6|   745.1|1641946608|2022-01-11 21:16:48|\n| EUR|   BRL|Euro/Real Brasileiro|  6.3337|  6.3293|    0.0034|     0.05|  6.3304|  6.3337|1641946604|2022-01-11 21:16:44|\n| JPY|   BRL|Iene Japonês/Real...| 0.04831| 0.04827|         0|        0| 0.04828|  0.0483|1641946605|2022-01-11 21:16:45|\n| CHF|   BRL|Franco Suíço/Real...|  6.0327|  6.0258|    0.0025|     0.04|  6.0292|  6.0329|1641946604|2022-01-11 21:16:44|\n| AUD|   BRL|Dólar Australiano...|  4.0181|  4.0139|    0.0012|     0.03|   4.015|  4.0162|1641946605|2022-01-11 21:16:45|\n| CNY|   BRL|Yuan Chinês/Real ...|  0.8737|  0.8737|   -0.0146|    -1.64|  0.8736|  0.8738|1641945605|2022-01-11 21:00:05|\n| ILS|   BRL|Novo Shekel Israe...|  1.7894|  1.7894|   -0.0176|    -0.98|  1.7892|  1.7895|1641945608|2022-01-11 21:00:08|\n| ETH|   BRL|Ethereum/Real Bra...| 1200.21| 1200.21|         0|        0| 1440.25|16999.75|1610415652|2021-01-11 22:40:52|\n| XRP|   BRL| XRP/Real Brasileiro|    4.37|    4.15|      0.16|     3.77|    4.37|    4.37|1641946610|2022-01-11 21:16:50|\n|DOGE|   BRL|Dogecoin/Real Bra...|0.912657|0.807964|0.04886298|     6.01|0.861894|0.861894|1641946445|2022-01-11 21:14:05|\n+----+------+--------------------+--------+--------+----------+---------+--------+--------+----------+-------------------+\n\n</div>",
              "removedWidgets": [],
              "addedWidgets": {},
              "metadata": {},
              "type": "html",
              "arguments": {}
            }
          },
          "data": {
            "text/html": [
              "<style scoped>\n  .ansiout {\n    display: block;\n    unicode-bidi: embed;\n    white-space: pre-wrap;\n    word-wrap: break-word;\n    word-break: break-all;\n    font-family: \"Source Code Pro\", \"Menlo\", monospace;;\n    font-size: 13px;\n    color: #555;\n    margin-left: 4px;\n    line-height: 19px;\n  }\n</style>\n<div class=\"ansiout\">+----+------+--------------------+--------+--------+----------+---------+--------+--------+----------+-------------------+\ncode|codein|                name|    high|     low|    varBid|pctChange|     bid|     ask| timestamp|        create_date|\n+----+------+--------------------+--------+--------+----------+---------+--------+--------+----------+-------------------+\n USD|   BRL|Dólar Americano/R...|  5.5691|  5.5691|    0.0005|     0.01|  5.5686|  5.5696|1641936600|2022-01-11 18:30:00|\n USD|  BRLT|Dólar Americano/R...|   5.715|   5.715|         0|        0|    5.55|    5.88|1641938401|2022-01-11 19:00:01|\n CAD|   BRL|Dólar Canadense/R...|  4.4315|  4.4264|    0.0009|     0.02|  4.4287|  4.4298|1641946596|2022-01-11 21:16:36|\n GBP|   BRL|Libra Esterlina/R...|  7.5951|   7.591|    0.0026|     0.03|  7.5933|  7.5953|1641946608|2022-01-11 21:16:48|\n ARS|   BRL|Peso Argentino/Re...|  0.0538|  0.0538|         0|        0|  0.0538|  0.0538|1641936600|2022-01-11 18:30:00|\n BTC|   BRL|Bitcoin/Real Bras...|   242.3|     235|      2564|     1.07|   241.3| 241.327|1641946606|2022-01-11 21:16:46|\n LTC|   BRL|Litecoin/Real Bra...|  752.66|  719.07|     17.31|     2.39|   741.6|   745.1|1641946608|2022-01-11 21:16:48|\n EUR|   BRL|Euro/Real Brasileiro|  6.3337|  6.3293|    0.0034|     0.05|  6.3304|  6.3337|1641946604|2022-01-11 21:16:44|\n JPY|   BRL|Iene Japonês/Real...| 0.04831| 0.04827|         0|        0| 0.04828|  0.0483|1641946605|2022-01-11 21:16:45|\n CHF|   BRL|Franco Suíço/Real...|  6.0327|  6.0258|    0.0025|     0.04|  6.0292|  6.0329|1641946604|2022-01-11 21:16:44|\n AUD|   BRL|Dólar Australiano...|  4.0181|  4.0139|    0.0012|     0.03|   4.015|  4.0162|1641946605|2022-01-11 21:16:45|\n CNY|   BRL|Yuan Chinês/Real ...|  0.8737|  0.8737|   -0.0146|    -1.64|  0.8736|  0.8738|1641945605|2022-01-11 21:00:05|\n ILS|   BRL|Novo Shekel Israe...|  1.7894|  1.7894|   -0.0176|    -0.98|  1.7892|  1.7895|1641945608|2022-01-11 21:00:08|\n ETH|   BRL|Ethereum/Real Bra...| 1200.21| 1200.21|         0|        0| 1440.25|16999.75|1610415652|2021-01-11 22:40:52|\n XRP|   BRL| XRP/Real Brasileiro|    4.37|    4.15|      0.16|     3.77|    4.37|    4.37|1641946610|2022-01-11 21:16:50|\nDOGE|   BRL|Dogecoin/Real Bra...|0.912657|0.807964|0.04886298|     6.01|0.861894|0.861894|1641946445|2022-01-11 21:14:05|\n+----+------+--------------------+--------+--------+----------+---------+--------+--------+----------+-------------------+\n\n</div>"
            ]
          },
          "transient": null
        }
      ],
      "execution_count": null
    },
    {
      "cell_type": "code",
      "source": [
        "#Utilizando SQL para consultar dados do dataframe Spark\n",
        "%sql\n",
        "SELECT * FROM df_spark"
      ],
      "metadata": {
        "application/vnd.databricks.v1+cell": {
          "title": "",
          "showTitle": false,
          "inputWidgets": {},
          "nuid": "2e3a11e1-82cf-40ba-b66e-7619c93d2964"
        },
        "id": "AXmI7sk_yZp5",
        "outputId": "b76b1f9a-870f-4b4d-97db-f549c15c5411"
      },
      "outputs": [
        {
          "output_type": "display_data",
          "metadata": {
            "application/vnd.databricks.v1+output": {
              "overflow": false,
              "datasetInfos": [],
              "data": [
                [
                  "JPY",
                  "BRL",
                  "Iene Japonês/Real Brasileiro",
                  "0.04831",
                  "0.04827",
                  "0",
                  "0",
                  "0.04828",
                  "0.0483",
                  "1641946605",
                  "2022-01-11 21:16:45"
                ],
                [
                  "CHF",
                  "BRL",
                  "Franco Suíço/Real Brasileiro",
                  "6.0327",
                  "6.0258",
                  "0.0025",
                  "0.04",
                  "6.0292",
                  "6.0329",
                  "1641946604",
                  "2022-01-11 21:16:44"
                ],
                [
                  "AUD",
                  "BRL",
                  "Dólar Australiano/Real Brasileiro",
                  "4.0181",
                  "4.0139",
                  "0.0012",
                  "0.03",
                  "4.015",
                  "4.0162",
                  "1641946605",
                  "2022-01-11 21:16:45"
                ],
                [
                  "CNY",
                  "BRL",
                  "Yuan Chinês/Real Brasileiro",
                  "0.8737",
                  "0.8737",
                  "-0.0146",
                  "-1.64",
                  "0.8736",
                  "0.8738",
                  "1641945605",
                  "2022-01-11 21:00:05"
                ],
                [
                  "ILS",
                  "BRL",
                  "Novo Shekel Israelense/Real Brasileiro",
                  "1.7894",
                  "1.7894",
                  "-0.0176",
                  "-0.98",
                  "1.7892",
                  "1.7895",
                  "1641945608",
                  "2022-01-11 21:00:08"
                ],
                [
                  "ETH",
                  "BRL",
                  "Ethereum/Real Brasileiro",
                  "1200.21",
                  "1200.21",
                  "0",
                  "0",
                  "1440.25",
                  "16999.75",
                  "1610415652",
                  "2021-01-11 22:40:52"
                ],
                [
                  "XRP",
                  "BRL",
                  "XRP/Real Brasileiro",
                  "4.37",
                  "4.15",
                  "0.16",
                  "3.77",
                  "4.37",
                  "4.37",
                  "1641946610",
                  "2022-01-11 21:16:50"
                ],
                [
                  "DOGE",
                  "BRL",
                  "Dogecoin/Real Brasileiro",
                  "0.912657",
                  "0.807964",
                  "0.04886298",
                  "6.01",
                  "0.861894",
                  "0.861894",
                  "1641946445",
                  "2022-01-11 21:14:05"
                ],
                [
                  "USD",
                  "BRL",
                  "Dólar Americano/Real Brasileiro",
                  "5.5691",
                  "5.5691",
                  "0.0005",
                  "0.01",
                  "5.5686",
                  "5.5696",
                  "1641936600",
                  "2022-01-11 18:30:00"
                ],
                [
                  "USD",
                  "BRLT",
                  "Dólar Americano/Real Brasileiro Turismo",
                  "5.715",
                  "5.715",
                  "0",
                  "0",
                  "5.55",
                  "5.88",
                  "1641938401",
                  "2022-01-11 19:00:01"
                ],
                [
                  "CAD",
                  "BRL",
                  "Dólar Canadense/Real Brasileiro",
                  "4.4315",
                  "4.4264",
                  "0.0009",
                  "0.02",
                  "4.4287",
                  "4.4298",
                  "1641946596",
                  "2022-01-11 21:16:36"
                ],
                [
                  "GBP",
                  "BRL",
                  "Libra Esterlina/Real Brasileiro",
                  "7.5951",
                  "7.591",
                  "0.0026",
                  "0.03",
                  "7.5933",
                  "7.5953",
                  "1641946608",
                  "2022-01-11 21:16:48"
                ],
                [
                  "ARS",
                  "BRL",
                  "Peso Argentino/Real Brasileiro",
                  "0.0538",
                  "0.0538",
                  "0",
                  "0",
                  "0.0538",
                  "0.0538",
                  "1641936600",
                  "2022-01-11 18:30:00"
                ],
                [
                  "BTC",
                  "BRL",
                  "Bitcoin/Real Brasileiro",
                  "242.3",
                  "235",
                  "2564",
                  "1.07",
                  "241.3",
                  "241.327",
                  "1641946606",
                  "2022-01-11 21:16:46"
                ],
                [
                  "LTC",
                  "BRL",
                  "Litecoin/Real Brasileiro",
                  "752.66",
                  "719.07",
                  "17.31",
                  "2.39",
                  "741.6",
                  "745.1",
                  "1641946608",
                  "2022-01-11 21:16:48"
                ],
                [
                  "EUR",
                  "BRL",
                  "Euro/Real Brasileiro",
                  "6.3337",
                  "6.3293",
                  "0.0034",
                  "0.05",
                  "6.3304",
                  "6.3337",
                  "1641946604",
                  "2022-01-11 21:16:44"
                ]
              ],
              "plotOptions": {
                "displayType": "plotlyLine",
                "customPlotOptions": {
                  "plotlyLine": [
                    {
                      "key": "yRange",
                      "value": ""
                    },
                    {
                      "key": "showPoints",
                      "value": false
                    },
                    {
                      "key": "logScale",
                      "value": true
                    }
                  ]
                },
                "pivotColumns": [],
                "pivotAggregation": "sum",
                "xColumns": [
                  "create_date",
                  "codein"
                ],
                "yColumns": [
                  "low",
                  "high"
                ]
              },
              "columnCustomDisplayInfos": {},
              "aggType": "",
              "isJsonSchema": true,
              "removedWidgets": [],
              "aggSchema": [],
              "schema": [
                {
                  "name": "code",
                  "type": "\"string\"",
                  "metadata": "{}"
                },
                {
                  "name": "codein",
                  "type": "\"string\"",
                  "metadata": "{}"
                },
                {
                  "name": "name",
                  "type": "\"string\"",
                  "metadata": "{}"
                },
                {
                  "name": "high",
                  "type": "\"string\"",
                  "metadata": "{}"
                },
                {
                  "name": "low",
                  "type": "\"string\"",
                  "metadata": "{}"
                },
                {
                  "name": "varBid",
                  "type": "\"string\"",
                  "metadata": "{}"
                },
                {
                  "name": "pctChange",
                  "type": "\"string\"",
                  "metadata": "{}"
                },
                {
                  "name": "bid",
                  "type": "\"string\"",
                  "metadata": "{}"
                },
                {
                  "name": "ask",
                  "type": "\"string\"",
                  "metadata": "{}"
                },
                {
                  "name": "timestamp",
                  "type": "\"string\"",
                  "metadata": "{}"
                },
                {
                  "name": "create_date",
                  "type": "\"string\"",
                  "metadata": "{}"
                }
              ],
              "aggError": "",
              "aggData": [],
              "addedWidgets": {},
              "metadata": {},
              "dbfsResultPath": null,
              "type": "table",
              "aggOverflow": false,
              "aggSeriesLimitReached": false,
              "arguments": {}
            }
          },
          "data": {
            "text/html": [
              "<style scoped>\n  .table-result-container {\n    max-height: 300px;\n    overflow: auto;\n  }\n  table, th, td {\n    border: 1px solid black;\n    border-collapse: collapse;\n  }\n  th, td {\n    padding: 5px;\n  }\n  th {\n    text-align: left;\n  }\n</style><div class='table-result-container'><table class='table-result'><thead style='background-color: white'><tr><th>code</th><th>codein</th><th>name</th><th>high</th><th>low</th><th>varBid</th><th>pctChange</th><th>bid</th><th>ask</th><th>timestamp</th><th>create_date</th></tr></thead><tbody><tr><td>JPY</td><td>BRL</td><td>Iene Japonês/Real Brasileiro</td><td>0.04831</td><td>0.04827</td><td>0</td><td>0</td><td>0.04828</td><td>0.0483</td><td>1641946605</td><td>2022-01-11 21:16:45</td></tr><tr><td>CHF</td><td>BRL</td><td>Franco Suíço/Real Brasileiro</td><td>6.0327</td><td>6.0258</td><td>0.0025</td><td>0.04</td><td>6.0292</td><td>6.0329</td><td>1641946604</td><td>2022-01-11 21:16:44</td></tr><tr><td>AUD</td><td>BRL</td><td>Dólar Australiano/Real Brasileiro</td><td>4.0181</td><td>4.0139</td><td>0.0012</td><td>0.03</td><td>4.015</td><td>4.0162</td><td>1641946605</td><td>2022-01-11 21:16:45</td></tr><tr><td>CNY</td><td>BRL</td><td>Yuan Chinês/Real Brasileiro</td><td>0.8737</td><td>0.8737</td><td>-0.0146</td><td>-1.64</td><td>0.8736</td><td>0.8738</td><td>1641945605</td><td>2022-01-11 21:00:05</td></tr><tr><td>ILS</td><td>BRL</td><td>Novo Shekel Israelense/Real Brasileiro</td><td>1.7894</td><td>1.7894</td><td>-0.0176</td><td>-0.98</td><td>1.7892</td><td>1.7895</td><td>1641945608</td><td>2022-01-11 21:00:08</td></tr><tr><td>ETH</td><td>BRL</td><td>Ethereum/Real Brasileiro</td><td>1200.21</td><td>1200.21</td><td>0</td><td>0</td><td>1440.25</td><td>16999.75</td><td>1610415652</td><td>2021-01-11 22:40:52</td></tr><tr><td>XRP</td><td>BRL</td><td>XRP/Real Brasileiro</td><td>4.37</td><td>4.15</td><td>0.16</td><td>3.77</td><td>4.37</td><td>4.37</td><td>1641946610</td><td>2022-01-11 21:16:50</td></tr><tr><td>DOGE</td><td>BRL</td><td>Dogecoin/Real Brasileiro</td><td>0.912657</td><td>0.807964</td><td>0.04886298</td><td>6.01</td><td>0.861894</td><td>0.861894</td><td>1641946445</td><td>2022-01-11 21:14:05</td></tr><tr><td>USD</td><td>BRL</td><td>Dólar Americano/Real Brasileiro</td><td>5.5691</td><td>5.5691</td><td>0.0005</td><td>0.01</td><td>5.5686</td><td>5.5696</td><td>1641936600</td><td>2022-01-11 18:30:00</td></tr><tr><td>USD</td><td>BRLT</td><td>Dólar Americano/Real Brasileiro Turismo</td><td>5.715</td><td>5.715</td><td>0</td><td>0</td><td>5.55</td><td>5.88</td><td>1641938401</td><td>2022-01-11 19:00:01</td></tr><tr><td>CAD</td><td>BRL</td><td>Dólar Canadense/Real Brasileiro</td><td>4.4315</td><td>4.4264</td><td>0.0009</td><td>0.02</td><td>4.4287</td><td>4.4298</td><td>1641946596</td><td>2022-01-11 21:16:36</td></tr><tr><td>GBP</td><td>BRL</td><td>Libra Esterlina/Real Brasileiro</td><td>7.5951</td><td>7.591</td><td>0.0026</td><td>0.03</td><td>7.5933</td><td>7.5953</td><td>1641946608</td><td>2022-01-11 21:16:48</td></tr><tr><td>ARS</td><td>BRL</td><td>Peso Argentino/Real Brasileiro</td><td>0.0538</td><td>0.0538</td><td>0</td><td>0</td><td>0.0538</td><td>0.0538</td><td>1641936600</td><td>2022-01-11 18:30:00</td></tr><tr><td>BTC</td><td>BRL</td><td>Bitcoin/Real Brasileiro</td><td>242.3</td><td>235</td><td>2564</td><td>1.07</td><td>241.3</td><td>241.327</td><td>1641946606</td><td>2022-01-11 21:16:46</td></tr><tr><td>LTC</td><td>BRL</td><td>Litecoin/Real Brasileiro</td><td>752.66</td><td>719.07</td><td>17.31</td><td>2.39</td><td>741.6</td><td>745.1</td><td>1641946608</td><td>2022-01-11 21:16:48</td></tr><tr><td>EUR</td><td>BRL</td><td>Euro/Real Brasileiro</td><td>6.3337</td><td>6.3293</td><td>0.0034</td><td>0.05</td><td>6.3304</td><td>6.3337</td><td>1641946604</td><td>2022-01-11 21:16:44</td></tr></tbody></table></div>"
            ]
          },
          "transient": null
        }
      ],
      "execution_count": null
    },
    {
      "cell_type": "code",
      "source": [
        "#Salvando a tabela como csv no diretório DBFS do Databricks\n",
        "df_spark.write.csv(\"/FileStore/tables/tabelafinal.csv\")"
      ],
      "metadata": {
        "application/vnd.databricks.v1+cell": {
          "title": "",
          "showTitle": false,
          "inputWidgets": {},
          "nuid": "a343cf85-a9f0-46f6-9cf0-99b65f31d4fe"
        },
        "id": "UT3cieXKyZp6",
        "outputId": "98884736-b2e1-4223-aae2-fb8a3736ab17"
      },
      "outputs": [
        {
          "output_type": "display_data",
          "metadata": {
            "application/vnd.databricks.v1+output": {
              "datasetInfos": [],
              "data": "<div class=\"ansiout\"></div>",
              "removedWidgets": [],
              "addedWidgets": {},
              "metadata": {},
              "type": "html",
              "arguments": {}
            }
          },
          "data": {
            "text/html": [
              "<style scoped>\n  .ansiout {\n    display: block;\n    unicode-bidi: embed;\n    white-space: pre-wrap;\n    word-wrap: break-word;\n    word-break: break-all;\n    font-family: \"Source Code Pro\", \"Menlo\", monospace;;\n    font-size: 13px;\n    color: #555;\n    margin-left: 4px;\n    line-height: 19px;\n  }\n</style>\n<div class=\"ansiout\"></div>"
            ]
          },
          "transient": null
        }
      ],
      "execution_count": null
    },
    {
      "cell_type": "code",
      "source": [
        "#Visualizando os arquivos\n",
        "dbutils.fs.ls(\"/FileStore/tables\")"
      ],
      "metadata": {
        "application/vnd.databricks.v1+cell": {
          "title": "",
          "showTitle": false,
          "inputWidgets": {},
          "nuid": "356178e7-960f-4fd2-8b2e-b7b01e96568b"
        },
        "id": "Xbf3LmfnyZp6",
        "outputId": "46e5190c-4ae9-4b2b-e4c9-6255563ab720"
      },
      "outputs": [
        {
          "output_type": "display_data",
          "metadata": {
            "application/vnd.databricks.v1+output": {
              "datasetInfos": [],
              "data": "<div class=\"ansiout\">Out[23]: [FileInfo(path=&#39;dbfs:/FileStore/tables/FACTINTERNET.csv&#39;, name=&#39;FACTINTERNET.csv&#39;, size=11721072),\n FileInfo(path=&#39;dbfs:/FileStore/tables/tabelafinal.csv/&#39;, name=&#39;tabelafinal.csv/&#39;, size=0)]</div>",
              "removedWidgets": [],
              "addedWidgets": {},
              "metadata": {},
              "type": "html",
              "arguments": {}
            }
          },
          "data": {
            "text/html": [
              "<style scoped>\n  .ansiout {\n    display: block;\n    unicode-bidi: embed;\n    white-space: pre-wrap;\n    word-wrap: break-word;\n    word-break: break-all;\n    font-family: \"Source Code Pro\", \"Menlo\", monospace;;\n    font-size: 13px;\n    color: #555;\n    margin-left: 4px;\n    line-height: 19px;\n  }\n</style>\n<div class=\"ansiout\">Out[23]: [FileInfo(path=&#39;dbfs:/FileStore/tables/FACTINTERNET.csv&#39;, name=&#39;FACTINTERNET.csv&#39;, size=11721072),\n FileInfo(path=&#39;dbfs:/FileStore/tables/tabelafinal.csv/&#39;, name=&#39;tabelafinal.csv/&#39;, size=0)]</div>"
            ]
          },
          "transient": null
        }
      ],
      "execution_count": null
    }
  ],
  "metadata": {
    "application/vnd.databricks.v1+notebook": {
      "notebookName": "Consumindo_API",
      "dashboards": [],
      "notebookMetadata": {
        "pythonIndentUnit": 4
      },
      "language": "python",
      "widgets": {},
      "notebookOrigID": 2133130625256566
    },
    "colab": {
      "name": "Consumindo_API.ipynb",
      "provenance": []
    }
  },
  "nbformat": 4,
  "nbformat_minor": 0
}